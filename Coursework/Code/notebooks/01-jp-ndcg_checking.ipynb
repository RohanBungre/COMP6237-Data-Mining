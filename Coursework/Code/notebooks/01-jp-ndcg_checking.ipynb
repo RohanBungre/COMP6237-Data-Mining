{
 "metadata": {
  "language_info": {
   "codemirror_mode": {
    "name": "ipython",
    "version": 3
   },
   "file_extension": ".py",
   "mimetype": "text/x-python",
   "name": "python",
   "nbconvert_exporter": "python",
   "pygments_lexer": "ipython3",
   "version": "3.7.10-final"
  },
  "orig_nbformat": 2,
  "kernelspec": {
   "name": "python3",
   "display_name": "Python 3.7.10 64-bit ('airbnb': conda)",
   "metadata": {
    "interpreter": {
     "hash": "7773ebcafe4907ed96f851fc896418832855b4d6aa08db90afebed987c09575f"
    }
   }
  }
 },
 "nbformat": 4,
 "nbformat_minor": 2,
 "cells": [
  {
   "cell_type": "code",
   "execution_count": 42,
   "metadata": {},
   "outputs": [],
   "source": [
    "import numpy as np"
   ]
  },
  {
   "cell_type": "code",
   "execution_count": 43,
   "metadata": {},
   "outputs": [],
   "source": [
    "def dcg(y, pred):\n",
    "    rel_i = np.where(np.asarray(list(map(lambda y_hat: y_hat == y, pred))), 1, 0)\n",
    "    print(rel_i)\n",
    "    return np.sum((2 ** rel_i - 1) / np.log2(np.arange(1, len(rel_i) + 1) + 1))\n",
    "\n",
    "\n",
    "def ndcg(y, pred):\n",
    "    return dcg(y, pred) / dcg(y, [y])\n"
   ]
  },
  {
   "cell_type": "code",
   "execution_count": 44,
   "metadata": {},
   "outputs": [
    {
     "output_type": "execute_result",
     "data": {
      "text/plain": [
       "1.0"
      ]
     },
     "metadata": {},
     "execution_count": 44
    }
   ],
   "source": [
    "dcg(\"NDF\", ['NDF', 'US', 'other', 'FR', 'IT'])"
   ]
  },
  {
   "cell_type": "code",
   "execution_count": null,
   "metadata": {},
   "outputs": [],
   "source": []
  }
 ]
}