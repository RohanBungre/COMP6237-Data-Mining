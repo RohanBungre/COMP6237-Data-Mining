{
 "metadata": {
  "language_info": {
   "codemirror_mode": {
    "name": "ipython",
    "version": 3
   },
   "file_extension": ".py",
   "mimetype": "text/x-python",
   "name": "python",
   "nbconvert_exporter": "python",
   "pygments_lexer": "ipython3",
   "version": "3.7.6-final"
  },
  "orig_nbformat": 2,
  "kernelspec": {
   "name": "python3",
   "display_name": "Python 3.7.6 64-bit (conda)",
   "metadata": {
    "interpreter": {
     "hash": "95f1bd513179ec155b64d390ddcc9bcad71f0907251713515d1de287f8f762de"
    }
   }
  }
 },
 "nbformat": 4,
 "nbformat_minor": 2,
 "cells": [
  {
   "cell_type": "code",
   "execution_count": 2,
   "metadata": {},
   "outputs": [],
   "source": [
    "import pandas as pd\n",
    "import numpy as np"
   ]
  },
  {
   "cell_type": "code",
   "execution_count": 3,
   "metadata": {},
   "outputs": [
    {
     "output_type": "display_data",
     "data": {
      "text/plain": "             user_id            action action_type  \\\n0         d1mm9tcy42            lookup         NaN   \n1         d1mm9tcy42    search_results       click   \n2         d1mm9tcy42            lookup         NaN   \n3         d1mm9tcy42    search_results       click   \n4         d1mm9tcy42            lookup         NaN   \n...              ...               ...         ...   \n10567732  9uqfg8txu3         dashboard        view   \n10567733  9uqfg8txu3              edit        view   \n10567734  9uqfg8txu3     webcam_upload   -unknown-   \n10567735  9uqfg8txu3            active   -unknown-   \n10567736  9uqfg8txu3  show_personalize        data   \n\n                        action_detail      device_type  secs_elapsed  \n0                                 NaN  Windows Desktop         319.0  \n1                 view_search_results  Windows Desktop       67753.0  \n2                                 NaN  Windows Desktop         301.0  \n3                 view_search_results  Windows Desktop       22141.0  \n4                                 NaN  Windows Desktop         435.0  \n...                               ...              ...           ...  \n10567732                    dashboard  Windows Desktop         556.0  \n10567733                 edit_profile  Windows Desktop        6624.0  \n10567734                    -unknown-  Windows Desktop      200125.0  \n10567735                    -unknown-        -unknown-       17624.0  \n10567736  user_profile_content_update  Windows Desktop        1221.0  \n\n[10567737 rows x 6 columns]",
      "text/html": "<div>\n<style scoped>\n    .dataframe tbody tr th:only-of-type {\n        vertical-align: middle;\n    }\n\n    .dataframe tbody tr th {\n        vertical-align: top;\n    }\n\n    .dataframe thead th {\n        text-align: right;\n    }\n</style>\n<table border=\"1\" class=\"dataframe\">\n  <thead>\n    <tr style=\"text-align: right;\">\n      <th></th>\n      <th>user_id</th>\n      <th>action</th>\n      <th>action_type</th>\n      <th>action_detail</th>\n      <th>device_type</th>\n      <th>secs_elapsed</th>\n    </tr>\n  </thead>\n  <tbody>\n    <tr>\n      <th>0</th>\n      <td>d1mm9tcy42</td>\n      <td>lookup</td>\n      <td>NaN</td>\n      <td>NaN</td>\n      <td>Windows Desktop</td>\n      <td>319.0</td>\n    </tr>\n    <tr>\n      <th>1</th>\n      <td>d1mm9tcy42</td>\n      <td>search_results</td>\n      <td>click</td>\n      <td>view_search_results</td>\n      <td>Windows Desktop</td>\n      <td>67753.0</td>\n    </tr>\n    <tr>\n      <th>2</th>\n      <td>d1mm9tcy42</td>\n      <td>lookup</td>\n      <td>NaN</td>\n      <td>NaN</td>\n      <td>Windows Desktop</td>\n      <td>301.0</td>\n    </tr>\n    <tr>\n      <th>3</th>\n      <td>d1mm9tcy42</td>\n      <td>search_results</td>\n      <td>click</td>\n      <td>view_search_results</td>\n      <td>Windows Desktop</td>\n      <td>22141.0</td>\n    </tr>\n    <tr>\n      <th>4</th>\n      <td>d1mm9tcy42</td>\n      <td>lookup</td>\n      <td>NaN</td>\n      <td>NaN</td>\n      <td>Windows Desktop</td>\n      <td>435.0</td>\n    </tr>\n    <tr>\n      <th>...</th>\n      <td>...</td>\n      <td>...</td>\n      <td>...</td>\n      <td>...</td>\n      <td>...</td>\n      <td>...</td>\n    </tr>\n    <tr>\n      <th>10567732</th>\n      <td>9uqfg8txu3</td>\n      <td>dashboard</td>\n      <td>view</td>\n      <td>dashboard</td>\n      <td>Windows Desktop</td>\n      <td>556.0</td>\n    </tr>\n    <tr>\n      <th>10567733</th>\n      <td>9uqfg8txu3</td>\n      <td>edit</td>\n      <td>view</td>\n      <td>edit_profile</td>\n      <td>Windows Desktop</td>\n      <td>6624.0</td>\n    </tr>\n    <tr>\n      <th>10567734</th>\n      <td>9uqfg8txu3</td>\n      <td>webcam_upload</td>\n      <td>-unknown-</td>\n      <td>-unknown-</td>\n      <td>Windows Desktop</td>\n      <td>200125.0</td>\n    </tr>\n    <tr>\n      <th>10567735</th>\n      <td>9uqfg8txu3</td>\n      <td>active</td>\n      <td>-unknown-</td>\n      <td>-unknown-</td>\n      <td>-unknown-</td>\n      <td>17624.0</td>\n    </tr>\n    <tr>\n      <th>10567736</th>\n      <td>9uqfg8txu3</td>\n      <td>show_personalize</td>\n      <td>data</td>\n      <td>user_profile_content_update</td>\n      <td>Windows Desktop</td>\n      <td>1221.0</td>\n    </tr>\n  </tbody>\n</table>\n<p>10567737 rows × 6 columns</p>\n</div>"
     },
     "metadata": {}
    }
   ],
   "source": [
    "sessions_df = pd.read_csv(\"../data/raw/sessions.csv\")\n",
    "display(sessions_df)"
   ]
  },
  {
   "cell_type": "code",
   "execution_count": 4,
   "metadata": {},
   "outputs": [
    {
     "output_type": "execute_result",
     "data": {
      "text/plain": [
       "            action  action_type  action_detail  device_type  secs_elapsed\n",
       "user_id                                                                  \n",
       "00023iyk9l      39           37             37           40            39\n",
       "0010k6l0om      63           48             48           63            62\n",
       "001wyh0pz8      90           85             85           90            89\n",
       "0028jgx1x1      31           31             31           31            30\n",
       "002qnbzfs5     782          712            712          789           788\n",
       "...            ...          ...            ...          ...           ...\n",
       "zzxox7jnrx      89           72             72           89            88\n",
       "zzy7t0y9cm       8            7              7            8             7\n",
       "zzysuoqg6x       3            3              3            3             2\n",
       "zzywmcn0jv      49           43             43           51            50\n",
       "zzzlylp57e      73           68             68           74            73\n",
       "\n",
       "[135483 rows x 5 columns]"
      ],
      "text/html": "<div>\n<style scoped>\n    .dataframe tbody tr th:only-of-type {\n        vertical-align: middle;\n    }\n\n    .dataframe tbody tr th {\n        vertical-align: top;\n    }\n\n    .dataframe thead th {\n        text-align: right;\n    }\n</style>\n<table border=\"1\" class=\"dataframe\">\n  <thead>\n    <tr style=\"text-align: right;\">\n      <th></th>\n      <th>action</th>\n      <th>action_type</th>\n      <th>action_detail</th>\n      <th>device_type</th>\n      <th>secs_elapsed</th>\n    </tr>\n    <tr>\n      <th>user_id</th>\n      <th></th>\n      <th></th>\n      <th></th>\n      <th></th>\n      <th></th>\n    </tr>\n  </thead>\n  <tbody>\n    <tr>\n      <th>00023iyk9l</th>\n      <td>39</td>\n      <td>37</td>\n      <td>37</td>\n      <td>40</td>\n      <td>39</td>\n    </tr>\n    <tr>\n      <th>0010k6l0om</th>\n      <td>63</td>\n      <td>48</td>\n      <td>48</td>\n      <td>63</td>\n      <td>62</td>\n    </tr>\n    <tr>\n      <th>001wyh0pz8</th>\n      <td>90</td>\n      <td>85</td>\n      <td>85</td>\n      <td>90</td>\n      <td>89</td>\n    </tr>\n    <tr>\n      <th>0028jgx1x1</th>\n      <td>31</td>\n      <td>31</td>\n      <td>31</td>\n      <td>31</td>\n      <td>30</td>\n    </tr>\n    <tr>\n      <th>002qnbzfs5</th>\n      <td>782</td>\n      <td>712</td>\n      <td>712</td>\n      <td>789</td>\n      <td>788</td>\n    </tr>\n    <tr>\n      <th>...</th>\n      <td>...</td>\n      <td>...</td>\n      <td>...</td>\n      <td>...</td>\n      <td>...</td>\n    </tr>\n    <tr>\n      <th>zzxox7jnrx</th>\n      <td>89</td>\n      <td>72</td>\n      <td>72</td>\n      <td>89</td>\n      <td>88</td>\n    </tr>\n    <tr>\n      <th>zzy7t0y9cm</th>\n      <td>8</td>\n      <td>7</td>\n      <td>7</td>\n      <td>8</td>\n      <td>7</td>\n    </tr>\n    <tr>\n      <th>zzysuoqg6x</th>\n      <td>3</td>\n      <td>3</td>\n      <td>3</td>\n      <td>3</td>\n      <td>2</td>\n    </tr>\n    <tr>\n      <th>zzywmcn0jv</th>\n      <td>49</td>\n      <td>43</td>\n      <td>43</td>\n      <td>51</td>\n      <td>50</td>\n    </tr>\n    <tr>\n      <th>zzzlylp57e</th>\n      <td>73</td>\n      <td>68</td>\n      <td>68</td>\n      <td>74</td>\n      <td>73</td>\n    </tr>\n  </tbody>\n</table>\n<p>135483 rows × 5 columns</p>\n</div>"
     },
     "metadata": {},
     "execution_count": 4
    }
   ],
   "source": [
    "sessions_df.groupby(\"user_id\").count()"
   ]
  },
  {
   "cell_type": "code",
   "execution_count": 5,
   "metadata": {},
   "outputs": [
    {
     "output_type": "execute_result",
     "data": {
      "text/plain": [
       "            secs_elapsed\n",
       "user_id                 \n",
       "00023iyk9l      867896.0\n",
       "0010k6l0om      586543.0\n",
       "001wyh0pz8      282965.0\n",
       "0028jgx1x1      297010.0\n",
       "002qnbzfs5     6487080.0\n",
       "...                  ...\n",
       "zzxox7jnrx      639436.0\n",
       "zzy7t0y9cm       73771.0\n",
       "zzysuoqg6x        1731.0\n",
       "zzywmcn0jv     2149949.0\n",
       "zzzlylp57e      430959.0\n",
       "\n",
       "[135483 rows x 1 columns]"
      ],
      "text/html": "<div>\n<style scoped>\n    .dataframe tbody tr th:only-of-type {\n        vertical-align: middle;\n    }\n\n    .dataframe tbody tr th {\n        vertical-align: top;\n    }\n\n    .dataframe thead th {\n        text-align: right;\n    }\n</style>\n<table border=\"1\" class=\"dataframe\">\n  <thead>\n    <tr style=\"text-align: right;\">\n      <th></th>\n      <th>secs_elapsed</th>\n    </tr>\n    <tr>\n      <th>user_id</th>\n      <th></th>\n    </tr>\n  </thead>\n  <tbody>\n    <tr>\n      <th>00023iyk9l</th>\n      <td>867896.0</td>\n    </tr>\n    <tr>\n      <th>0010k6l0om</th>\n      <td>586543.0</td>\n    </tr>\n    <tr>\n      <th>001wyh0pz8</th>\n      <td>282965.0</td>\n    </tr>\n    <tr>\n      <th>0028jgx1x1</th>\n      <td>297010.0</td>\n    </tr>\n    <tr>\n      <th>002qnbzfs5</th>\n      <td>6487080.0</td>\n    </tr>\n    <tr>\n      <th>...</th>\n      <td>...</td>\n    </tr>\n    <tr>\n      <th>zzxox7jnrx</th>\n      <td>639436.0</td>\n    </tr>\n    <tr>\n      <th>zzy7t0y9cm</th>\n      <td>73771.0</td>\n    </tr>\n    <tr>\n      <th>zzysuoqg6x</th>\n      <td>1731.0</td>\n    </tr>\n    <tr>\n      <th>zzywmcn0jv</th>\n      <td>2149949.0</td>\n    </tr>\n    <tr>\n      <th>zzzlylp57e</th>\n      <td>430959.0</td>\n    </tr>\n  </tbody>\n</table>\n<p>135483 rows × 1 columns</p>\n</div>"
     },
     "metadata": {},
     "execution_count": 5
    }
   ],
   "source": [
    "sessions_df.groupby(\"user_id\").sum()"
   ]
  },
  {
   "cell_type": "code",
   "execution_count": 6,
   "metadata": {},
   "outputs": [
    {
     "output_type": "stream",
     "name": "stdout",
     "text": [
      "['10', '11', '12', '15', 'about_us', 'accept_decline', 'account', 'acculynk_bin_check_failed', 'acculynk_bin_check_success', 'acculynk_load_pin_pad', 'acculynk_pin_pad_error', 'acculynk_pin_pad_inactive', 'acculynk_pin_pad_success', 'acculynk_session_obtained', 'active', 'add_business_address_colorbox', 'add_guest_colorbox', 'add_guests', 'add_note', 'agree_terms_check', 'agree_terms_uncheck', 'airbnb_picks', 'airbrb', 'ajax_check_dates', 'ajax_get_referrals_amt', 'ajax_get_results', 'ajax_google_translate', 'ajax_google_translate_description', 'ajax_google_translate_reviews', 'ajax_image_upload', 'ajax_ldp', 'ajax_lwlb_contact', 'ajax_payout_edit', 'ajax_payout_options_by_country', 'ajax_payout_split_edit', 'ajax_photo_widget', 'ajax_photo_widget_form_iframe', 'ajax_price_and_availability', 'ajax_referral_banner_experiment_type', 'ajax_referral_banner_type', 'ajax_refresh_subtotal', 'ajax_send_message', 'ajax_special_offer_dates_available', 'ajax_statsd', 'ajax_worth', 'apply', 'apply_code', 'apply_coupon_click', 'apply_coupon_click_success', 'apply_coupon_error', 'apply_coupon_error_type', 'apply_reservation', 'approve', 'ask_question', 'at_checkpoint', 'authenticate', 'authorize', 'available', 'badge', 'become_user', 'book', 'booking', 'braintree_client_token', 'business_travel', 'calendar_tab_inner2', 'callback', 'campaigns', 'cancel', 'cancellation_policies', 'cancellation_policy_click', 'change', 'change_availability', 'change_currency', 'change_default_payout', 'change_password', 'check', 'city_count', 'clear_reservation', 'click', 'clickthrough', 'collections', 'complete', 'complete_redirect', 'complete_status', 'concierge', 'confirm_email', 'confirmation', 'connect', 'contact_new', 'countries', 'country_options', 'coupon_code_click', 'coupon_field_focus', 'create', 'create_ach', 'create_airbnb', 'create_multiple', 'create_paypal', 'currencies', 'custom_recommended_destinations', 'dashboard', 'deactivate', 'deactivated', 'deauthorize', 'decision_tree', 'delete', 'department', 'departments', 'desks', 'destroy', 'detect_fb_session', 'disaster_action', 'domains', 'edit', 'edit_verification', 'email_by_key', 'email_itinerary_colorbox', 'email_share', 'email_wishlist', 'endpoint_error', 'envoy_bank_details_redirect', 'envoy_form', 'events', 'facebook_auto_login', 'faq', 'faq_category', 'faq_experiment_ids', 'feed', 'forgot_password', 'founders', 'friend_listing', 'friends', 'friends_new', 'glob', 'google_importer', 'guarantee', 'guest_billing_receipt', 'guest_booked_elsewhere', 'handle_vanity_url', 'hard_fallback_submit', 'has_profile_pic', 'header_userpic', 'home_safety_landing', 'home_safety_terms', 'hospitality', 'hospitality_standards', 'host_2013', 'host_cancel', 'host_summary', 'hosting_social_proof', 'how_it_works', 'identity', 'image_order', 'impressions', 'index', 'invalid_action', 'issue', 'itinerary', 'jumio', 'jumio_redirect', 'jumio_token', 'kba', 'kba_update', 'languages_multiselect', 'life', 'listing', 'listings', 'load_more', 'locale_from_host', 'localization_settings', 'localized', 'locations', 'login', 'login_modal', 'lookup', 'manage_listing', 'maybe_information', 'media_resources', 'message', 'message_to_host_change', 'message_to_host_focus', 'mobile_landing_page', 'mobile_oauth_callback', 'multi', 'multi_message', 'multi_message_attributes', 'my', 'my_listings', 'my_reservations', 'nan', 'new', 'new_host', 'new_session', 'notifications', 'nyan', 'office_location', 'onenight', 'open_graph_setting', 'open_hard_fallback_modal', 'other_hosting_reviews', 'other_hosting_reviews_first', 'overview', 'p4_refund_policy_terms', 'p4_terms', 'patch', 'pay', 'payment_instruments', 'payment_methods', 'payoneer_account_redirect', 'payoneer_signup_complete', 'payout_delete', 'payout_preferences', 'payout_update', 'pending', 'pending_tickets', 'personalize', 'phone_number_widget', 'phone_verification', 'phone_verification_call_taking_too_long', 'phone_verification_error', 'phone_verification_modal', 'phone_verification_number_submitted_for_call', 'phone_verification_number_submitted_for_sms', 'phone_verification_number_sucessfully_submitted', 'phone_verification_phone_number_removed', 'phone_verification_success', 'photography', 'photography_update', 'place_worth', 'plaxo_cb', 'popular', 'popular_listing', 'populate_from_facebook', 'populate_help_dropdown', 'position', 'preapproval', 'press_content', 'press_news', 'press_release', 'pricing', 'print_confirmation', 'privacy', 'profile_pic', 'push_notification_callback', 'qt2', 'qt_reply_v2', 'qt_with', 'questions', 'rate', 'reactivate', 'read_policy_click', 'receipt', 'recent_reservations', 'recommend', 'recommendation_page', 'recommendations', 'recommended_listings', 'redirect', 'references', 'referrer_status', 'refund_guest_cancellation', 'relationship', 'remove_dashboard_alert', 'rentals', 'report', 'reputation', 'request_new_confirm_email', 'request_photography', 'requested', 'requirements', 'reservation', 'reset_calendar', 'respond', 'rest-of-world', 'revert_to_admin', 'review_page', 'reviews', 'reviews_new', 'salute', 'sandy', 'satisfy', 'search', 'search_results', 'set_default', 'set_minimum_payout_amount', 'set_password', 'set_user', 'settings', 'show', 'show_code', 'show_personalize', 'signature', 'signed_out_modal', 'signup_login', 'signup_modal', 'signup_weibo', 'signup_weibo_referral', 'similar_listings', 'similar_listings_v2', 'sldf', 'slideshow', 'social', 'social-media', 'social_connections', 'south-america', 'southern-europe', 'special_offer', 'spoken_languages', 'status', 'stpcv', 'sublets', 'submit_contact', 'support_phone_numbers', 'supported', 'sync', 'tell_a_friend', 'terms', 'terms_and_conditions', 'this_hosting_reviews', 'this_hosting_reviews_3000', 'toggle_archived_thread', 'toggle_availability', 'toggle_starred_thread', 'top_destinations', 'tos_2014', 'tos_confirm', 'track_activity', 'track_page_view', 'transaction_history', 'transaction_history_paginated', 'travel', 'travel_plans_current', 'travel_plans_previous', 'trust', 'unavailabilities', 'united-states', 'unread', 'unsubscribe', 'update', 'update_cached', 'update_country_of_residence', 'update_friends_display', 'update_hide_from_search_engines', 'update_message', 'update_notifications', 'update_reservation_requirements', 'upload', 'uptodate', 'use_mobile_site', 'verify', 'view', 'views', 'views_campaign', 'views_campaign_rules', 'webcam_upload', 'weibo_signup_referral_finish', 'why_host', 'widget', 'wishlists', 'zendesk_login_jwt']\n360\n"
     ]
    }
   ],
   "source": [
    "actions = [str(x) for x in sessions_df.action.unique().tolist()]\n",
    "print(sorted(actions))\n",
    "print(len(actions))"
   ]
  },
  {
   "source": [
    "We have a lot of information here and most of the actions are vaque and I'm not sure how we could use them. Also, there are 360 different actions."
   ],
   "cell_type": "markdown",
   "metadata": {}
  },
  {
   "cell_type": "code",
   "execution_count": 7,
   "metadata": {},
   "outputs": [
    {
     "output_type": "stream",
     "name": "stdout",
     "text": [
      "Counter({'show': 2768278, 'index': 843699, 'search_results': 725226, 'personalize': 706824, 'search': 536057, 'ajax_refresh_subtotal': 487744, 'update': 365130, 'similar_listings': 364624, 'social_connections': 339000, 'reviews': 320591, 'active': 188036, 'similar_listings_v2': 168788, 'lookup': 162041, 'create': 155887, 'dashboard': 152952, 'header_userpic': 141830, 'collections': 124417, 'edit': 109083, 'campaigns': 105028, 'track_page_view': 81117, nan: 79626, 'unavailabilities': 78317, 'qt2': 64651, 'notifications': 59392, 'confirm_email': 58726, 'requested': 57034, 'identity': 53631, 'ajax_check_dates': 52517, 'show_personalize': 50434, 'ask_question': 44063, 'listings': 43656, 'authenticate': 42930, 'calendar_tab_inner2': 42198, 'travel_plans_current': 38195, 'edit_verification': 33434, 'ajax_lwlb_contact': 33413, 'other_hosting_reviews_first': 31045, 'recommendations': 30592, 'impressions': 27787, 'manage_listing': 26618, 'click': 25571, 'complete_status': 24674, 'ajax_photo_widget_form_iframe': 24442, 'payment_instruments': 23573, 'message_to_host_focus': 21636, 'verify': 21372, 'payment_methods': 19800, 'cancellation_policies': 19262, 'callback': 19132, 'settings': 16766, 'custom_recommended_destinations': 16541, 'pending': 16000, 'profile_pic': 15819, 'populate_help_dropdown': 15313, 'message_to_host_change': 14224, 'ajax_image_upload': 13570, 'view': 13159, 'kba_update': 12693, 'references': 11395, 'my': 11315, 'ajax_get_referrals_amt': 11306, 'new': 11108, 'agree_terms_check': 10938, 'apply_reservation': 10915, 'connect': 10114, 'recommended_listings': 10003, 'faq': 9475, 'populate_from_facebook': 9181, 'account': 9040, 'available': 8729, 'jumio_token': 8686, 'qt_reply_v2': 8534, 'signup_login': 8408, 'request_new_confirm_email': 7933, 'kba': 7922, 'handle_vanity_url': 7921, 'coupon_field_focus': 7608, 'phone_number_widget': 7326, 'open_graph_setting': 7230, 'set_user': 7012, 'faq_category': 6598, 'apply_coupon_click': 6223, 'reviews_new': 5827, 'apply_coupon_error': 5566, 'apply_coupon_error_type': 5550, 'localization_settings': 5414, 'languages_multiselect': 5405, 'at_checkpoint': 5170, 'jumio_redirect': 5156, 'delete': 5029, 'ajax_referral_banner_experiment_type': 4922, 'login': 4811, 'endpoint_error': 4769, 'payout_preferences': 4569, 'complete_redirect': 4506, 'status': 4480, 'ajax_referral_banner_type': 4460, 'hosting_social_proof': 4368, 'referrer_status': 4268, 'facebook_auto_login': 3984, 'read_policy_click': 3905, 'this_hosting_reviews': 3869, 'cancellation_policy_click': 3461, 'uptodate': 3342, 'push_notification_callback': 3341, 'tell_a_friend': 3305, '10': 3215, 'phone_verification_number_submitted_for_sms': 2966, 'tos_confirm': 2952, 'coupon_code_click': 2947, 'decision_tree': 2744, 'recent_reservations': 2478, 'phone_verification_number_sucessfully_submitted': 2467, 'pay': 2298, '12': 2209, 'popular': 2160, 'host_summary': 2111, 'create_multiple': 2101, 'transaction_history': 2033, 'phone_verification_success': 2032, 'login_modal': 1977, 'terms': 1946, 'ajax_statsd': 1945, 'privacy': 1943, 'itinerary': 1870, 'signup_modal': 1831, 'signature': 1817, 'contact_new': 1796, 'qt_with': 1793, 'phone_verification_modal': 1582, 'patch': 1578, 'set_password': 1572, 'domains': 1532, 'spoken_languages': 1475, 'this_hosting_reviews_3000': 1376, 'update_notifications': 1316, 'top_destinations': 1279, 'supported': 1275, 'pending_tickets': 1272, 'glob': 1242, 'complete': 1133, 'transaction_history_paginated': 1130, 'change': 1116, 'faq_experiment_ids': 1092, 'signed_out_modal': 1058, '15': 1053, 'authorize': 1040, 'phone_verification_error': 1035, 'position': 974, 'add_note': 961, 'ajax_google_translate_reviews': 951, 'ajax_google_translate_description': 933, 'issue': 865, 'update_cached': 835, 'remove_dashboard_alert': 817, 'webcam_upload': 815, 'apply_code': 810, 'friends': 804, 'listing': 774, 'upload': 762, 'forgot_password': 760, 'other_hosting_reviews': 750, 'how_it_works': 749, 'trust': 743, 'my_listings': 730, '11': 716, 'requirements': 715, 'ajax_payout_edit': 714, 'phone_verification_number_submitted_for_call': 693, 'ajax_payout_options_by_country': 685, 'travel_plans_previous': 675, 'photography': 633, 'mobile_landing_page': 619, 'change_currency': 606, 'agree_terms_uncheck': 598, 'cancel': 583, 'review_page': 564, 'my_reservations': 553, 'rate': 508, 'friends_new': 476, 'payout_update': 469, 'receipt': 459, 'mobile_oauth_callback': 434, 'image_order': 419, 'department': 417, 'about_us': 416, 'email_wishlist': 388, 'overview': 383, 'toggle_archived_thread': 380, 'recommend': 377, 'p4_refund_policy_terms': 370, 'ajax_get_results': 369, 'multi': 332, 'terms_and_conditions': 329, 'apply_coupon_click_success': 329, 'jumio': 321, 'email_share': 319, 'salute': 318, 'currencies': 297, 'p4_terms': 292, 'ajax_google_translate': 290, 'airbnb_picks': 278, 'show_code': 259, 'guarantee': 248, 'departments': 246, 'book': 243, 'submit_contact': 241, 'clickthrough': 238, 'update_hide_from_search_engines': 226, 'destroy': 226, 'guest_booked_elsewhere': 221, 'phone_verification_phone_number_removed': 208, 'toggle_starred_thread': 206, 'phone_verification_call_taking_too_long': 195, 'relationship': 189, 'countries': 182, 'why_host': 180, 'become_user': 180, 'ajax_price_and_availability': 175, 'change_password': 172, 'update_friends_display': 171, 'office_location': 163, 'country_options': 155, 'email_itinerary_colorbox': 140, 'invalid_action': 139, 'home_safety_landing': 134, 'check': 120, 'braintree_client_token': 120, 'clear_reservation': 119, 'place_worth': 108, 'popular_listing': 93, 'signup_weibo_referral': 90, 'create_airbnb': 87, 'hospitality': 83, 'widget': 75, 'locations': 75, 'new_session': 69, 'print_confirmation': 69, 'founders': 62, 'add_guests': 60, 'request_photography': 59, 'update_country_of_residence': 59, 'reputation': 57, 'ajax_worth': 56, 'update_reservation_requirements': 55, 'social': 55, 'press_release': 54, 'multi_message': 52, 'press_news': 52, 'acculynk_session_obtained': 52, 'multi_message_attributes': 51, 'acculynk_bin_check_success': 51, 'guest_billing_receipt': 50, 'acculynk_load_pin_pad': 50, 'detect_fb_session': 49, 'hospitality_standards': 48, 'concierge': 47, 'change_availability': 47, 'create_paypal': 47, 'payoneer_account_redirect': 45, 'weibo_signup_referral_finish': 45, 'unread': 40, 'slideshow': 40, 'create_ach': 39, 'reservation': 38, 'redirect': 35, 'badge': 34, 'sublets': 31, 'home_safety_terms': 31, 'united-states': 30, 'acculynk_pin_pad_inactive': 30, 'life': 28, 'host_2013': 27, 'zendesk_login_jwt': 24, 'google_importer': 22, 'views': 22, 'ajax_send_message': 21, 'payoneer_signup_complete': 21, 'set_default': 21, 'support_phone_numbers': 20, 'ajax_ldp': 19, 'has_profile_pic': 18, 'phone_verification': 16, 'onenight': 15, 'localized': 15, 'press_content': 14, 'business_travel': 14, 'load_more': 13, 'media_resources': 12, 'feed': 11, 'approve': 11, 'respond': 11, 'questions': 11, 'open_hard_fallback_modal': 10, 'signup_weibo': 10, 'change_default_payout': 9, 'satisfy': 9, 'add_business_address_colorbox': 9, 'ajax_photo_widget': 8, 'city_count': 8, 'envoy_form': 8, 'email_by_key': 8, 'rentals': 7, 'maybe_information': 7, 'pricing': 7, 'ajax_payout_split_edit': 7, 'social-media': 7, 'add_guest_colorbox': 7, 'new_host': 6, 'photography_update': 6, 'track_activity': 6, 'disaster_action': 6, 'travel': 5, 'payout_delete': 5, 'apply': 5, 'sync': 5, 'acculynk_pin_pad_success': 5, 'booking': 4, 'message': 4, 'southern-europe': 4, 'locale_from_host': 4, 'acculynk_pin_pad_error': 4, 'hard_fallback_submit': 4, 'toggle_availability': 3, 'ajax_special_offer_dates_available': 3, 'airbrb': 3, 'preapproval': 2, 'envoy_bank_details_redirect': 2, 'recommendation_page': 2, 'friend_listing': 2, 'views_campaign': 2, 'use_mobile_site': 2, 'special_offer': 2, 'tos_2014': 2, 'views_campaign_rules': 2, 'confirmation': 2, 'sandy': 2, 'unsubscribe': 2, 'reset_calendar': 2, 'report': 2, 'south-america': 2, 'stpcv': 2, 'refund_guest_cancellation': 2, 'accept_decline': 2, 'rest-of-world': 2, 'nyan': 1, 'wishlists': 1, 'sldf': 1, 'plaxo_cb': 1, 'deactivate': 1, 'update_message': 1, 'deauthorize': 1, 'reactivate': 1, 'desks': 1, 'host_cancel': 1, 'acculynk_bin_check_failed': 1, 'events': 1, 'revert_to_admin': 1, 'set_minimum_payout_amount': 1, 'deactivated': 1})\n"
     ]
    }
   ],
   "source": [
    "from collections import Counter\n",
    "c = Counter(sessions_df.action.tolist())\n",
    "print(c)"
   ]
  },
  {
   "cell_type": "code",
   "execution_count": 8,
   "metadata": {},
   "outputs": [
    {
     "output_type": "stream",
     "name": "stdout",
     "text": [
      "Counter({'view': 3560902, 'data': 2103770, 'click': 1996183, nan: 1126204, '-unknown-': 1031170, 'submit': 623357, 'message_post': 87103, 'partner_callback': 19132, 'booking_request': 18773, 'modify': 1139, 'booking_response': 4})\n"
     ]
    }
   ],
   "source": [
    "c = Counter(sessions_df.action_type.tolist())\n",
    "print(c)"
   ]
  },
  {
   "source": [
    "There may be something we could do with action_type where we count how many times each user did each of the actions\n",
    "Another idea is summing the secs_elapsed or averaging for each user"
   ],
   "cell_type": "markdown",
   "metadata": {}
  },
  {
   "cell_type": "code",
   "execution_count": 9,
   "metadata": {},
   "outputs": [
    {
     "output_type": "stream",
     "name": "stdout",
     "text": [
      "135484\n"
     ]
    }
   ],
   "source": [
    "session_users = sessions_df.user_id.unique().tolist()\n",
    "print(len(session_users))"
   ]
  },
  {
   "cell_type": "code",
   "execution_count": 10,
   "metadata": {},
   "outputs": [
    {
     "output_type": "display_data",
     "data": {
      "text/plain": "                id date_account_created  timestamp_first_active  \\\n0       gxn3p5htnn           2010-06-28          20090319043255   \n1       820tgsjxq7           2011-05-25          20090523174809   \n2       4ft3gnwmtx           2010-09-28          20090609231247   \n3       bjjt8pjhuk           2011-12-05          20091031060129   \n4       87mebub9p4           2010-09-14          20091208061105   \n...            ...                  ...                     ...   \n213446  zxodksqpep           2014-06-30          20140630235636   \n213447  mhewnxesx9           2014-06-30          20140630235719   \n213448  6o3arsjbb4           2014-06-30          20140630235754   \n213449  jh95kwisub           2014-06-30          20140630235822   \n213450  nw9fwlyb5f           2014-06-30          20140630235824   \n\n       date_first_booking     gender   age signup_method  signup_flow  \\\n0                     NaN  -unknown-   NaN      facebook            0   \n1                     NaN       MALE  38.0      facebook            0   \n2              2010-08-02     FEMALE  56.0         basic            3   \n3              2012-09-08     FEMALE  42.0      facebook            0   \n4              2010-02-18  -unknown-  41.0         basic            0   \n...                   ...        ...   ...           ...          ...   \n213446                NaN       MALE  32.0         basic            0   \n213447                NaN  -unknown-   NaN         basic            0   \n213448                NaN  -unknown-  32.0         basic            0   \n213449                NaN  -unknown-   NaN         basic           25   \n213450                NaN  -unknown-   NaN         basic           25   \n\n       language affiliate_channel affiliate_provider first_affiliate_tracked  \\\n0            en            direct             direct               untracked   \n1            en               seo             google               untracked   \n2            en            direct             direct               untracked   \n3            en            direct             direct               untracked   \n4            en            direct             direct               untracked   \n...         ...               ...                ...                     ...   \n213446       en         sem-brand             google                     omg   \n213447       en            direct             direct                  linked   \n213448       en            direct             direct               untracked   \n213449       en             other              other           tracked-other   \n213450       en            direct             direct               untracked   \n\n       signup_app first_device_type  first_browser country_destination  \n0             Web       Mac Desktop         Chrome                 NDF  \n1             Web       Mac Desktop         Chrome                 NDF  \n2             Web   Windows Desktop             IE                  US  \n3             Web       Mac Desktop        Firefox               other  \n4             Web       Mac Desktop         Chrome                  US  \n...           ...               ...            ...                 ...  \n213446        Web       Mac Desktop         Safari                 NDF  \n213447        Web   Windows Desktop         Chrome                 NDF  \n213448        Web       Mac Desktop        Firefox                 NDF  \n213449        iOS            iPhone  Mobile Safari                 NDF  \n213450        iOS            iPhone      -unknown-                 NDF  \n\n[213451 rows x 16 columns]",
      "text/html": "<div>\n<style scoped>\n    .dataframe tbody tr th:only-of-type {\n        vertical-align: middle;\n    }\n\n    .dataframe tbody tr th {\n        vertical-align: top;\n    }\n\n    .dataframe thead th {\n        text-align: right;\n    }\n</style>\n<table border=\"1\" class=\"dataframe\">\n  <thead>\n    <tr style=\"text-align: right;\">\n      <th></th>\n      <th>id</th>\n      <th>date_account_created</th>\n      <th>timestamp_first_active</th>\n      <th>date_first_booking</th>\n      <th>gender</th>\n      <th>age</th>\n      <th>signup_method</th>\n      <th>signup_flow</th>\n      <th>language</th>\n      <th>affiliate_channel</th>\n      <th>affiliate_provider</th>\n      <th>first_affiliate_tracked</th>\n      <th>signup_app</th>\n      <th>first_device_type</th>\n      <th>first_browser</th>\n      <th>country_destination</th>\n    </tr>\n  </thead>\n  <tbody>\n    <tr>\n      <th>0</th>\n      <td>gxn3p5htnn</td>\n      <td>2010-06-28</td>\n      <td>20090319043255</td>\n      <td>NaN</td>\n      <td>-unknown-</td>\n      <td>NaN</td>\n      <td>facebook</td>\n      <td>0</td>\n      <td>en</td>\n      <td>direct</td>\n      <td>direct</td>\n      <td>untracked</td>\n      <td>Web</td>\n      <td>Mac Desktop</td>\n      <td>Chrome</td>\n      <td>NDF</td>\n    </tr>\n    <tr>\n      <th>1</th>\n      <td>820tgsjxq7</td>\n      <td>2011-05-25</td>\n      <td>20090523174809</td>\n      <td>NaN</td>\n      <td>MALE</td>\n      <td>38.0</td>\n      <td>facebook</td>\n      <td>0</td>\n      <td>en</td>\n      <td>seo</td>\n      <td>google</td>\n      <td>untracked</td>\n      <td>Web</td>\n      <td>Mac Desktop</td>\n      <td>Chrome</td>\n      <td>NDF</td>\n    </tr>\n    <tr>\n      <th>2</th>\n      <td>4ft3gnwmtx</td>\n      <td>2010-09-28</td>\n      <td>20090609231247</td>\n      <td>2010-08-02</td>\n      <td>FEMALE</td>\n      <td>56.0</td>\n      <td>basic</td>\n      <td>3</td>\n      <td>en</td>\n      <td>direct</td>\n      <td>direct</td>\n      <td>untracked</td>\n      <td>Web</td>\n      <td>Windows Desktop</td>\n      <td>IE</td>\n      <td>US</td>\n    </tr>\n    <tr>\n      <th>3</th>\n      <td>bjjt8pjhuk</td>\n      <td>2011-12-05</td>\n      <td>20091031060129</td>\n      <td>2012-09-08</td>\n      <td>FEMALE</td>\n      <td>42.0</td>\n      <td>facebook</td>\n      <td>0</td>\n      <td>en</td>\n      <td>direct</td>\n      <td>direct</td>\n      <td>untracked</td>\n      <td>Web</td>\n      <td>Mac Desktop</td>\n      <td>Firefox</td>\n      <td>other</td>\n    </tr>\n    <tr>\n      <th>4</th>\n      <td>87mebub9p4</td>\n      <td>2010-09-14</td>\n      <td>20091208061105</td>\n      <td>2010-02-18</td>\n      <td>-unknown-</td>\n      <td>41.0</td>\n      <td>basic</td>\n      <td>0</td>\n      <td>en</td>\n      <td>direct</td>\n      <td>direct</td>\n      <td>untracked</td>\n      <td>Web</td>\n      <td>Mac Desktop</td>\n      <td>Chrome</td>\n      <td>US</td>\n    </tr>\n    <tr>\n      <th>...</th>\n      <td>...</td>\n      <td>...</td>\n      <td>...</td>\n      <td>...</td>\n      <td>...</td>\n      <td>...</td>\n      <td>...</td>\n      <td>...</td>\n      <td>...</td>\n      <td>...</td>\n      <td>...</td>\n      <td>...</td>\n      <td>...</td>\n      <td>...</td>\n      <td>...</td>\n      <td>...</td>\n    </tr>\n    <tr>\n      <th>213446</th>\n      <td>zxodksqpep</td>\n      <td>2014-06-30</td>\n      <td>20140630235636</td>\n      <td>NaN</td>\n      <td>MALE</td>\n      <td>32.0</td>\n      <td>basic</td>\n      <td>0</td>\n      <td>en</td>\n      <td>sem-brand</td>\n      <td>google</td>\n      <td>omg</td>\n      <td>Web</td>\n      <td>Mac Desktop</td>\n      <td>Safari</td>\n      <td>NDF</td>\n    </tr>\n    <tr>\n      <th>213447</th>\n      <td>mhewnxesx9</td>\n      <td>2014-06-30</td>\n      <td>20140630235719</td>\n      <td>NaN</td>\n      <td>-unknown-</td>\n      <td>NaN</td>\n      <td>basic</td>\n      <td>0</td>\n      <td>en</td>\n      <td>direct</td>\n      <td>direct</td>\n      <td>linked</td>\n      <td>Web</td>\n      <td>Windows Desktop</td>\n      <td>Chrome</td>\n      <td>NDF</td>\n    </tr>\n    <tr>\n      <th>213448</th>\n      <td>6o3arsjbb4</td>\n      <td>2014-06-30</td>\n      <td>20140630235754</td>\n      <td>NaN</td>\n      <td>-unknown-</td>\n      <td>32.0</td>\n      <td>basic</td>\n      <td>0</td>\n      <td>en</td>\n      <td>direct</td>\n      <td>direct</td>\n      <td>untracked</td>\n      <td>Web</td>\n      <td>Mac Desktop</td>\n      <td>Firefox</td>\n      <td>NDF</td>\n    </tr>\n    <tr>\n      <th>213449</th>\n      <td>jh95kwisub</td>\n      <td>2014-06-30</td>\n      <td>20140630235822</td>\n      <td>NaN</td>\n      <td>-unknown-</td>\n      <td>NaN</td>\n      <td>basic</td>\n      <td>25</td>\n      <td>en</td>\n      <td>other</td>\n      <td>other</td>\n      <td>tracked-other</td>\n      <td>iOS</td>\n      <td>iPhone</td>\n      <td>Mobile Safari</td>\n      <td>NDF</td>\n    </tr>\n    <tr>\n      <th>213450</th>\n      <td>nw9fwlyb5f</td>\n      <td>2014-06-30</td>\n      <td>20140630235824</td>\n      <td>NaN</td>\n      <td>-unknown-</td>\n      <td>NaN</td>\n      <td>basic</td>\n      <td>25</td>\n      <td>en</td>\n      <td>direct</td>\n      <td>direct</td>\n      <td>untracked</td>\n      <td>iOS</td>\n      <td>iPhone</td>\n      <td>-unknown-</td>\n      <td>NDF</td>\n    </tr>\n  </tbody>\n</table>\n<p>213451 rows × 16 columns</p>\n</div>"
     },
     "metadata": {}
    }
   ],
   "source": [
    "train_df = pd.read_csv(\"../data/raw/train_users_2.csv\")\n",
    "display(train_df)"
   ]
  },
  {
   "cell_type": "code",
   "execution_count": 11,
   "metadata": {},
   "outputs": [
    {
     "output_type": "stream",
     "name": "stdout",
     "text": [
      "213451\n"
     ]
    }
   ],
   "source": [
    "train_users = train_df.id.unique().tolist()\n",
    "print(len(train_users))"
   ]
  },
  {
   "cell_type": "code",
   "execution_count": 12,
   "metadata": {
    "tags": []
   },
   "outputs": [
    {
     "output_type": "stream",
     "name": "stdout",
     "text": [
      "Unique users in training data: 213451, with 135484 in sessions data, giving 73815 in users in both\n"
     ]
    }
   ],
   "source": [
    "train = set(train_users)\n",
    "session = set(session_users)\n",
    "common = list(train.intersection(session))\n",
    "print(f\"Unique users in training data: {len(train)}, with {len(session)} in sessions data, giving {len(common)} in users in both\")"
   ]
  },
  {
   "cell_type": "code",
   "execution_count": 13,
   "metadata": {},
   "outputs": [
    {
     "output_type": "stream",
     "name": "stdout",
     "text": [
      "Unique users in testing data: 62096, with 135484 in sessions data, giving 61668 in users in both\n"
     ]
    }
   ],
   "source": [
    "test_df = pd.read_csv(\"../data/raw/test_users.csv\")\n",
    "test_users = test_df.id.unique().tolist()\n",
    "test = set(test_users)\n",
    "test_common = list(test.intersection(session))\n",
    "print(f\"Unique users in testing data: {len(test)}, with {len(session)} in sessions data, giving {len(test_common)} in users in both\")"
   ]
  },
  {
   "cell_type": "code",
   "execution_count": 14,
   "metadata": {},
   "outputs": [
    {
     "output_type": "stream",
     "name": "stdout",
     "text": [
      "{nan}\n"
     ]
    }
   ],
   "source": [
    "only_session = session - test - train\n",
    "print(only_session)"
   ]
  },
  {
   "cell_type": "code",
   "execution_count": 15,
   "metadata": {
    "tags": []
   },
   "outputs": [
    {
     "output_type": "stream",
     "name": "stdout",
     "text": [
      "set()\n"
     ]
    }
   ],
   "source": [
    "print(test & train)"
   ]
  },
  {
   "source": [
    "Only nan is only in sessions, so all users in sessions are either in test or train with no users in both"
   ],
   "cell_type": "markdown",
   "metadata": {}
  },
  {
   "cell_type": "code",
   "execution_count": 16,
   "metadata": {
    "tags": []
   },
   "outputs": [
    {
     "output_type": "stream",
     "name": "stdout",
     "text": [
      "Users in training data but not in sessions: 139636\n"
     ]
    }
   ],
   "source": [
    "print(\"Users in training data but not in sessions:\", len(train - session))\n"
   ]
  },
  {
   "cell_type": "code",
   "execution_count": 26,
   "metadata": {},
   "outputs": [
    {
     "output_type": "display_data",
     "data": {
      "text/plain": "                id date_account_created  timestamp_first_active  \\\n0       gxn3p5htnn           2010-06-28          20090319043255   \n1       820tgsjxq7           2011-05-25          20090523174809   \n2       4ft3gnwmtx           2010-09-28          20090609231247   \n3       bjjt8pjhuk           2011-12-05          20091031060129   \n4       87mebub9p4           2010-09-14          20091208061105   \n...            ...                  ...                     ...   \n212945  h0slfsio2o           2014-06-30          20140630024331   \n212984  egeidqlx42           2014-06-30          20140630035931   \n213082  v2mo2lxorn           2014-06-30          20140630065823   \n213181  ii8kqtg7ca           2014-06-30          20140630164823   \n213342  5bmu0al4n0           2014-06-30          20140630205314   \n\n       date_first_booking     gender   age signup_method  signup_flow  \\\n0                     NaN  -unknown-   NaN      facebook            0   \n1                     NaN       MALE  38.0      facebook            0   \n2              2010-08-02     FEMALE  56.0         basic            3   \n3              2012-09-08     FEMALE  42.0      facebook            0   \n4              2010-02-18  -unknown-  41.0         basic            0   \n...                   ...        ...   ...           ...          ...   \n212945                NaN  -unknown-  34.0         basic            0   \n212984                NaN  -unknown-   NaN         basic            0   \n213082                NaN  -unknown-   NaN         basic            0   \n213181                NaN  -unknown-   NaN         basic           25   \n213342                NaN     FEMALE  36.0      facebook            0   \n\n       language affiliate_channel affiliate_provider first_affiliate_tracked  \\\n0            en            direct             direct               untracked   \n1            en               seo             google               untracked   \n2            en            direct             direct               untracked   \n3            en            direct             direct               untracked   \n4            en            direct             direct               untracked   \n...         ...               ...                ...                     ...   \n212945       en            direct             direct               untracked   \n212984       en            direct             direct                  linked   \n213082       en            direct             direct               untracked   \n213181       en            direct             direct               untracked   \n213342       en     sem-non-brand             google                     omg   \n\n       signup_app first_device_type first_browser country_destination  \n0             Web       Mac Desktop        Chrome                 NDF  \n1             Web       Mac Desktop        Chrome                 NDF  \n2             Web   Windows Desktop            IE                  US  \n3             Web       Mac Desktop       Firefox               other  \n4             Web       Mac Desktop        Chrome                  US  \n...           ...               ...           ...                 ...  \n212945        Web       Mac Desktop        Safari                 NDF  \n212984        Web       Mac Desktop        Chrome                 NDF  \n213082        Web   Windows Desktop        Chrome                 NDF  \n213181        iOS            iPhone     -unknown-                 NDF  \n213342        Web   Windows Desktop        Chrome                 NDF  \n\n[139636 rows x 16 columns]",
      "text/html": "<div>\n<style scoped>\n    .dataframe tbody tr th:only-of-type {\n        vertical-align: middle;\n    }\n\n    .dataframe tbody tr th {\n        vertical-align: top;\n    }\n\n    .dataframe thead th {\n        text-align: right;\n    }\n</style>\n<table border=\"1\" class=\"dataframe\">\n  <thead>\n    <tr style=\"text-align: right;\">\n      <th></th>\n      <th>id</th>\n      <th>date_account_created</th>\n      <th>timestamp_first_active</th>\n      <th>date_first_booking</th>\n      <th>gender</th>\n      <th>age</th>\n      <th>signup_method</th>\n      <th>signup_flow</th>\n      <th>language</th>\n      <th>affiliate_channel</th>\n      <th>affiliate_provider</th>\n      <th>first_affiliate_tracked</th>\n      <th>signup_app</th>\n      <th>first_device_type</th>\n      <th>first_browser</th>\n      <th>country_destination</th>\n    </tr>\n  </thead>\n  <tbody>\n    <tr>\n      <th>0</th>\n      <td>gxn3p5htnn</td>\n      <td>2010-06-28</td>\n      <td>20090319043255</td>\n      <td>NaN</td>\n      <td>-unknown-</td>\n      <td>NaN</td>\n      <td>facebook</td>\n      <td>0</td>\n      <td>en</td>\n      <td>direct</td>\n      <td>direct</td>\n      <td>untracked</td>\n      <td>Web</td>\n      <td>Mac Desktop</td>\n      <td>Chrome</td>\n      <td>NDF</td>\n    </tr>\n    <tr>\n      <th>1</th>\n      <td>820tgsjxq7</td>\n      <td>2011-05-25</td>\n      <td>20090523174809</td>\n      <td>NaN</td>\n      <td>MALE</td>\n      <td>38.0</td>\n      <td>facebook</td>\n      <td>0</td>\n      <td>en</td>\n      <td>seo</td>\n      <td>google</td>\n      <td>untracked</td>\n      <td>Web</td>\n      <td>Mac Desktop</td>\n      <td>Chrome</td>\n      <td>NDF</td>\n    </tr>\n    <tr>\n      <th>2</th>\n      <td>4ft3gnwmtx</td>\n      <td>2010-09-28</td>\n      <td>20090609231247</td>\n      <td>2010-08-02</td>\n      <td>FEMALE</td>\n      <td>56.0</td>\n      <td>basic</td>\n      <td>3</td>\n      <td>en</td>\n      <td>direct</td>\n      <td>direct</td>\n      <td>untracked</td>\n      <td>Web</td>\n      <td>Windows Desktop</td>\n      <td>IE</td>\n      <td>US</td>\n    </tr>\n    <tr>\n      <th>3</th>\n      <td>bjjt8pjhuk</td>\n      <td>2011-12-05</td>\n      <td>20091031060129</td>\n      <td>2012-09-08</td>\n      <td>FEMALE</td>\n      <td>42.0</td>\n      <td>facebook</td>\n      <td>0</td>\n      <td>en</td>\n      <td>direct</td>\n      <td>direct</td>\n      <td>untracked</td>\n      <td>Web</td>\n      <td>Mac Desktop</td>\n      <td>Firefox</td>\n      <td>other</td>\n    </tr>\n    <tr>\n      <th>4</th>\n      <td>87mebub9p4</td>\n      <td>2010-09-14</td>\n      <td>20091208061105</td>\n      <td>2010-02-18</td>\n      <td>-unknown-</td>\n      <td>41.0</td>\n      <td>basic</td>\n      <td>0</td>\n      <td>en</td>\n      <td>direct</td>\n      <td>direct</td>\n      <td>untracked</td>\n      <td>Web</td>\n      <td>Mac Desktop</td>\n      <td>Chrome</td>\n      <td>US</td>\n    </tr>\n    <tr>\n      <th>...</th>\n      <td>...</td>\n      <td>...</td>\n      <td>...</td>\n      <td>...</td>\n      <td>...</td>\n      <td>...</td>\n      <td>...</td>\n      <td>...</td>\n      <td>...</td>\n      <td>...</td>\n      <td>...</td>\n      <td>...</td>\n      <td>...</td>\n      <td>...</td>\n      <td>...</td>\n      <td>...</td>\n    </tr>\n    <tr>\n      <th>212945</th>\n      <td>h0slfsio2o</td>\n      <td>2014-06-30</td>\n      <td>20140630024331</td>\n      <td>NaN</td>\n      <td>-unknown-</td>\n      <td>34.0</td>\n      <td>basic</td>\n      <td>0</td>\n      <td>en</td>\n      <td>direct</td>\n      <td>direct</td>\n      <td>untracked</td>\n      <td>Web</td>\n      <td>Mac Desktop</td>\n      <td>Safari</td>\n      <td>NDF</td>\n    </tr>\n    <tr>\n      <th>212984</th>\n      <td>egeidqlx42</td>\n      <td>2014-06-30</td>\n      <td>20140630035931</td>\n      <td>NaN</td>\n      <td>-unknown-</td>\n      <td>NaN</td>\n      <td>basic</td>\n      <td>0</td>\n      <td>en</td>\n      <td>direct</td>\n      <td>direct</td>\n      <td>linked</td>\n      <td>Web</td>\n      <td>Mac Desktop</td>\n      <td>Chrome</td>\n      <td>NDF</td>\n    </tr>\n    <tr>\n      <th>213082</th>\n      <td>v2mo2lxorn</td>\n      <td>2014-06-30</td>\n      <td>20140630065823</td>\n      <td>NaN</td>\n      <td>-unknown-</td>\n      <td>NaN</td>\n      <td>basic</td>\n      <td>0</td>\n      <td>en</td>\n      <td>direct</td>\n      <td>direct</td>\n      <td>untracked</td>\n      <td>Web</td>\n      <td>Windows Desktop</td>\n      <td>Chrome</td>\n      <td>NDF</td>\n    </tr>\n    <tr>\n      <th>213181</th>\n      <td>ii8kqtg7ca</td>\n      <td>2014-06-30</td>\n      <td>20140630164823</td>\n      <td>NaN</td>\n      <td>-unknown-</td>\n      <td>NaN</td>\n      <td>basic</td>\n      <td>25</td>\n      <td>en</td>\n      <td>direct</td>\n      <td>direct</td>\n      <td>untracked</td>\n      <td>iOS</td>\n      <td>iPhone</td>\n      <td>-unknown-</td>\n      <td>NDF</td>\n    </tr>\n    <tr>\n      <th>213342</th>\n      <td>5bmu0al4n0</td>\n      <td>2014-06-30</td>\n      <td>20140630205314</td>\n      <td>NaN</td>\n      <td>FEMALE</td>\n      <td>36.0</td>\n      <td>facebook</td>\n      <td>0</td>\n      <td>en</td>\n      <td>sem-non-brand</td>\n      <td>google</td>\n      <td>omg</td>\n      <td>Web</td>\n      <td>Windows Desktop</td>\n      <td>Chrome</td>\n      <td>NDF</td>\n    </tr>\n  </tbody>\n</table>\n<p>139636 rows × 16 columns</p>\n</div>"
     },
     "metadata": {}
    }
   ],
   "source": [
    "train_in_sessions_df = train_df[~train_df['id'].isin(session)]\n",
    "display(train_in_sessions_df)"
   ]
  },
  {
   "cell_type": "code",
   "execution_count": 27,
   "metadata": {},
   "outputs": [
    {
     "output_type": "display_data",
     "data": {
      "text/plain": "               id date_account_created  timestamp_first_active  \\\n107    scojulukfu           2014-07-01          20140701030358   \n533    s781ycpax3           2014-07-01          20140701213646   \n534    jl44r564wq           2014-07-01          20140701213732   \n535    n6ol4as9g0           2014-07-01          20140701214000   \n539    o0e86z6ufg           2014-07-01          20140701214402   \n...           ...                  ...                     ...   \n60330  boe7inxbiy           2014-09-28          20140928052025   \n61319  of6woqkxl0           2014-09-29          20140929215620   \n61701  mgsqbf4rlo           2014-09-30          20140930074633   \n61781  d0q4fz4z07           2014-09-30          20140930153111   \n62025  gddryrf6k2           2014-09-30          20140930221949   \n\n       date_first_booking     gender   age signup_method  signup_flow  \\\n107                   NaN  -unknown-   NaN         basic            0   \n533                   NaN     FEMALE  42.0      facebook            0   \n534                   NaN       MALE  22.0      facebook            0   \n535                   NaN  -unknown-   NaN         basic            0   \n539                   NaN  -unknown-   NaN         basic            0   \n...                   ...        ...   ...           ...          ...   \n60330                 NaN       MALE  35.0      facebook            0   \n61319                 NaN  -unknown-   NaN         basic            0   \n61701                 NaN       MALE  47.0      facebook            0   \n61781                 NaN  -unknown-   NaN         basic            0   \n62025                 NaN  -unknown-   NaN         basic            0   \n\n      language affiliate_channel affiliate_provider first_affiliate_tracked  \\\n107         en            direct             direct                  linked   \n533         en         sem-brand             google               untracked   \n534         en     sem-non-brand             google                     omg   \n535         en         sem-brand             google               untracked   \n539         en         sem-brand             google                     omg   \n...        ...               ...                ...                     ...   \n60330       en             other              other                  linked   \n61319       en            direct             direct               untracked   \n61701       en            direct             direct               untracked   \n61781       en               seo             google               untracked   \n62025       en               seo             google               untracked   \n\n      signup_app first_device_type  first_browser  \n107        Moweb            iPhone  Mobile Safari  \n533          Web     Other/Unknown      -unknown-  \n534          Web       Mac Desktop         Safari  \n535          Web     Android Phone  Chrome Mobile  \n539          Web   Windows Desktop         Chrome  \n...          ...               ...            ...  \n60330        Web       Mac Desktop         Chrome  \n61319        Web   Windows Desktop        Firefox  \n61701      Moweb       Mac Desktop         Safari  \n61781        Web       Mac Desktop         Safari  \n62025        Web       Mac Desktop         Safari  \n\n[428 rows x 15 columns]",
      "text/html": "<div>\n<style scoped>\n    .dataframe tbody tr th:only-of-type {\n        vertical-align: middle;\n    }\n\n    .dataframe tbody tr th {\n        vertical-align: top;\n    }\n\n    .dataframe thead th {\n        text-align: right;\n    }\n</style>\n<table border=\"1\" class=\"dataframe\">\n  <thead>\n    <tr style=\"text-align: right;\">\n      <th></th>\n      <th>id</th>\n      <th>date_account_created</th>\n      <th>timestamp_first_active</th>\n      <th>date_first_booking</th>\n      <th>gender</th>\n      <th>age</th>\n      <th>signup_method</th>\n      <th>signup_flow</th>\n      <th>language</th>\n      <th>affiliate_channel</th>\n      <th>affiliate_provider</th>\n      <th>first_affiliate_tracked</th>\n      <th>signup_app</th>\n      <th>first_device_type</th>\n      <th>first_browser</th>\n    </tr>\n  </thead>\n  <tbody>\n    <tr>\n      <th>107</th>\n      <td>scojulukfu</td>\n      <td>2014-07-01</td>\n      <td>20140701030358</td>\n      <td>NaN</td>\n      <td>-unknown-</td>\n      <td>NaN</td>\n      <td>basic</td>\n      <td>0</td>\n      <td>en</td>\n      <td>direct</td>\n      <td>direct</td>\n      <td>linked</td>\n      <td>Moweb</td>\n      <td>iPhone</td>\n      <td>Mobile Safari</td>\n    </tr>\n    <tr>\n      <th>533</th>\n      <td>s781ycpax3</td>\n      <td>2014-07-01</td>\n      <td>20140701213646</td>\n      <td>NaN</td>\n      <td>FEMALE</td>\n      <td>42.0</td>\n      <td>facebook</td>\n      <td>0</td>\n      <td>en</td>\n      <td>sem-brand</td>\n      <td>google</td>\n      <td>untracked</td>\n      <td>Web</td>\n      <td>Other/Unknown</td>\n      <td>-unknown-</td>\n    </tr>\n    <tr>\n      <th>534</th>\n      <td>jl44r564wq</td>\n      <td>2014-07-01</td>\n      <td>20140701213732</td>\n      <td>NaN</td>\n      <td>MALE</td>\n      <td>22.0</td>\n      <td>facebook</td>\n      <td>0</td>\n      <td>en</td>\n      <td>sem-non-brand</td>\n      <td>google</td>\n      <td>omg</td>\n      <td>Web</td>\n      <td>Mac Desktop</td>\n      <td>Safari</td>\n    </tr>\n    <tr>\n      <th>535</th>\n      <td>n6ol4as9g0</td>\n      <td>2014-07-01</td>\n      <td>20140701214000</td>\n      <td>NaN</td>\n      <td>-unknown-</td>\n      <td>NaN</td>\n      <td>basic</td>\n      <td>0</td>\n      <td>en</td>\n      <td>sem-brand</td>\n      <td>google</td>\n      <td>untracked</td>\n      <td>Web</td>\n      <td>Android Phone</td>\n      <td>Chrome Mobile</td>\n    </tr>\n    <tr>\n      <th>539</th>\n      <td>o0e86z6ufg</td>\n      <td>2014-07-01</td>\n      <td>20140701214402</td>\n      <td>NaN</td>\n      <td>-unknown-</td>\n      <td>NaN</td>\n      <td>basic</td>\n      <td>0</td>\n      <td>en</td>\n      <td>sem-brand</td>\n      <td>google</td>\n      <td>omg</td>\n      <td>Web</td>\n      <td>Windows Desktop</td>\n      <td>Chrome</td>\n    </tr>\n    <tr>\n      <th>...</th>\n      <td>...</td>\n      <td>...</td>\n      <td>...</td>\n      <td>...</td>\n      <td>...</td>\n      <td>...</td>\n      <td>...</td>\n      <td>...</td>\n      <td>...</td>\n      <td>...</td>\n      <td>...</td>\n      <td>...</td>\n      <td>...</td>\n      <td>...</td>\n      <td>...</td>\n    </tr>\n    <tr>\n      <th>60330</th>\n      <td>boe7inxbiy</td>\n      <td>2014-09-28</td>\n      <td>20140928052025</td>\n      <td>NaN</td>\n      <td>MALE</td>\n      <td>35.0</td>\n      <td>facebook</td>\n      <td>0</td>\n      <td>en</td>\n      <td>other</td>\n      <td>other</td>\n      <td>linked</td>\n      <td>Web</td>\n      <td>Mac Desktop</td>\n      <td>Chrome</td>\n    </tr>\n    <tr>\n      <th>61319</th>\n      <td>of6woqkxl0</td>\n      <td>2014-09-29</td>\n      <td>20140929215620</td>\n      <td>NaN</td>\n      <td>-unknown-</td>\n      <td>NaN</td>\n      <td>basic</td>\n      <td>0</td>\n      <td>en</td>\n      <td>direct</td>\n      <td>direct</td>\n      <td>untracked</td>\n      <td>Web</td>\n      <td>Windows Desktop</td>\n      <td>Firefox</td>\n    </tr>\n    <tr>\n      <th>61701</th>\n      <td>mgsqbf4rlo</td>\n      <td>2014-09-30</td>\n      <td>20140930074633</td>\n      <td>NaN</td>\n      <td>MALE</td>\n      <td>47.0</td>\n      <td>facebook</td>\n      <td>0</td>\n      <td>en</td>\n      <td>direct</td>\n      <td>direct</td>\n      <td>untracked</td>\n      <td>Moweb</td>\n      <td>Mac Desktop</td>\n      <td>Safari</td>\n    </tr>\n    <tr>\n      <th>61781</th>\n      <td>d0q4fz4z07</td>\n      <td>2014-09-30</td>\n      <td>20140930153111</td>\n      <td>NaN</td>\n      <td>-unknown-</td>\n      <td>NaN</td>\n      <td>basic</td>\n      <td>0</td>\n      <td>en</td>\n      <td>seo</td>\n      <td>google</td>\n      <td>untracked</td>\n      <td>Web</td>\n      <td>Mac Desktop</td>\n      <td>Safari</td>\n    </tr>\n    <tr>\n      <th>62025</th>\n      <td>gddryrf6k2</td>\n      <td>2014-09-30</td>\n      <td>20140930221949</td>\n      <td>NaN</td>\n      <td>-unknown-</td>\n      <td>NaN</td>\n      <td>basic</td>\n      <td>0</td>\n      <td>en</td>\n      <td>seo</td>\n      <td>google</td>\n      <td>untracked</td>\n      <td>Web</td>\n      <td>Mac Desktop</td>\n      <td>Safari</td>\n    </tr>\n  </tbody>\n</table>\n<p>428 rows × 15 columns</p>\n</div>"
     },
     "metadata": {}
    }
   ],
   "source": [
    "test_in_sessions_df = test_df[~test_df['id'].isin(session)]\n",
    "display(test_in_sessions_df)"
   ]
  },
  {
   "cell_type": "code",
   "execution_count": 28,
   "metadata": {
    "tags": [
     "outputPrepend"
    ]
   },
   "outputs": [
    {
     "output_type": "stream",
     "name": "stdout",
     "text": [
      "07-27', '2010-07-28', '2010-07-29', '2010-07-30', '2010-07-31', '2010-08-01', '2010-08-02', '2010-08-03', '2010-08-04', '2010-08-05', '2010-08-06', '2010-08-07', '2010-08-08', '2010-08-09', '2010-08-10', '2010-08-11', '2010-08-12', '2010-08-13', '2010-08-14', '2010-08-15', '2010-08-16', '2010-08-17', '2010-08-18', '2010-08-19', '2010-08-20', '2010-08-21', '2010-08-22', '2010-08-23', '2010-08-24', '2010-08-25', '2010-08-26', '2010-08-27', '2010-08-28', '2010-08-29', '2010-08-30', '2010-08-31', '2010-09-01', '2010-09-02', '2010-09-03', '2010-09-04', '2010-09-05', '2010-09-06', '2010-09-07', '2010-09-08', '2010-09-09', '2010-09-10', '2010-09-11', '2010-09-12', '2010-09-13', '2010-09-14', '2010-09-15', '2010-09-16', '2010-09-17', '2010-09-18', '2010-09-19', '2010-09-20', '2010-09-21', '2010-09-22', '2010-09-23', '2010-09-24', '2010-09-25', '2010-09-26', '2010-09-27', '2010-09-28', '2010-09-29', '2010-09-30', '2010-10-01', '2010-10-02', '2010-10-03', '2010-10-04', '2010-10-05', '2010-10-06', '2010-10-07', '2010-10-08', '2010-10-09', '2010-10-10', '2010-10-11', '2010-10-12', '2010-10-13', '2010-10-14', '2010-10-15', '2010-10-16', '2010-10-17', '2010-10-18', '2010-10-19', '2010-10-20', '2010-10-21', '2010-10-22', '2010-10-23', '2010-10-24', '2010-10-25', '2010-10-26', '2010-10-27', '2010-10-28', '2010-10-29', '2010-10-30', '2010-10-31', '2010-11-01', '2010-11-02', '2010-11-03', '2010-11-04', '2010-11-05', '2010-11-06', '2010-11-07', '2010-11-08', '2010-11-09', '2010-11-10', '2010-11-11', '2010-11-12', '2010-11-13', '2010-11-14', '2010-11-15', '2010-11-16', '2010-11-17', '2010-11-18', '2010-11-19', '2010-11-20', '2010-11-21', '2010-11-22', '2010-11-23', '2010-11-24', '2010-11-25', '2010-11-26', '2010-11-27', '2010-11-28', '2010-11-29', '2010-11-30', '2010-12-01', '2010-12-02', '2010-12-03', '2010-12-04', '2010-12-05', '2010-12-06', '2010-12-07', '2010-12-08', '2010-12-09', '2010-12-10', '2010-12-11', '2010-12-12', '2010-12-13', '2010-12-14', '2010-12-15', '2010-12-16', '2010-12-17', '2010-12-18', '2010-12-19', '2010-12-20', '2010-12-21', '2010-12-22', '2010-12-23', '2010-12-24', '2010-12-25', '2010-12-26', '2010-12-27', '2010-12-28', '2010-12-29', '2010-12-30', '2010-12-31', '2011-01-01', '2011-01-02', '2011-01-03', '2011-01-04', '2011-01-05', '2011-01-06', '2011-01-07', '2011-01-08', '2011-01-09', '2011-01-10', '2011-01-11', '2011-01-12', '2011-01-13', '2011-01-14', '2011-01-15', '2011-01-16', '2011-01-17', '2011-01-18', '2011-01-19', '2011-01-20', '2011-01-21', '2011-01-22', '2011-01-23', '2011-01-24', '2011-01-25', '2011-01-26', '2011-01-27', '2011-01-28', '2011-01-29', '2011-01-30', '2011-01-31', '2011-02-01', '2011-02-02', '2011-02-03', '2011-02-04', '2011-02-05', '2011-02-06', '2011-02-07', '2011-02-08', '2011-02-09', '2011-02-10', '2011-02-11', '2011-02-12', '2011-02-13', '2011-02-14', '2011-02-15', '2011-02-16', '2011-02-17', '2011-02-18', '2011-02-19', '2011-02-20', '2011-02-21', '2011-02-22', '2011-02-23', '2011-02-24', '2011-02-25', '2011-02-26', '2011-02-27', '2011-02-28', '2011-03-01', '2011-03-02', '2011-03-03', '2011-03-04', '2011-03-05', '2011-03-06', '2011-03-07', '2011-03-08', '2011-03-09', '2011-03-10', '2011-03-11', '2011-03-12', '2011-03-13', '2011-03-14', '2011-03-15', '2011-03-16', '2011-03-17', '2011-03-18', '2011-03-19', '2011-03-20', '2011-03-21', '2011-03-22', '2011-03-23', '2011-03-24', '2011-03-25', '2011-03-26', '2011-03-27', '2011-03-28', '2011-03-29', '2011-03-30', '2011-03-31', '2011-04-01', '2011-04-02', '2011-04-03', '2011-04-04', '2011-04-05', '2011-04-06', '2011-04-07', '2011-04-08', '2011-04-09', '2011-04-10', '2011-04-11', '2011-04-12', '2011-04-13', '2011-04-14', '2011-04-15', '2011-04-16', '2011-04-17', '2011-04-18', '2011-04-19', '2011-04-20', '2011-04-21', '2011-04-22', '2011-04-23', '2011-04-24', '2011-04-25', '2011-04-26', '2011-04-27', '2011-04-28', '2011-04-29', '2011-04-30', '2011-05-01', '2011-05-02', '2011-05-03', '2011-05-04', '2011-05-05', '2011-05-06', '2011-05-07', '2011-05-08', '2011-05-09', '2011-05-10', '2011-05-11', '2011-05-12', '2011-05-13', '2011-05-14', '2011-05-15', '2011-05-16', '2011-05-17', '2011-05-18', '2011-05-19', '2011-05-20', '2011-05-21', '2011-05-22', '2011-05-23', '2011-05-24', '2011-05-25', '2011-05-26', '2011-05-27', '2011-05-28', '2011-05-29', '2011-05-30', '2011-05-31', '2011-06-01', '2011-06-02', '2011-06-03', '2011-06-04', '2011-06-05', '2011-06-06', '2011-06-07', '2011-06-08', '2011-06-09', '2011-06-10', '2011-06-11', '2011-06-12', '2011-06-13', '2011-06-14', '2011-06-15', '2011-06-16', '2011-06-17', '2011-06-18', '2011-06-19', '2011-06-20', '2011-06-21', '2011-06-22', '2011-06-23', '2011-06-24', '2011-06-25', '2011-06-26', '2011-06-27', '2011-06-28', '2011-06-29', '2011-06-30', '2011-07-01', '2011-07-02', '2011-07-03', '2011-07-04', '2011-07-05', '2011-07-06', '2011-07-07', '2011-07-08', '2011-07-09', '2011-07-10', '2011-07-11', '2011-07-12', '2011-07-13', '2011-07-14', '2011-07-15', '2011-07-16', '2011-07-17', '2011-07-18', '2011-07-19', '2011-07-20', '2011-07-21', '2011-07-22', '2011-07-23', '2011-07-24', '2011-07-25', '2011-07-26', '2011-07-27', '2011-07-28', '2011-07-29', '2011-07-30', '2011-07-31', '2011-08-01', '2011-08-02', '2011-08-03', '2011-08-04', '2011-08-05', '2011-08-06', '2011-08-07', '2011-08-08', '2011-08-09', '2011-08-10', '2011-08-11', '2011-08-12', '2011-08-13', '2011-08-14', '2011-08-15', '2011-08-16', '2011-08-17', '2011-08-18', '2011-08-19', '2011-08-20', '2011-08-21', '2011-08-22', '2011-08-23', '2011-08-24', '2011-08-25', '2011-08-26', '2011-08-27', '2011-08-28', '2011-08-29', '2011-08-30', '2011-08-31', '2011-09-01', '2011-09-02', '2011-09-03', '2011-09-04', '2011-09-05', '2011-09-06', '2011-09-07', '2011-09-08', '2011-09-09', '2011-09-10', '2011-09-11', '2011-09-12', '2011-09-13', '2011-09-14', '2011-09-15', '2011-09-16', '2011-09-17', '2011-09-18', '2011-09-19', '2011-09-20', '2011-09-21', '2011-09-22', '2011-09-23', '2011-09-24', '2011-09-25', '2011-09-26', '2011-09-27', '2011-09-28', '2011-09-29', '2011-09-30', '2011-10-01', '2011-10-02', '2011-10-03', '2011-10-04', '2011-10-05', '2011-10-06', '2011-10-07', '2011-10-08', '2011-10-09', '2011-10-10', '2011-10-11', '2011-10-12', '2011-10-13', '2011-10-14', '2011-10-15', '2011-10-16', '2011-10-17', '2011-10-18', '2011-10-19', '2011-10-20', '2011-10-21', '2011-10-22', '2011-10-23', '2011-10-24', '2011-10-25', '2011-10-26', '2011-10-27', '2011-10-28', '2011-10-29', '2011-10-30', '2011-10-31', '2011-11-01', '2011-11-02', '2011-11-03', '2011-11-04', '2011-11-05', '2011-11-06', '2011-11-07', '2011-11-08', '2011-11-09', '2011-11-10', '2011-11-11', '2011-11-12', '2011-11-13', '2011-11-14', '2011-11-15', '2011-11-16', '2011-11-17', '2011-11-18', '2011-11-19', '2011-11-20', '2011-11-21', '2011-11-22', '2011-11-23', '2011-11-24', '2011-11-25', '2011-11-26', '2011-11-27', '2011-11-28', '2011-11-29', '2011-11-30', '2011-12-01', '2011-12-02', '2011-12-03', '2011-12-04', '2011-12-05', '2011-12-06', '2011-12-07', '2011-12-08', '2011-12-09', '2011-12-10', '2011-12-11', '2011-12-12', '2011-12-13', '2011-12-14', '2011-12-15', '2011-12-16', '2011-12-17', '2011-12-18', '2011-12-19', '2011-12-20', '2011-12-21', '2011-12-22', '2011-12-23', '2011-12-24', '2011-12-25', '2011-12-26', '2011-12-27', '2011-12-28', '2011-12-29', '2011-12-30', '2011-12-31', '2012-01-01', '2012-01-02', '2012-01-03', '2012-01-04', '2012-01-05', '2012-01-06', '2012-01-07', '2012-01-08', '2012-01-09', '2012-01-10', '2012-01-11', '2012-01-12', '2012-01-13', '2012-01-14', '2012-01-15', '2012-01-16', '2012-01-17', '2012-01-18', '2012-01-19', '2012-01-20', '2012-01-21', '2012-01-22', '2012-01-23', '2012-01-24', '2012-01-25', '2012-01-26', '2012-01-27', '2012-01-28', '2012-01-29', '2012-01-30', '2012-01-31', '2012-02-01', '2012-02-02', '2012-02-03', '2012-02-04', '2012-02-05', '2012-02-06', '2012-02-07', '2012-02-08', '2012-02-09', '2012-02-10', '2012-02-11', '2012-02-12', '2012-02-13', '2012-02-14', '2012-02-15', '2012-02-16', '2012-02-17', '2012-02-18', '2012-02-19', '2012-02-20', '2012-02-21', '2012-02-22', '2012-02-23', '2012-02-24', '2012-02-25', '2012-02-26', '2012-02-27', '2012-02-28', '2012-02-29', '2012-03-01', '2012-03-02', '2012-03-03', '2012-03-04', '2012-03-05', '2012-03-06', '2012-03-07', '2012-03-08', '2012-03-09', '2012-03-10', '2012-03-11', '2012-03-12', '2012-03-13', '2012-03-14', '2012-03-15', '2012-03-16', '2012-03-17', '2012-03-18', '2012-03-19', '2012-03-20', '2012-03-21', '2012-03-22', '2012-03-23', '2012-03-24', '2012-03-25', '2012-03-26', '2012-03-27', '2012-03-28', '2012-03-29', '2012-03-30', '2012-03-31', '2012-04-01', '2012-04-02', '2012-04-03', '2012-04-04', '2012-04-05', '2012-04-06', '2012-04-07', '2012-04-08', '2012-04-09', '2012-04-10', '2012-04-11', '2012-04-12', '2012-04-13', '2012-04-14', '2012-04-15', '2012-04-16', '2012-04-17', '2012-04-18', '2012-04-19', '2012-04-20', '2012-04-21', '2012-04-22', '2012-04-23', '2012-04-24', '2012-04-25', '2012-04-26', '2012-04-27', '2012-04-28', '2012-04-29', '2012-04-30', '2012-05-01', '2012-05-02', '2012-05-03', '2012-05-04', '2012-05-05', '2012-05-06', '2012-05-07', '2012-05-08', '2012-05-09', '2012-05-10', '2012-05-11', '2012-05-12', '2012-05-13', '2012-05-14', '2012-05-15', '2012-05-16', '2012-05-17', '2012-05-18', '2012-05-19', '2012-05-20', '2012-05-21', '2012-05-22', '2012-05-23', '2012-05-24', '2012-05-25', '2012-05-26', '2012-05-27', '2012-05-28', '2012-05-29', '2012-05-30', '2012-05-31', '2012-06-01', '2012-06-02', '2012-06-03', '2012-06-04', '2012-06-05', '2012-06-06', '2012-06-07', '2012-06-08', '2012-06-09', '2012-06-10', '2012-06-11', '2012-06-12', '2012-06-13', '2012-06-14', '2012-06-15', '2012-06-16', '2012-06-17', '2012-06-18', '2012-06-19', '2012-06-20', '2012-06-21', '2012-06-22', '2012-06-23', '2012-06-24', '2012-06-25', '2012-06-26', '2012-06-27', '2012-06-28', '2012-06-29', '2012-06-30', '2012-07-01', '2012-07-02', '2012-07-03', '2012-07-04', '2012-07-05', '2012-07-06', '2012-07-07', '2012-07-08', '2012-07-09', '2012-07-10', '2012-07-11', '2012-07-12', '2012-07-13', '2012-07-14', '2012-07-15', '2012-07-16', '2012-07-17', '2012-07-18', '2012-07-19', '2012-07-20', '2012-07-21', '2012-07-22', '2012-07-23', '2012-07-24', '2012-07-25', '2012-07-26', '2012-07-27', '2012-07-28', '2012-07-29', '2012-07-30', '2012-07-31', '2012-08-01', '2012-08-02', '2012-08-03', '2012-08-04', '2012-08-05', '2012-08-06', '2012-08-07', '2012-08-08', '2012-08-09', '2012-08-10', '2012-08-11', '2012-08-12', '2012-08-13', '2012-08-14', '2012-08-15', '2012-08-16', '2012-08-17', '2012-08-18', '2012-08-19', '2012-08-20', '2012-08-21', '2012-08-22', '2012-08-23', '2012-08-24', '2012-08-25', '2012-08-26', '2012-08-27', '2012-08-28', '2012-08-29', '2012-08-30', '2012-08-31', '2012-09-01', '2012-09-02', '2012-09-03', '2012-09-04', '2012-09-05', '2012-09-06', '2012-09-07', '2012-09-08', '2012-09-09', '2012-09-10', '2012-09-11', '2012-09-12', '2012-09-13', '2012-09-14', '2012-09-15', '2012-09-16', '2012-09-17', '2012-09-18', '2012-09-19', '2012-09-20', '2012-09-21', '2012-09-22', '2012-09-23', '2012-09-24', '2012-09-25', '2012-09-26', '2012-09-27', '2012-09-28', '2012-09-29', '2012-09-30', '2012-10-01', '2012-10-02', '2012-10-03', '2012-10-04', '2012-10-05', '2012-10-06', '2012-10-07', '2012-10-08', '2012-10-09', '2012-10-10', '2012-10-11', '2012-10-12', '2012-10-13', '2012-10-14', '2012-10-15', '2012-10-16', '2012-10-17', '2012-10-18', '2012-10-19', '2012-10-20', '2012-10-21', '2012-10-22', '2012-10-23', '2012-10-24', '2012-10-25', '2012-10-26', '2012-10-27', '2012-10-28', '2012-10-29', '2012-10-30', '2012-10-31', '2012-11-01', '2012-11-02', '2012-11-03', '2012-11-04', '2012-11-05', '2012-11-06', '2012-11-07', '2012-11-08', '2012-11-09', '2012-11-10', '2012-11-11', '2012-11-12', '2012-11-13', '2012-11-14', '2012-11-15', '2012-11-16', '2012-11-17', '2012-11-18', '2012-11-19', '2012-11-20', '2012-11-21', '2012-11-22', '2012-11-23', '2012-11-24', '2012-11-25', '2012-11-26', '2012-11-27', '2012-11-28', '2012-11-29', '2012-11-30', '2012-12-01', '2012-12-02', '2012-12-03', '2012-12-04', '2012-12-05', '2012-12-06', '2012-12-07', '2012-12-08', '2012-12-09', '2012-12-10', '2012-12-11', '2012-12-12', '2012-12-13', '2012-12-14', '2012-12-15', '2012-12-16', '2012-12-17', '2012-12-18', '2012-12-19', '2012-12-20', '2012-12-21', '2012-12-22', '2012-12-23', '2012-12-24', '2012-12-25', '2012-12-26', '2012-12-27', '2012-12-28', '2012-12-29', '2012-12-30', '2012-12-31', '2013-01-01', '2013-01-02', '2013-01-03', '2013-01-04', '2013-01-05', '2013-01-06', '2013-01-07', '2013-01-08', '2013-01-09', '2013-01-10', '2013-01-11', '2013-01-12', '2013-01-13', '2013-01-14', '2013-01-15', '2013-01-16', '2013-01-17', '2013-01-18', '2013-01-19', '2013-01-20', '2013-01-21', '2013-01-22', '2013-01-23', '2013-01-24', '2013-01-25', '2013-01-26', '2013-01-27', '2013-01-28', '2013-01-29', '2013-01-30', '2013-01-31', '2013-02-01', '2013-02-02', '2013-02-03', '2013-02-04', '2013-02-05', '2013-02-06', '2013-02-07', '2013-02-08', '2013-02-09', '2013-02-10', '2013-02-11', '2013-02-12', '2013-02-13', '2013-02-14', '2013-02-15', '2013-02-16', '2013-02-17', '2013-02-18', '2013-02-19', '2013-02-20', '2013-02-21', '2013-02-22', '2013-02-23', '2013-02-24', '2013-02-25', '2013-02-26', '2013-02-27', '2013-02-28', '2013-03-01', '2013-03-02', '2013-03-03', '2013-03-04', '2013-03-05', '2013-03-06', '2013-03-07', '2013-03-08', '2013-03-09', '2013-03-10', '2013-03-11', '2013-03-12', '2013-03-13', '2013-03-14', '2013-03-15', '2013-03-16', '2013-03-17', '2013-03-18', '2013-03-19', '2013-03-20', '2013-03-21', '2013-03-22', '2013-03-23', '2013-03-24', '2013-03-25', '2013-03-26', '2013-03-27', '2013-03-28', '2013-03-29', '2013-03-30', '2013-03-31', '2013-04-01', '2013-04-02', '2013-04-03', '2013-04-04', '2013-04-05', '2013-04-06', '2013-04-07', '2013-04-08', '2013-04-09', '2013-04-10', '2013-04-11', '2013-04-12', '2013-04-13', '2013-04-14', '2013-04-15', '2013-04-16', '2013-04-17', '2013-04-18', '2013-04-19', '2013-04-20', '2013-04-21', '2013-04-22', '2013-04-23', '2013-04-24', '2013-04-25', '2013-04-26', '2013-04-27', '2013-04-28', '2013-04-29', '2013-04-30', '2013-05-01', '2013-05-02', '2013-05-03', '2013-05-04', '2013-05-05', '2013-05-06', '2013-05-07', '2013-05-08', '2013-05-09', '2013-05-10', '2013-05-11', '2013-05-12', '2013-05-13', '2013-05-14', '2013-05-15', '2013-05-16', '2013-05-17', '2013-05-18', '2013-05-19', '2013-05-20', '2013-05-21', '2013-05-22', '2013-05-23', '2013-05-24', '2013-05-25', '2013-05-26', '2013-05-27', '2013-05-28', '2013-05-29', '2013-05-30', '2013-05-31', '2013-06-01', '2013-06-02', '2013-06-03', '2013-06-04', '2013-06-05', '2013-06-06', '2013-06-07', '2013-06-08', '2013-06-09', '2013-06-10', '2013-06-11', '2013-06-12', '2013-06-13', '2013-06-14', '2013-06-15', '2013-06-16', '2013-06-17', '2013-06-18', '2013-06-19', '2013-06-20', '2013-06-21', '2013-06-22', '2013-06-23', '2013-06-24', '2013-06-25', '2013-06-26', '2013-06-27', '2013-06-28', '2013-06-29', '2013-06-30', '2013-07-01', '2013-07-02', '2013-07-03', '2013-07-04', '2013-07-05', '2013-07-06', '2013-07-07', '2013-07-08', '2013-07-09', '2013-07-10', '2013-07-11', '2013-07-12', '2013-07-13', '2013-07-14', '2013-07-15', '2013-07-16', '2013-07-17', '2013-07-18', '2013-07-19', '2013-07-20', '2013-07-21', '2013-07-22', '2013-07-23', '2013-07-24', '2013-07-25', '2013-07-26', '2013-07-27', '2013-07-28', '2013-07-29', '2013-07-30', '2013-07-31', '2013-08-01', '2013-08-02', '2013-08-03', '2013-08-04', '2013-08-05', '2013-08-06', '2013-08-07', '2013-08-08', '2013-08-09', '2013-08-10', '2013-08-11', '2013-08-12', '2013-08-13', '2013-08-14', '2013-08-15', '2013-08-16', '2013-08-17', '2013-08-18', '2013-08-19', '2013-08-20', '2013-08-21', '2013-08-22', '2013-08-23', '2013-08-24', '2013-08-25', '2013-08-26', '2013-08-27', '2013-08-28', '2013-08-29', '2013-08-30', '2013-08-31', '2013-09-01', '2013-09-02', '2013-09-03', '2013-09-04', '2013-09-05', '2013-09-06', '2013-09-07', '2013-09-08', '2013-09-09', '2013-09-10', '2013-09-11', '2013-09-12', '2013-09-13', '2013-09-14', '2013-09-15', '2013-09-16', '2013-09-17', '2013-09-18', '2013-09-19', '2013-09-20', '2013-09-21', '2013-09-22', '2013-09-23', '2013-09-24', '2013-09-25', '2013-09-26', '2013-09-27', '2013-09-28', '2013-09-29', '2013-09-30', '2013-10-01', '2013-10-02', '2013-10-03', '2013-10-04', '2013-10-05', '2013-10-06', '2013-10-07', '2013-10-08', '2013-10-09', '2013-10-10', '2013-10-11', '2013-10-12', '2013-10-13', '2013-10-14', '2013-10-15', '2013-10-16', '2013-10-17', '2013-10-18', '2013-10-19', '2013-10-20', '2013-10-21', '2013-10-22', '2013-10-23', '2013-10-24', '2013-10-25', '2013-10-26', '2013-10-27', '2013-10-28', '2013-10-29', '2013-10-30', '2013-10-31', '2013-11-01', '2013-11-02', '2013-11-03', '2013-11-04', '2013-11-05', '2013-11-06', '2013-11-07', '2013-11-08', '2013-11-09', '2013-11-10', '2013-11-11', '2013-11-12', '2013-11-13', '2013-11-14', '2013-11-15', '2013-11-16', '2013-11-17', '2013-11-18', '2013-11-19', '2013-11-20', '2013-11-21', '2013-11-22', '2013-11-23', '2013-11-24', '2013-11-25', '2013-11-26', '2013-11-27', '2013-11-28', '2013-11-29', '2013-11-30', '2013-12-01', '2013-12-02', '2013-12-03', '2013-12-04', '2013-12-05', '2013-12-06', '2013-12-07', '2013-12-08', '2013-12-09', '2013-12-10', '2013-12-11', '2013-12-12', '2013-12-13', '2013-12-14', '2013-12-15', '2013-12-16', '2013-12-17', '2013-12-18', '2013-12-19', '2013-12-20', '2013-12-21', '2013-12-22', '2013-12-23', '2013-12-24', '2013-12-25', '2013-12-26', '2013-12-27', '2013-12-28', '2013-12-29', '2013-12-30', '2013-12-31', '2014-01-01', '2014-01-02', '2014-01-03', '2014-01-04', '2014-01-05', '2014-01-06', '2014-01-07', '2014-01-08', '2014-01-09', '2014-01-10', '2014-01-11', '2014-01-12', '2014-01-13', '2014-01-14', '2014-01-15', '2014-01-16', '2014-01-17', '2014-01-18', '2014-01-19', '2014-01-20', '2014-01-21', '2014-01-22', '2014-01-23', '2014-01-24', '2014-01-25', '2014-01-26', '2014-01-27', '2014-01-28', '2014-01-29', '2014-01-30', '2014-01-31', '2014-02-01', '2014-02-02', '2014-02-03', '2014-02-04', '2014-02-05', '2014-02-06', '2014-02-07', '2014-02-08', '2014-02-09', '2014-02-10', '2014-02-11', '2014-02-12', '2014-02-13', '2014-02-14', '2014-02-15', '2014-02-16', '2014-02-17', '2014-02-18', '2014-02-19', '2014-02-20', '2014-02-21', '2014-02-22', '2014-02-23', '2014-02-24', '2014-02-25', '2014-02-26', '2014-02-27', '2014-02-28', '2014-03-01', '2014-03-02', '2014-03-03', '2014-03-04', '2014-03-05', '2014-03-06', '2014-03-07', '2014-03-08', '2014-03-09', '2014-03-10', '2014-03-11', '2014-03-12', '2014-03-13', '2014-03-14', '2014-03-15', '2014-03-16', '2014-03-17', '2014-03-18', '2014-03-19', '2014-03-20', '2014-03-21', '2014-03-22', '2014-03-23', '2014-03-24', '2014-03-25', '2014-03-26', '2014-03-27', '2014-03-28', '2014-03-29', '2014-03-30', '2014-03-31', '2014-04-01', '2014-04-02', '2014-04-03', '2014-04-04', '2014-04-05', '2014-04-06', '2014-04-07', '2014-04-08', '2014-04-09', '2014-04-10', '2014-04-11', '2014-04-12', '2014-04-14', '2014-04-15', '2014-04-16', '2014-04-17', '2014-04-18', '2014-04-19', '2014-04-20', '2014-04-21', '2014-04-22', '2014-04-23', '2014-04-24', '2014-04-25', '2014-04-26', '2014-04-27', '2014-04-28', '2014-04-29', '2014-04-30', '2014-05-01', '2014-05-02', '2014-05-04', '2014-05-05', '2014-05-06', '2014-05-07', '2014-05-08', '2014-05-09', '2014-05-12', '2014-05-13', '2014-05-14', '2014-05-15', '2014-05-16', '2014-05-17', '2014-05-18', '2014-05-19', '2014-05-20', '2014-05-21', '2014-05-22', '2014-05-23', '2014-05-24', '2014-05-25', '2014-05-26', '2014-05-27', '2014-05-28', '2014-05-29', '2014-05-31', '2014-06-01', '2014-06-02', '2014-06-03', '2014-06-04', '2014-06-05', '2014-06-06', '2014-06-07', '2014-06-08', '2014-06-09', '2014-06-10', '2014-06-11', '2014-06-12', '2014-06-13', '2014-06-14', '2014-06-16', '2014-06-17', '2014-06-18', '2014-06-19', '2014-06-20', '2014-06-21', '2014-06-22', '2014-06-23', '2014-06-24', '2014-06-25', '2014-06-26', '2014-06-27', '2014-06-28', '2014-06-29', '2014-06-30']\n"
     ]
    }
   ],
   "source": [
    "train_dates = sorted(train_in_sessions_df['date_account_created'].unique().tolist())\n",
    "print(train_dates)"
   ]
  },
  {
   "cell_type": "code",
   "execution_count": 29,
   "metadata": {},
   "outputs": [
    {
     "output_type": "stream",
     "name": "stdout",
     "text": [
      "['2014-07-01', '2014-07-02', '2014-07-03', '2014-07-04', '2014-07-05', '2014-07-06', '2014-07-07', '2014-07-08', '2014-07-09', '2014-07-11', '2014-07-12', '2014-07-13', '2014-07-14', '2014-07-15', '2014-07-16', '2014-07-17', '2014-07-18', '2014-07-19', '2014-07-20', '2014-07-21', '2014-07-22', '2014-07-23', '2014-07-24', '2014-07-25', '2014-07-26', '2014-07-27', '2014-07-28', '2014-07-29', '2014-07-30', '2014-07-31', '2014-08-01', '2014-08-02', '2014-08-03', '2014-08-04', '2014-08-05', '2014-08-06', '2014-08-07', '2014-08-08', '2014-08-09', '2014-08-10', '2014-08-11', '2014-08-12', '2014-08-13', '2014-08-14', '2014-08-15', '2014-08-16', '2014-08-17', '2014-08-18', '2014-08-19', '2014-08-20', '2014-08-21', '2014-08-22', '2014-08-23', '2014-08-24', '2014-08-26', '2014-08-27', '2014-08-28', '2014-08-29', '2014-08-30', '2014-08-31', '2014-09-01', '2014-09-02', '2014-09-03', '2014-09-04', '2014-09-05', '2014-09-06', '2014-09-07', '2014-09-08', '2014-09-09', '2014-09-10', '2014-09-11', '2014-09-12', '2014-09-13', '2014-09-14', '2014-09-15', '2014-09-16', '2014-09-17', '2014-09-18', '2014-09-19', '2014-09-20', '2014-09-21', '2014-09-23', '2014-09-24', '2014-09-25', '2014-09-26', '2014-09-27', '2014-09-28', '2014-09-29', '2014-09-30']\n"
     ]
    }
   ],
   "source": [
    "test_dates = sorted(test_in_sessions_df['date_account_created'].unique().tolist())\n",
    "print(test_dates)"
   ]
  },
  {
   "source": [
    "The users in sessions that are the the training dataset take have their account created between 1st Jan 2014 to the 30th Jun 2014, and the test training continues on the next day, covering 1st July 2014 to 30th September 2014"
   ],
   "cell_type": "markdown",
   "metadata": {}
  }
 ]
}