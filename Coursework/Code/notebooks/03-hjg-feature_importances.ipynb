{
 "metadata": {
  "language_info": {
   "codemirror_mode": {
    "name": "ipython",
    "version": 3
   },
   "file_extension": ".py",
   "mimetype": "text/x-python",
   "name": "python",
   "nbconvert_exporter": "python",
   "pygments_lexer": "ipython3",
   "version": "3.7.10"
  },
  "orig_nbformat": 2,
  "kernelspec": {
   "name": "python371064bitairbnbcondaaf4e48eb365642308d5d7aea7c08fdd1",
   "display_name": "Python 3.7.10 64-bit ('airbnb': conda)"
  },
  "metadata": {
   "interpreter": {
    "hash": "acada2d03b54d7caa5c059c9951d6303b344bea52a4b769de8eadbfde30e60e0"
   }
  }
 },
 "nbformat": 4,
 "nbformat_minor": 2,
 "cells": [
  {
   "cell_type": "code",
   "execution_count": 1,
   "metadata": {
    "tags": [
     "outputPrepend"
    ]
   },
   "outputs": [
    {
     "output_type": "stream",
     "name": "stderr",
     "text": [
      "flow/sklearn/utils.py:504: UserWarning: Logging to MLflow failed: invalid literal for int() with base 10: 'mlruns'\"\n",
      "2021/04/17 16:23:14 WARNING mlflow.utils.autologging_utils: MLflow autologging encountered a warning: \"/home/harry/miniconda3/envs/airbnb/lib/python3.7/site-packages/mlflow/models/signature.py:123: UserWarning: Hint: Inferred schema contains integer column(s). Integer columns in Python cannot represent missing values. If your input data contains missing values at inference time, it will be encoded as floats and will cause a schema enforcement error. The best way to avoid this problem is to infer the model schema based on a realistic data sample (training dataset) that includes missing values. Alternatively, you can declare integer columns as doubles (float64) whenever these columns may have missing values. See `Handling Integers With Missing Values <https://www.mlflow.org/docs/latest/models.html#handling-integers-with-missing-values>`_ for more details.\"\n",
      "2021/04/17 16:23:15 WARNING mlflow.utils.autologging_utils: MLflow autologging encountered a warning: \"/home/harry/miniconda3/envs/airbnb/lib/python3.7/site-packages/mlflow/sklearn/__init__.py:871: UserWarning: Logging to MLflow failed: invalid literal for int() with base 10: 'mlruns'\"\n",
      "2021/04/17 16:23:18 WARNING mlflow.sklearn.utils: Truncated the value of the key `steps`. Truncated value: `[('columntransformer', ColumnTransformer(transformers=[('categorical',\n",
      "                                 Pipeline(steps=[('columntransformer',\n",
      "                                                  ColumnTransformer(remainder='passthrough',\n",
      "            ...`\n",
      "2021/04/17 16:23:18 WARNING mlflow.sklearn.utils: Truncated the value of the key `columntransformer`. Truncated value: `ColumnTransformer(transformers=[('categorical',\n",
      "                                 Pipeline(steps=[('columntransformer',\n",
      "                                                  ColumnTransformer(remainder='passthrough',\n",
      "                                   ...`\n",
      "2021/04/17 16:23:18 WARNING mlflow.sklearn.utils: Truncated the value of the key `xgbclassifier`. Truncated value: `XGBClassifier(base_score=0.5, booster='gbtree', colsample_bylevel=1,\n",
      "              colsample_bynode=1, colsample_bytree=1, gamma=0, gpu_id=-1,\n",
      "              importance_type='gain', interaction_constraints='',\n",
      "              learning_rate=0.30000001...`\n",
      "2021/04/17 16:23:18 WARNING mlflow.sklearn.utils: Truncated the value of the key `columntransformer__transformers`. Truncated value: `[('categorical', Pipeline(steps=[('columntransformer',\n",
      "                 ColumnTransformer(remainder='passthrough',\n",
      "                                   transformers=[('date_encoder', DateEncoder(),\n",
      "                                                  [...`\n",
      "2021/04/17 16:23:18 WARNING mlflow.sklearn.utils: Truncated the value of the key `columntransformer__categorical`. Truncated value: `Pipeline(steps=[('columntransformer',\n",
      "                 ColumnTransformer(remainder='passthrough',\n",
      "                                   transformers=[('date_encoder', DateEncoder(),\n",
      "                                                  ['date_account_cre...`\n",
      "2021/04/17 16:23:18 WARNING mlflow.sklearn.utils: Truncated the value of the key `columntransformer__categorical__steps`. Truncated value: `[('columntransformer', ColumnTransformer(remainder='passthrough',\n",
      "                  transformers=[('date_encoder', DateEncoder(),\n",
      "                                 ['date_account_created']),\n",
      "                                ('date_encoder_2',\n",
      "      ...`\n",
      "2021/04/17 16:23:18 WARNING mlflow.sklearn.utils: Truncated the value of the key `columntransformer__categorical__columntransformer`. Truncated value: `ColumnTransformer(remainder='passthrough',\n",
      "                  transformers=[('date_encoder', DateEncoder(),\n",
      "                                 ['date_account_created']),\n",
      "                                ('date_encoder_2',\n",
      "                             ...`\n",
      "2021/04/17 16:23:18 WARNING mlflow.sklearn.utils: Truncated the value of the key `columntransformer__categorical__columntransformer__transformers`. Truncated value: `[('date_encoder', DateEncoder(), ['date_account_created']), ('date_encoder_2', DateEncoder(date_format='%Y%m%d%H%M%S'), ['timestamp_first_active']), ('device_mapper', DeviceMapper(), ['first_device_type']), ('browser_mapper', BrowserMapper(), ['fi...`\n",
      "2021/04/17 16:23:18 WARNING mlflow.utils.autologging_utils: MLflow autologging encountered a warning: \"/home/harry/miniconda3/envs/airbnb/lib/python3.7/site-packages/mlflow/sklearn/__init__.py:804: UserWarning: Logging to MLflow failed: INVALID_PARAMETER_VALUE: Changing param values is not allowed. Param with key='xgbclassifier' was already logged with value='XGBClassifier(base_score=None, booster=None, colsample_bylevel=None,\n",
      "              colsample_bynode=None, colsample_bytree=None, gamma=None,\n",
      "              gpu_id=None, importance_type='gain', interaction_constraints=None,\n",
      "              learning_ra...' for run ID='deccc69aa24a4351821d49d487a4f53f'. Attempted logging new value 'XGBClassifier(base_score=0.5, booster='gbtree', colsample_bylevel=1,\n",
      "              colsample_bynode=1, colsample_bytree=1, gamma=0, gpu_id=-1,\n",
      "              importance_type='gain', interaction_constraints='',\n",
      "              learning_rate=0.30000001...'.\"\n",
      "/home/harry/miniconda3/envs/airbnb/lib/python3.7/site-packages/xgboost/sklearn.py:1146: UserWarning: The use of label encoder in XGBClassifier is deprecated and will be removed in a future release. To remove this warning, do the following: 1) Pass option use_label_encoder=False when constructing XGBClassifier object; and 2) Encode your labels (y) as integers starting with 0, i.e. 0, 1, 2, ..., [num_class - 1].\n",
      "  warnings.warn(label_encoder_deprecation_msg, UserWarning)\n",
      "[16:23:21] WARNING: ../src/learner.cc:1095: Starting in XGBoost 1.3.0, the default evaluation metric used with the objective 'multi:softprob' was changed from 'merror' to 'mlogloss'. Explicitly set eval_metric if you'd like to restore the old behavior.\n",
      "2021/04/17 16:25:31 WARNING mlflow.utils.autologging_utils: MLflow autologging encountered a warning: \"/home/harry/miniconda3/envs/airbnb/lib/python3.7/site-packages/mlflow/sklearn/utils.py:504: UserWarning: Logging to MLflow failed: invalid literal for int() with base 10: 'mlruns'\"\n",
      "2021/04/17 16:25:31 WARNING mlflow.utils.autologging_utils: MLflow autologging encountered a warning: \"/home/harry/miniconda3/envs/airbnb/lib/python3.7/site-packages/mlflow/models/signature.py:123: UserWarning: Hint: Inferred schema contains integer column(s). Integer columns in Python cannot represent missing values. If your input data contains missing values at inference time, it will be encoded as floats and will cause a schema enforcement error. The best way to avoid this problem is to infer the model schema based on a realistic data sample (training dataset) that includes missing values. Alternatively, you can declare integer columns as doubles (float64) whenever these columns may have missing values. See `Handling Integers With Missing Values <https://www.mlflow.org/docs/latest/models.html#handling-integers-with-missing-values>`_ for more details.\"\n",
      "2021/04/17 16:25:31 WARNING mlflow.utils.autologging_utils: MLflow autologging encountered a warning: \"/home/harry/miniconda3/envs/airbnb/lib/python3.7/site-packages/mlflow/sklearn/__init__.py:871: UserWarning: Logging to MLflow failed: invalid literal for int() with base 10: 'mlruns'\"\n",
      "2021/04/17 16:25:34 WARNING mlflow.sklearn.utils: Truncated the value of the key `steps`. Truncated value: `[('columntransformer', ColumnTransformer(transformers=[('categorical',\n",
      "                                 Pipeline(steps=[('columntransformer',\n",
      "                                                  ColumnTransformer(remainder='passthrough',\n",
      "            ...`\n",
      "2021/04/17 16:25:34 WARNING mlflow.sklearn.utils: Truncated the value of the key `columntransformer`. Truncated value: `ColumnTransformer(transformers=[('categorical',\n",
      "                                 Pipeline(steps=[('columntransformer',\n",
      "                                                  ColumnTransformer(remainder='passthrough',\n",
      "                                   ...`\n",
      "2021/04/17 16:25:34 WARNING mlflow.sklearn.utils: Truncated the value of the key `xgbclassifier`. Truncated value: `XGBClassifier(base_score=0.5, booster='gbtree', colsample_bylevel=1,\n",
      "              colsample_bynode=1, colsample_bytree=1, gamma=0, gpu_id=-1,\n",
      "              importance_type='gain', interaction_constraints='',\n",
      "              learning_rate=0.30000001...`\n",
      "2021/04/17 16:25:34 WARNING mlflow.sklearn.utils: Truncated the value of the key `columntransformer__transformers`. Truncated value: `[('categorical', Pipeline(steps=[('columntransformer',\n",
      "                 ColumnTransformer(remainder='passthrough',\n",
      "                                   transformers=[('date_encoder', DateEncoder(),\n",
      "                                                  [...`\n",
      "2021/04/17 16:25:34 WARNING mlflow.sklearn.utils: Truncated the value of the key `columntransformer__categorical`. Truncated value: `Pipeline(steps=[('columntransformer',\n",
      "                 ColumnTransformer(remainder='passthrough',\n",
      "                                   transformers=[('date_encoder', DateEncoder(),\n",
      "                                                  ['date_account_cre...`\n",
      "2021/04/17 16:25:34 WARNING mlflow.sklearn.utils: Truncated the value of the key `columntransformer__categorical__steps`. Truncated value: `[('columntransformer', ColumnTransformer(remainder='passthrough',\n",
      "                  transformers=[('date_encoder', DateEncoder(),\n",
      "                                 ['date_account_created']),\n",
      "                                ('date_encoder_2',\n",
      "      ...`\n",
      "2021/04/17 16:25:34 WARNING mlflow.sklearn.utils: Truncated the value of the key `columntransformer__categorical__columntransformer`. Truncated value: `ColumnTransformer(remainder='passthrough',\n",
      "                  transformers=[('date_encoder', DateEncoder(),\n",
      "                                 ['date_account_created']),\n",
      "                                ('date_encoder_2',\n",
      "                             ...`\n",
      "2021/04/17 16:25:34 WARNING mlflow.sklearn.utils: Truncated the value of the key `columntransformer__categorical__columntransformer__transformers`. Truncated value: `[('date_encoder', DateEncoder(), ['date_account_created']), ('date_encoder_2', DateEncoder(date_format='%Y%m%d%H%M%S'), ['timestamp_first_active']), ('device_mapper', DeviceMapper(), ['first_device_type']), ('browser_mapper', BrowserMapper(), ['fi...`\n",
      "2021/04/17 16:25:34 WARNING mlflow.utils.autologging_utils: MLflow autologging encountered a warning: \"/home/harry/miniconda3/envs/airbnb/lib/python3.7/site-packages/mlflow/sklearn/__init__.py:804: UserWarning: Logging to MLflow failed: INVALID_PARAMETER_VALUE: Changing param values is not allowed. Param with key='xgbclassifier' was already logged with value='XGBClassifier(base_score=None, booster=None, colsample_bylevel=None,\n",
      "              colsample_bynode=None, colsample_bytree=None, gamma=None,\n",
      "              gpu_id=None, importance_type='gain', interaction_constraints=None,\n",
      "              learning_ra...' for run ID='deccc69aa24a4351821d49d487a4f53f'. Attempted logging new value 'XGBClassifier(base_score=0.5, booster='gbtree', colsample_bylevel=1,\n",
      "              colsample_bynode=1, colsample_bytree=1, gamma=0, gpu_id=-1,\n",
      "              importance_type='gain', interaction_constraints='',\n",
      "              learning_rate=0.30000001...'.\"\n",
      "/home/harry/miniconda3/envs/airbnb/lib/python3.7/site-packages/xgboost/sklearn.py:1146: UserWarning: The use of label encoder in XGBClassifier is deprecated and will be removed in a future release. To remove this warning, do the following: 1) Pass option use_label_encoder=False when constructing XGBClassifier object; and 2) Encode your labels (y) as integers starting with 0, i.e. 0, 1, 2, ..., [num_class - 1].\n",
      "  warnings.warn(label_encoder_deprecation_msg, UserWarning)\n",
      "[16:25:37] WARNING: ../src/learner.cc:1095: Starting in XGBoost 1.3.0, the default evaluation metric used with the objective 'multi:softprob' was changed from 'merror' to 'mlogloss'. Explicitly set eval_metric if you'd like to restore the old behavior.\n",
      "2021/04/17 16:28:01 WARNING mlflow.utils.autologging_utils: MLflow autologging encountered a warning: \"/home/harry/miniconda3/envs/airbnb/lib/python3.7/site-packages/mlflow/sklearn/utils.py:504: UserWarning: Logging to MLflow failed: invalid literal for int() with base 10: 'mlruns'\"\n",
      "2021/04/17 16:28:01 WARNING mlflow.utils.autologging_utils: MLflow autologging encountered a warning: \"/home/harry/miniconda3/envs/airbnb/lib/python3.7/site-packages/mlflow/models/signature.py:123: UserWarning: Hint: Inferred schema contains integer column(s). Integer columns in Python cannot represent missing values. If your input data contains missing values at inference time, it will be encoded as floats and will cause a schema enforcement error. The best way to avoid this problem is to infer the model schema based on a realistic data sample (training dataset) that includes missing values. Alternatively, you can declare integer columns as doubles (float64) whenever these columns may have missing values. See `Handling Integers With Missing Values <https://www.mlflow.org/docs/latest/models.html#handling-integers-with-missing-values>`_ for more details.\"\n",
      "2021/04/17 16:28:02 WARNING mlflow.utils.autologging_utils: MLflow autologging encountered a warning: \"/home/harry/miniconda3/envs/airbnb/lib/python3.7/site-packages/mlflow/sklearn/__init__.py:871: UserWarning: Logging to MLflow failed: invalid literal for int() with base 10: 'mlruns'\"\n",
      "2021/04/17 16:28:05 WARNING mlflow.sklearn.utils: Truncated the value of the key `steps`. Truncated value: `[('columntransformer', ColumnTransformer(transformers=[('categorical',\n",
      "                                 Pipeline(steps=[('columntransformer',\n",
      "                                                  ColumnTransformer(remainder='passthrough',\n",
      "            ...`\n",
      "2021/04/17 16:28:05 WARNING mlflow.sklearn.utils: Truncated the value of the key `columntransformer`. Truncated value: `ColumnTransformer(transformers=[('categorical',\n",
      "                                 Pipeline(steps=[('columntransformer',\n",
      "                                                  ColumnTransformer(remainder='passthrough',\n",
      "                                   ...`\n",
      "2021/04/17 16:28:05 WARNING mlflow.sklearn.utils: Truncated the value of the key `xgbclassifier`. Truncated value: `XGBClassifier(base_score=0.5, booster='gbtree', colsample_bylevel=1,\n",
      "              colsample_bynode=1, colsample_bytree=1, gamma=0, gpu_id=-1,\n",
      "              importance_type='gain', interaction_constraints='',\n",
      "              learning_rate=0.30000001...`\n",
      "2021/04/17 16:28:05 WARNING mlflow.sklearn.utils: Truncated the value of the key `columntransformer__transformers`. Truncated value: `[('categorical', Pipeline(steps=[('columntransformer',\n",
      "                 ColumnTransformer(remainder='passthrough',\n",
      "                                   transformers=[('date_encoder', DateEncoder(),\n",
      "                                                  [...`\n",
      "2021/04/17 16:28:05 WARNING mlflow.sklearn.utils: Truncated the value of the key `columntransformer__categorical`. Truncated value: `Pipeline(steps=[('columntransformer',\n",
      "                 ColumnTransformer(remainder='passthrough',\n",
      "                                   transformers=[('date_encoder', DateEncoder(),\n",
      "                                                  ['date_account_cre...`\n",
      "2021/04/17 16:28:05 WARNING mlflow.sklearn.utils: Truncated the value of the key `columntransformer__categorical__steps`. Truncated value: `[('columntransformer', ColumnTransformer(remainder='passthrough',\n",
      "                  transformers=[('date_encoder', DateEncoder(),\n",
      "                                 ['date_account_created']),\n",
      "                                ('date_encoder_2',\n",
      "      ...`\n",
      "2021/04/17 16:28:05 WARNING mlflow.sklearn.utils: Truncated the value of the key `columntransformer__categorical__columntransformer`. Truncated value: `ColumnTransformer(remainder='passthrough',\n",
      "                  transformers=[('date_encoder', DateEncoder(),\n",
      "                                 ['date_account_created']),\n",
      "                                ('date_encoder_2',\n",
      "                             ...`\n",
      "2021/04/17 16:28:05 WARNING mlflow.sklearn.utils: Truncated the value of the key `columntransformer__categorical__columntransformer__transformers`. Truncated value: `[('date_encoder', DateEncoder(), ['date_account_created']), ('date_encoder_2', DateEncoder(date_format='%Y%m%d%H%M%S'), ['timestamp_first_active']), ('device_mapper', DeviceMapper(), ['first_device_type']), ('browser_mapper', BrowserMapper(), ['fi...`\n",
      "2021/04/17 16:28:05 WARNING mlflow.utils.autologging_utils: MLflow autologging encountered a warning: \"/home/harry/miniconda3/envs/airbnb/lib/python3.7/site-packages/mlflow/sklearn/__init__.py:804: UserWarning: Logging to MLflow failed: INVALID_PARAMETER_VALUE: Changing param values is not allowed. Param with key='xgbclassifier' was already logged with value='XGBClassifier(base_score=None, booster=None, colsample_bylevel=None,\n",
      "              colsample_bynode=None, colsample_bytree=None, gamma=None,\n",
      "              gpu_id=None, importance_type='gain', interaction_constraints=None,\n",
      "              learning_ra...' for run ID='deccc69aa24a4351821d49d487a4f53f'. Attempted logging new value 'XGBClassifier(base_score=0.5, booster='gbtree', colsample_bylevel=1,\n",
      "              colsample_bynode=1, colsample_bytree=1, gamma=0, gpu_id=-1,\n",
      "              importance_type='gain', interaction_constraints='',\n",
      "              learning_rate=0.30000001...'.\"\n",
      "/home/harry/miniconda3/envs/airbnb/lib/python3.7/site-packages/xgboost/sklearn.py:1146: UserWarning: The use of label encoder in XGBClassifier is deprecated and will be removed in a future release. To remove this warning, do the following: 1) Pass option use_label_encoder=False when constructing XGBClassifier object; and 2) Encode your labels (y) as integers starting with 0, i.e. 0, 1, 2, ..., [num_class - 1].\n",
      "  warnings.warn(label_encoder_deprecation_msg, UserWarning)\n",
      "[16:28:08] WARNING: ../src/learner.cc:1095: Starting in XGBoost 1.3.0, the default evaluation metric used with the objective 'multi:softprob' was changed from 'merror' to 'mlogloss'. Explicitly set eval_metric if you'd like to restore the old behavior.\n",
      "2021/04/17 16:30:29 WARNING mlflow.utils.autologging_utils: MLflow autologging encountered a warning: \"/home/harry/miniconda3/envs/airbnb/lib/python3.7/site-packages/mlflow/sklearn/utils.py:504: UserWarning: Logging to MLflow failed: invalid literal for int() with base 10: 'mlruns'\"\n",
      "2021/04/17 16:30:29 WARNING mlflow.utils.autologging_utils: MLflow autologging encountered a warning: \"/home/harry/miniconda3/envs/airbnb/lib/python3.7/site-packages/mlflow/models/signature.py:123: UserWarning: Hint: Inferred schema contains integer column(s). Integer columns in Python cannot represent missing values. If your input data contains missing values at inference time, it will be encoded as floats and will cause a schema enforcement error. The best way to avoid this problem is to infer the model schema based on a realistic data sample (training dataset) that includes missing values. Alternatively, you can declare integer columns as doubles (float64) whenever these columns may have missing values. See `Handling Integers With Missing Values <https://www.mlflow.org/docs/latest/models.html#handling-integers-with-missing-values>`_ for more details.\"\n",
      "2021/04/17 16:30:30 WARNING mlflow.utils.autologging_utils: MLflow autologging encountered a warning: \"/home/harry/miniconda3/envs/airbnb/lib/python3.7/site-packages/mlflow/sklearn/__init__.py:871: UserWarning: Logging to MLflow failed: invalid literal for int() with base 10: 'mlruns'\"\n",
      "Fold Scores: [0.9044127201801118, 0.902398096660102, 0.9013411212123935, 0.9028322057811317, 0.9027116170985159]\n",
      "Average Scores: 0.9027391521864508\n"
     ]
    }
   ],
   "source": [
    "import numpy as np\n",
    "import pandas as pd\n",
    "import src.main as main\n",
    "from sklearn.calibration import CalibratedClassifierCV\n",
    "from sklearn.compose import ColumnTransformer, make_column_transformer\n",
    "from sklearn.ensemble import RandomForestClassifier\n",
    "from sklearn.impute import SimpleImputer\n",
    "from sklearn.linear_model import SGDClassifier\n",
    "from sklearn.model_selection import cross_val_score\n",
    "from sklearn.neural_network import MLPClassifier\n",
    "from sklearn.pipeline import Pipeline, make_pipeline\n",
    "from sklearn.preprocessing import OneHotEncoder, StandardScaler\n",
    "from src.preprocessing import BrowserMapper, DateEncoder, DeviceMapper\n",
    "from xgboost.sklearn import XGBClassifier#\n",
    "\n",
    "pipeline = make_pipeline(\n",
    "    ColumnTransformer(transformers=[\n",
    "        (\n",
    "            \"categorical\",\n",
    "            make_pipeline(\n",
    "                ColumnTransformer(transformers=[\n",
    "                    (\n",
    "                        \"date_encoder\",\n",
    "                        DateEncoder(),\n",
    "                        [\"date_account_created\"]\n",
    "                    ),\n",
    "                    (\n",
    "                        \"date_encoder_2\",\n",
    "                        DateEncoder(date_format='%Y%m%d%H%M%S'),\n",
    "                        [\"timestamp_first_active\"]\n",
    "                    ),\n",
    "                    (\n",
    "                        \"device_mapper\",\n",
    "                        DeviceMapper(),\n",
    "                        [\"first_device_type\"]\n",
    "                    ),\n",
    "                    (\n",
    "                        \"browser_mapper\",\n",
    "                        BrowserMapper(),\n",
    "                        [\"first_browser\"]\n",
    "                    )\n",
    "                ], remainder=\"passthrough\"\n",
    "                ),\n",
    "                SimpleImputer(strategy=\"most_frequent\"),\n",
    "                OneHotEncoder(handle_unknown=\"ignore\")\n",
    "            ),\n",
    "            [\n",
    "                \"signup_method\",\n",
    "                \"gender\",\n",
    "                \"language\",\n",
    "                \"affiliate_channel\",\n",
    "                \"affiliate_provider\",\n",
    "                \"first_affiliate_tracked\",\n",
    "                \"signup_app\",\n",
    "                \"signup_flow\",\n",
    "                \"date_account_created\",\n",
    "                \"timestamp_first_active\",\n",
    "                \"first_device_type\",\n",
    "                \"first_browser\",\n",
    "            ]\n",
    "        ),\n",
    "        (\n",
    "            \"continuous\",\n",
    "            make_pipeline(\n",
    "                SimpleImputer(strategy=\"mean\"),\n",
    "                StandardScaler()\n",
    "            ), [\"age\",\"empty_vals\"]\n",
    "        )\n",
    "    ]),\n",
    "    XGBClassifier(\n",
    "        objective='multi:softprob',\n",
    "        n_estimators=150,\n",
    "        verbosity=1,\n",
    "        max_depth=10\n",
    "    )\n",
    ")\n",
    "\n",
    "main.run_mlflow_pipeline(\"../data/raw\", pipeline, run_test=False)\n"
   ]
  },
  {
   "cell_type": "code",
   "execution_count": 90,
   "metadata": {},
   "outputs": [],
   "source": [
    "import matplotlib.pyplot as plt\n",
    "\n",
    "width = 417.47307\n",
    "\n",
    "def set_size(width, fraction=1):\n",
    "    \"\"\"Set figure dimensions to avoid scaling in LaTeX.\n",
    "\n",
    "    Parameters\n",
    "    ----------\n",
    "    width: float\n",
    "            Document textwidth or columnwidth in pts\n",
    "    fraction: float, optional\n",
    "            Fraction of the width which you wish the figure to occupy\n",
    "\n",
    "    Returns\n",
    "    -------\n",
    "    fig_dim: tuple\n",
    "            Dimensions of figure in inches\n",
    "    \"\"\"\n",
    "    # Width of figure (in pts)\n",
    "    fig_width_pt = width * fraction\n",
    "\n",
    "    # Convert from pt to inches\n",
    "    inches_per_pt = 1 / 72.27\n",
    "\n",
    "    # Golden ratio to set aesthetic figure height\n",
    "    # https://disq.us/p/2940ij3\n",
    "    golden_ratio = (5**.5 - 1) / 2\n",
    "\n",
    "    # Figure width in inches\n",
    "    fig_width_in = fig_width_pt * inches_per_pt\n",
    "    # Figure height in inches\n",
    "    fig_height_in = fig_width_in * golden_ratio\n",
    "\n",
    "    fig_dim = (fig_width_in, fig_height_in)\n",
    "\n",
    "    return fig_dim\n",
    "\n",
    "tex_fonts = {\n",
    "    # Use LaTeX to write all text\n",
    "    \"text.usetex\": True,\n",
    "    \"font.family\": \"serif\",\n",
    "    # Use 10pt font in plots, to match 10pt font in document\n",
    "    \"axes.labelsize\": 10,\n",
    "    \"font.size\": 10,\n",
    "    # Make the legend/label fonts a little smaller\n",
    "    \"legend.fontsize\": 8,\n",
    "    \"xtick.labelsize\": 8,\n",
    "    \"ytick.labelsize\": 8\n",
    "}\n",
    "\n",
    "plt.rcParams.update(tex_fonts)"
   ]
  },
  {
   "cell_type": "code",
   "execution_count": 2,
   "metadata": {},
   "outputs": [],
   "source": [
    "col_transformers = pipeline['columntransformer'].transformers_\n",
    "category_step = col_transformers[0]\n",
    "category_encoder = category_step[1]['onehotencoder']\n",
    "columns_in = np.append(category_encoder.get_feature_names(), col_transformers[1][2])\n"
   ]
  },
  {
   "cell_type": "code",
   "execution_count": 3,
   "metadata": {},
   "outputs": [
    {
     "output_type": "execute_result",
     "data": {
      "text/plain": [
       "x0_2010       0.004001\n",
       "x0_2011       0.004441\n",
       "x0_2012       0.004809\n",
       "x0_2013       0.002392\n",
       "x0_2014       0.002705\n",
       "                ...   \n",
       "x19_23        0.002092\n",
       "x19_24        0.002060\n",
       "x19_25        0.002811\n",
       "age           0.004998\n",
       "empty_vals    0.139182\n",
       "Length: 233, dtype: float32"
      ]
     },
     "metadata": {},
     "execution_count": 3
    }
   ],
   "source": [
    "pd.Series(index=columns_in, data=pipeline['xgbclassifier'].feature_importances_)"
   ]
  },
  {
   "cell_type": "code",
   "execution_count": 10,
   "metadata": {},
   "outputs": [
    {
     "output_type": "execute_result",
     "data": {
      "text/plain": [
       "['date_encoder__date_account_created_year',\n",
       " 'date_encoder__date_account_created_month',\n",
       " 'date_encoder__date_account_created_day',\n",
       " 'date_encoder__date_account_created_dayofweek',\n",
       " 'date_encoder_2__timestamp_first_active_year',\n",
       " 'date_encoder_2__timestamp_first_active_month',\n",
       " 'date_encoder_2__timestamp_first_active_day',\n",
       " 'date_encoder_2__timestamp_first_active_dayofweek',\n",
       " 'date_encoder_2__timestamp_first_active_hour',\n",
       " 'device_mapper__first_device_type_software',\n",
       " 'device_mapper__first_device_type_hardware',\n",
       " 'browser_mapper__first_browser',\n",
       " 'signup_method',\n",
       " 'gender',\n",
       " 'language',\n",
       " 'affiliate_channel',\n",
       " 'affiliate_provider',\n",
       " 'first_affiliate_tracked',\n",
       " 'signup_app',\n",
       " 'signup_flow']"
      ]
     },
     "metadata": {},
     "execution_count": 10
    }
   ],
   "source": []
  },
  {
   "cell_type": "code",
   "execution_count": 11,
   "metadata": {},
   "outputs": [
    {
     "output_type": "execute_result",
     "data": {
      "text/plain": [
       "[array([2010, 2011, 2012, 2013, 2014], dtype=object),\n",
       " array([1, 2, 3, 4, 5, 6, 7, 8, 9, 10, 11, 12], dtype=object),\n",
       " array([1, 2, 3, 4, 5, 6, 7, 8, 9, 10, 11, 12, 13, 14, 15, 16, 17, 18, 19,\n",
       "        20, 21, 22, 23, 24, 25, 26, 27, 28, 29, 30, 31], dtype=object),\n",
       " array([0, 1, 2, 3, 4, 5, 6], dtype=object),\n",
       " array([2009, 2010, 2011, 2012, 2013, 2014], dtype=object),\n",
       " array([1, 2, 3, 4, 5, 6, 7, 8, 9, 10, 11, 12], dtype=object),\n",
       " array([1, 2, 3, 4, 5, 6, 7, 8, 9, 10, 11, 12, 13, 14, 15, 16, 17, 18, 19,\n",
       "        20, 21, 22, 23, 24, 25, 26, 27, 28, 29, 30, 31], dtype=object),\n",
       " array([0, 1, 2, 3, 4, 5, 6], dtype=object),\n",
       " array([0, 1, 2, 3, 4, 5, 6, 7, 8, 9, 10, 11, 12, 13, 14, 15, 16, 17, 18,\n",
       "        19, 20, 21, 22, 23], dtype=object),\n",
       " array(['Android', 'Apple', 'Other', 'Windows'], dtype=object),\n",
       " array(['Desktop', 'Other', 'Phone', 'Tablet'], dtype=object),\n",
       " array(['Chrome', 'Firefox', 'IE', 'Other', 'Safari'], dtype=object),\n",
       " array(['basic', 'facebook', 'google'], dtype=object),\n",
       " array(['FEMALE', 'MALE', 'OTHER'], dtype=object),\n",
       " array(['ca', 'cs', 'da', 'de', 'el', 'en', 'es', 'fi', 'fr', 'hu', 'id',\n",
       "        'is', 'it', 'ja', 'ko', 'nl', 'no', 'pl', 'pt', 'ru', 'sv', 'th',\n",
       "        'tr', 'zh'], dtype=object),\n",
       " array(['api', 'content', 'direct', 'other', 'remarketing', 'sem-brand',\n",
       "        'sem-non-brand', 'seo'], dtype=object),\n",
       " array(['baidu', 'bing', 'craigslist', 'direct', 'email-marketing',\n",
       "        'facebook', 'facebook-open-graph', 'google', 'gsp', 'meetup',\n",
       "        'naver', 'other', 'padmapper', 'vast', 'wayn', 'yahoo', 'yandex'],\n",
       "       dtype=object),\n",
       " array(['linked', 'local ops', 'marketing', 'omg', 'product',\n",
       "        'tracked-other', 'untracked'], dtype=object),\n",
       " array(['Android', 'Moweb', 'Web', 'iOS'], dtype=object),\n",
       " array([0, 1, 2, 3, 4, 5, 6, 8, 10, 12, 15, 16, 20, 21, 23, 24, 25],\n",
       "       dtype=object)]"
      ]
     },
     "metadata": {},
     "execution_count": 11
    }
   ],
   "source": []
  },
  {
   "cell_type": "code",
   "execution_count": 18,
   "metadata": {},
   "outputs": [],
   "source": [
    "categorical_features = category_step[1]['columntransformer'].get_feature_names()"
   ]
  },
  {
   "cell_type": "code",
   "execution_count": 47,
   "metadata": {},
   "outputs": [],
   "source": [
    "tuples = [\n",
    "        (categorical_features[i], category)\n",
    "        for i in range(len(categorical_features))\n",
    "        for category in category_encoder.categories_[i]\n",
    "    ] + list(zip(col_transformers[1][2], col_transformers[1][2]))\n"
   ]
  },
  {
   "cell_type": "code",
   "execution_count": 48,
   "metadata": {},
   "outputs": [],
   "source": [
    "index = pd.MultiIndex.from_tuples(tuples)"
   ]
  },
  {
   "cell_type": "code",
   "execution_count": 38,
   "metadata": {},
   "outputs": [],
   "source": [
    "feature_importances = pd.Series(index=index, data=pipeline['xgbclassifier'].feature_importances_)"
   ]
  },
  {
   "cell_type": "code",
   "execution_count": 68,
   "metadata": {},
   "outputs": [
    {
     "output_type": "execute_result",
     "data": {
      "text/plain": [
       "affiliate_channel                                   0.022894\n",
       "affiliate_provider                                  0.028442\n",
       "age                                                 0.004998\n",
       "browser_mapper__first_browser                       0.056187\n",
       "date_encoder_2__timestamp_first_active_day          0.069789\n",
       "date_encoder_2__timestamp_first_active_dayofweek    0.017543\n",
       "date_encoder_2__timestamp_first_active_hour         0.069010\n",
       "date_encoder_2__timestamp_first_active_month        0.031084\n",
       "date_encoder_2__timestamp_first_active_year         0.025742\n",
       "date_encoder__date_account_created_day              0.088354\n",
       "date_encoder__date_account_created_dayofweek        0.017135\n",
       "date_encoder__date_account_created_month            0.035812\n",
       "date_encoder__date_account_created_year             0.018348\n",
       "device_mapper__first_device_type_hardware           0.013990\n",
       "device_mapper__first_device_type_software           0.023322\n",
       "empty_vals                                          0.139182\n",
       "first_affiliate_tracked                             0.015339\n",
       "gender                                              0.024422\n",
       "language                                            0.030848\n",
       "signup_app                                          0.026984\n",
       "signup_flow                                         0.035189\n",
       "signup_method                                       0.205386\n",
       "dtype: float32"
      ]
     },
     "metadata": {},
     "execution_count": 68
    }
   ],
   "source": [
    "feature_importances.groupby(level=0).sum()"
   ]
  },
  {
   "cell_type": "code",
   "execution_count": 69,
   "metadata": {},
   "outputs": [],
   "source": [
    "outer_index = feature_importances.index.get_level_values(0).copy().values"
   ]
  },
  {
   "cell_type": "code",
   "execution_count": 70,
   "metadata": {},
   "outputs": [],
   "source": [
    "first_level_values = feature_importances.index.get_level_values(0).unique()"
   ]
  },
  {
   "cell_type": "code",
   "execution_count": 71,
   "metadata": {},
   "outputs": [],
   "source": [
    "\n",
    "for group_col in [\"first_browser\", \"timestamp_first_active\", \"date_account_created\", \"first_device_type\"]:\n",
    "\n",
    "    for timestamp_first_active_sub in first_level_values[first_level_values.str.contains(group_col)]: \n",
    "        outer_index[outer_index == timestamp_first_active_sub] = group_col"
   ]
  },
  {
   "cell_type": "code",
   "execution_count": 73,
   "metadata": {},
   "outputs": [
    {
     "output_type": "execute_result",
     "data": {
      "text/plain": [
       "array(['affiliate_channel', 'affiliate_provider', 'age',\n",
       "       'date_account_created', 'empty_vals', 'first_affiliate_tracked',\n",
       "       'first_browser', 'first_device_type', 'gender', 'language',\n",
       "       'signup_app', 'signup_flow', 'signup_method',\n",
       "       'timestamp_first_active'], dtype=object)"
      ]
     },
     "metadata": {},
     "execution_count": 73
    }
   ],
   "source": [
    "np.unique(outer_index)"
   ]
  },
  {
   "cell_type": "code",
   "execution_count": 83,
   "metadata": {},
   "outputs": [],
   "source": [
    "new_index = pd.MultiIndex.from_tuples([(y, x[0], x[1])for x, y in zip(tuples, outer_index)])"
   ]
  },
  {
   "cell_type": "code",
   "execution_count": 85,
   "metadata": {},
   "outputs": [],
   "source": [
    "feature_importances = pd.Series(index=new_index, data=pipeline['xgbclassifier'].feature_importances_)"
   ]
  },
  {
   "cell_type": "code",
   "execution_count": 93,
   "metadata": {},
   "outputs": [],
   "source": [
    "level_0_importances = feature_importances.groupby(level=0).sum()"
   ]
  },
  {
   "cell_type": "code",
   "execution_count": 96,
   "metadata": {},
   "outputs": [],
   "source": [
    "level_0_importances.index = level_0_importances.index.str.replace(\"_\", \"\\_\")"
   ]
  },
  {
   "cell_type": "code",
   "execution_count": 101,
   "metadata": {},
   "outputs": [
    {
     "output_type": "display_data",
     "data": {
      "text/plain": "<Figure size 415.913x257.049 with 1 Axes>",
      "image/svg+xml": "<?xml version=\"1.0\" encoding=\"utf-8\" standalone=\"no\"?>\n<!DOCTYPE svg PUBLIC \"-//W3C//DTD SVG 1.1//EN\"\n  \"http://www.w3.org/Graphics/SVG/1.1/DTD/svg11.dtd\">\n<!-- Created with matplotlib (https://matplotlib.org/) -->\n<svg height=\"222.556251pt\" version=\"1.1\" viewBox=\"0 0 425.20545 222.556251\" width=\"425.20545pt\" xmlns=\"http://www.w3.org/2000/svg\" xmlns:xlink=\"http://www.w3.org/1999/xlink\">\n <metadata>\n  <rdf:RDF xmlns:cc=\"http://creativecommons.org/ns#\" xmlns:dc=\"http://purl.org/dc/elements/1.1/\" xmlns:rdf=\"http://www.w3.org/1999/02/22-rdf-syntax-ns#\">\n   <cc:Work>\n    <dc:type rdf:resource=\"http://purl.org/dc/dcmitype/StillImage\"/>\n    <dc:date>2021-04-17T17:17:05.376636</dc:date>\n    <dc:format>image/svg+xml</dc:format>\n    <dc:creator>\n     <cc:Agent>\n      <dc:title>Matplotlib v3.3.4, https://matplotlib.org/</dc:title>\n     </cc:Agent>\n    </dc:creator>\n   </cc:Work>\n  </rdf:RDF>\n </metadata>\n <defs>\n  <style type=\"text/css\">*{stroke-linecap:butt;stroke-linejoin:round;}</style>\n </defs>\n <g id=\"figure_1\">\n  <g id=\"patch_1\">\n   <path d=\"M 0 222.556251 \nL 425.20545 222.556251 \nL 425.20545 0 \nL 0 0 \nz\n\" style=\"fill:none;\"/>\n  </g>\n  <g id=\"axes_1\">\n   <g id=\"patch_2\">\n    <path d=\"M 95.672569 201.271704 \nL 418.00545 201.271704 \nL 418.00545 7.2 \nL 95.672569 7.2 \nz\n\" style=\"fill:#ffffff;\"/>\n   </g>\n   <g id=\"patch_3\">\n    <path clip-path=\"url(#pfa1aa86350)\" d=\"M 95.672569 197.806138 \nL 128.642312 197.806138 \nL 128.642312 190.875005 \nL 95.672569 190.875005 \nz\n\" style=\"fill:#1f77b4;\"/>\n   </g>\n   <g id=\"patch_4\">\n    <path clip-path=\"url(#pfa1aa86350)\" d=\"M 95.672569 183.943873 \nL 136.631581 183.943873 \nL 136.631581 177.012741 \nL 95.672569 177.012741 \nz\n\" style=\"fill:#1f77b4;\"/>\n   </g>\n   <g id=\"patch_5\">\n    <path clip-path=\"url(#pfa1aa86350)\" d=\"M 95.672569 170.081609 \nL 102.870747 170.081609 \nL 102.870747 163.150476 \nL 95.672569 163.150476 \nz\n\" style=\"fill:#1f77b4;\"/>\n   </g>\n   <g id=\"patch_6\">\n    <path clip-path=\"url(#pfa1aa86350)\" d=\"M 95.672569 156.219344 \nL 325.583935 156.219344 \nL 325.583935 149.288212 \nL 95.672569 149.288212 \nz\n\" style=\"fill:#1f77b4;\"/>\n   </g>\n   <g id=\"patch_7\">\n    <path clip-path=\"url(#pfa1aa86350)\" d=\"M 95.672569 142.357079 \nL 296.10992 142.357079 \nL 296.10992 135.425947 \nL 95.672569 135.425947 \nz\n\" style=\"fill:#1f77b4;\"/>\n   </g>\n   <g id=\"patch_8\">\n    <path clip-path=\"url(#pfa1aa86350)\" d=\"M 95.672569 128.494815 \nL 117.763077 128.494815 \nL 117.763077 121.563683 \nL 95.672569 121.563683 \nz\n\" style=\"fill:#1f77b4;\"/>\n   </g>\n   <g id=\"patch_9\">\n    <path clip-path=\"url(#pfa1aa86350)\" d=\"M 95.672569 114.63255 \nL 176.587448 114.63255 \nL 176.587448 107.701418 \nL 95.672569 107.701418 \nz\n\" style=\"fill:#1f77b4;\"/>\n   </g>\n   <g id=\"patch_10\">\n    <path clip-path=\"url(#pfa1aa86350)\" d=\"M 95.672569 100.770286 \nL 149.406172 100.770286 \nL 149.406172 93.839153 \nL 95.672569 93.839153 \nz\n\" style=\"fill:#1f77b4;\"/>\n   </g>\n   <g id=\"patch_11\">\n    <path clip-path=\"url(#pfa1aa86350)\" d=\"M 95.672569 86.908021 \nL 130.842324 86.908021 \nL 130.842324 79.976889 \nL 95.672569 79.976889 \nz\n\" style=\"fill:#1f77b4;\"/>\n   </g>\n   <g id=\"patch_12\">\n    <path clip-path=\"url(#pfa1aa86350)\" d=\"M 95.672569 73.045757 \nL 140.096657 73.045757 \nL 140.096657 66.114624 \nL 95.672569 66.114624 \nz\n\" style=\"fill:#1f77b4;\"/>\n   </g>\n   <g id=\"patch_13\">\n    <path clip-path=\"url(#pfa1aa86350)\" d=\"M 95.672569 59.183492 \nL 134.532903 59.183492 \nL 134.532903 52.25236 \nL 95.672569 52.25236 \nz\n\" style=\"fill:#1f77b4;\"/>\n   </g>\n   <g id=\"patch_14\">\n    <path clip-path=\"url(#pfa1aa86350)\" d=\"M 95.672569 45.321228 \nL 146.348946 45.321228 \nL 146.348946 38.390095 \nL 95.672569 38.390095 \nz\n\" style=\"fill:#1f77b4;\"/>\n   </g>\n   <g id=\"patch_15\">\n    <path clip-path=\"url(#pfa1aa86350)\" d=\"M 95.672569 31.458963 \nL 391.45039 31.458963 \nL 391.45039 24.527831 \nL 95.672569 24.527831 \nz\n\" style=\"fill:#1f77b4;\"/>\n   </g>\n   <g id=\"patch_16\">\n    <path clip-path=\"url(#pfa1aa86350)\" d=\"M 95.672569 17.596698 \nL 402.656265 17.596698 \nL 402.656265 10.665566 \nL 95.672569 10.665566 \nz\n\" style=\"fill:#1f77b4;\"/>\n   </g>\n   <g id=\"matplotlib.axis_1\">\n    <g id=\"xtick_1\">\n     <g id=\"line2d_1\">\n      <defs>\n       <path d=\"M 0 0 \nL 0 3.5 \n\" id=\"m4eee6dd48f\" style=\"stroke:#000000;stroke-width:0.8;\"/>\n      </defs>\n      <g>\n       <use style=\"stroke:#000000;stroke-width:0.8;\" x=\"95.672569\" xlink:href=\"#m4eee6dd48f\" y=\"201.271704\"/>\n      </g>\n     </g>\n     <g id=\"text_1\">\n      <!-- $\\mathdefault{0.000}$ -->\n      <g transform=\"translate(86.028042 213.806506)scale(0.08 -0.08)\">\n       <defs>\n        <path d=\"M 42 31.640625 \nC 42 37.75 41.90625 48.125 37.703125 56.109375 \nC 34 63.109375 28.09375 65.59375 22.90625 65.59375 \nC 18.09375 65.59375 12 63.40625 8.203125 56.203125 \nC 4.203125 48.71875 3.796875 39.4375 3.796875 31.640625 \nC 3.796875 25.953125 3.90625 17.28125 7 9.671875 \nC 11.296875 -0.609375 19 -2 22.90625 -2 \nC 27.5 -2 34.5 -0.109375 38.59375 9.375 \nC 41.59375 16.28125 42 24.359375 42 31.640625 \nz\nM 22.90625 -0.40625 \nC 16.5 -0.40625 12.703125 5.078125 11.296875 12.6875 \nC 10.203125 18.5625 10.203125 27.15625 10.203125 32.75 \nC 10.203125 40.4375 10.203125 46.828125 11.5 52.921875 \nC 13.40625 61.390625 19 64 22.90625 64 \nC 27 64 32.296875 61.296875 34.203125 53.125 \nC 35.5 47.4375 35.59375 40.734375 35.59375 32.75 \nC 35.59375 26.25 35.59375 18.265625 34.40625 12.375 \nC 32.296875 1.484375 26.40625 -0.40625 22.90625 -0.40625 \nz\n\" id=\"CMR17-48\"/>\n        <path d=\"M 18.40625 4.796875 \nC 18.40625 7.6875 16 9.671875 13.59375 9.671875 \nC 10.703125 9.671875 8.703125 7.28125 8.703125 4.890625 \nC 8.703125 2 11.09375 0 13.5 0 \nC 16.40625 0 18.40625 2.390625 18.40625 4.796875 \nz\n\" id=\"CMMI12-58\"/>\n       </defs>\n       <use transform=\"scale(0.996264)\" xlink:href=\"#CMR17-48\"/>\n       <use transform=\"translate(45.690477 0)scale(0.996264)\" xlink:href=\"#CMMI12-58\"/>\n       <use transform=\"translate(72.787654 0)scale(0.996264)\" xlink:href=\"#CMR17-48\"/>\n       <use transform=\"translate(118.478131 0)scale(0.996264)\" xlink:href=\"#CMR17-48\"/>\n       <use transform=\"translate(164.168608 0)scale(0.996264)\" xlink:href=\"#CMR17-48\"/>\n      </g>\n     </g>\n    </g>\n    <g id=\"xtick_2\">\n     <g id=\"line2d_2\">\n      <g>\n       <use style=\"stroke:#000000;stroke-width:0.8;\" x=\"131.675235\" xlink:href=\"#m4eee6dd48f\" y=\"201.271704\"/>\n      </g>\n     </g>\n     <g id=\"text_2\">\n      <!-- $\\mathdefault{0.025}$ -->\n      <g transform=\"translate(122.030707 213.806506)scale(0.08 -0.08)\">\n       <defs>\n        <path d=\"M 41.703125 15.453125 \nL 39.90625 15.453125 \nC 38.90625 8.375 38.09375 7.171875 37.703125 6.5625 \nC 37.203125 5.765625 30 5.765625 28.59375 5.765625 \nL 9.40625 5.765625 \nC 13 9.671875 20 16.75 28.5 24.953125 \nC 34.59375 30.734375 41.703125 37.53125 41.703125 47.421875 \nC 41.703125 59.21875 32.296875 66 21.796875 66 \nC 10.796875 66 4.09375 56.3125 4.09375 47.34375 \nC 4.09375 43.4375 7 42.9375 8.203125 42.9375 \nC 9.203125 42.9375 12.203125 43.546875 12.203125 47.03125 \nC 12.203125 50.109375 9.59375 51 8.203125 51 \nC 7.59375 51 7 50.90625 6.59375 50.703125 \nC 8.5 59.21875 14.296875 63.40625 20.40625 63.40625 \nC 29.09375 63.40625 34.796875 56.515625 34.796875 47.421875 \nC 34.796875 38.734375 29.703125 31.25 24 24.75 \nL 4.09375 2.28125 \nL 4.09375 0 \nL 39.296875 0 \nz\n\" id=\"CMR17-50\"/>\n        <path d=\"M 11.40625 57.6875 \nC 12.40625 57.28125 16.5 56 20.703125 56 \nC 30 56 35.09375 61.109375 38 64.0625 \nC 38 64.953125 38 65.5 37.40625 65.5 \nC 37.296875 65.5 37.09375 65.5 36.296875 65.046875 \nC 32.796875 63.40625 28.703125 62.078125 23.703125 62.078125 \nC 20.703125 62.078125 16.203125 62.484375 11.296875 64.671875 \nC 10.203125 65.171875 10 65.171875 9.90625 65.171875 \nC 9.40625 65.171875 9.296875 65.0625 9.296875 63.078125 \nL 9.296875 34.421875 \nC 9.296875 32.640625 9.296875 32.140625 10.296875 32.140625 \nC 10.796875 32.140625 11 32.34375 11.5 33.03125 \nC 14.703125 37.515625 19.09375 39.40625 24.09375 39.40625 \nC 27.59375 39.40625 35.09375 37.21875 35.09375 20.140625 \nC 35.09375 16.953125 35.09375 11.171875 32.09375 6.578125 \nC 29.59375 2.484375 25.703125 0.390625 21.40625 0.390625 \nC 14.796875 0.390625 8.09375 5 6.296875 12.71875 \nC 6.703125 12.609375 7.5 12.421875 7.90625 12.421875 \nC 9.203125 12.421875 11.703125 13.125 11.703125 16.21875 \nC 11.703125 18.90625 9.796875 20 7.90625 20 \nC 5.59375 20 4.09375 18.59375 4.09375 15.796875 \nC 4.09375 7.09375 11 -2 21.59375 -2 \nC 31.90625 -2 41.703125 6.875 41.703125 19.75 \nC 41.703125 31.71875 33.90625 41 24.203125 41 \nC 19.09375 41 14.796875 39.109375 11.40625 35.53125 \nz\n\" id=\"CMR17-53\"/>\n       </defs>\n       <use transform=\"scale(0.996264)\" xlink:href=\"#CMR17-48\"/>\n       <use transform=\"translate(45.690477 0)scale(0.996264)\" xlink:href=\"#CMMI12-58\"/>\n       <use transform=\"translate(72.787654 0)scale(0.996264)\" xlink:href=\"#CMR17-48\"/>\n       <use transform=\"translate(118.478131 0)scale(0.996264)\" xlink:href=\"#CMR17-50\"/>\n       <use transform=\"translate(164.168608 0)scale(0.996264)\" xlink:href=\"#CMR17-53\"/>\n      </g>\n     </g>\n    </g>\n    <g id=\"xtick_3\">\n     <g id=\"line2d_3\">\n      <g>\n       <use style=\"stroke:#000000;stroke-width:0.8;\" x=\"167.6779\" xlink:href=\"#m4eee6dd48f\" y=\"201.271704\"/>\n      </g>\n     </g>\n     <g id=\"text_3\">\n      <!-- $\\mathdefault{0.050}$ -->\n      <g transform=\"translate(158.033373 213.806506)scale(0.08 -0.08)\">\n       <use transform=\"scale(0.996264)\" xlink:href=\"#CMR17-48\"/>\n       <use transform=\"translate(45.690477 0)scale(0.996264)\" xlink:href=\"#CMMI12-58\"/>\n       <use transform=\"translate(72.787654 0)scale(0.996264)\" xlink:href=\"#CMR17-48\"/>\n       <use transform=\"translate(118.478131 0)scale(0.996264)\" xlink:href=\"#CMR17-53\"/>\n       <use transform=\"translate(164.168608 0)scale(0.996264)\" xlink:href=\"#CMR17-48\"/>\n      </g>\n     </g>\n    </g>\n    <g id=\"xtick_4\">\n     <g id=\"line2d_4\">\n      <g>\n       <use style=\"stroke:#000000;stroke-width:0.8;\" x=\"203.680566\" xlink:href=\"#m4eee6dd48f\" y=\"201.271704\"/>\n      </g>\n     </g>\n     <g id=\"text_4\">\n      <!-- $\\mathdefault{0.075}$ -->\n      <g transform=\"translate(194.036038 213.806506)scale(0.08 -0.08)\">\n       <defs>\n        <path d=\"M 45.09375 61.578125 \nL 45.09375 63.765625 \nL 21.59375 63.765625 \nC 9.90625 63.765625 9.703125 65.078125 9.296875 67 \nL 7.5 67 \nL 4.59375 48.34375 \nL 6.40625 48.34375 \nC 6.703125 50.234375 7.40625 55.3125 8.59375 57.203125 \nC 9.203125 58 16.59375 58 18.296875 58 \nL 40.296875 58 \nL 29.203125 41.578125 \nC 21.796875 30.53125 16.703125 15.609375 16.703125 2.578125 \nC 16.703125 1.390625 16.703125 -2 20.296875 -2 \nC 23.90625 -2 23.90625 1.390625 23.90625 2.671875 \nL 23.90625 7.265625 \nC 23.90625 23.5625 26.703125 34.3125 31.296875 41.1875 \nz\n\" id=\"CMR17-55\"/>\n       </defs>\n       <use transform=\"scale(0.996264)\" xlink:href=\"#CMR17-48\"/>\n       <use transform=\"translate(45.690477 0)scale(0.996264)\" xlink:href=\"#CMMI12-58\"/>\n       <use transform=\"translate(72.787654 0)scale(0.996264)\" xlink:href=\"#CMR17-48\"/>\n       <use transform=\"translate(118.478131 0)scale(0.996264)\" xlink:href=\"#CMR17-55\"/>\n       <use transform=\"translate(164.168608 0)scale(0.996264)\" xlink:href=\"#CMR17-53\"/>\n      </g>\n     </g>\n    </g>\n    <g id=\"xtick_5\">\n     <g id=\"line2d_5\">\n      <g>\n       <use style=\"stroke:#000000;stroke-width:0.8;\" x=\"239.683231\" xlink:href=\"#m4eee6dd48f\" y=\"201.271704\"/>\n      </g>\n     </g>\n     <g id=\"text_5\">\n      <!-- $\\mathdefault{0.100}$ -->\n      <g transform=\"translate(230.038703 213.806506)scale(0.08 -0.08)\">\n       <defs>\n        <path d=\"M 26.59375 63.40625 \nC 26.59375 65.5 26.5 65.5 25.09375 65.5 \nC 21.203125 61.1875 15.296875 59.796875 9.703125 59.796875 \nC 9.40625 59.796875 8.90625 59.796875 8.796875 59.5 \nC 8.703125 59.296875 8.703125 59.09375 8.703125 57 \nC 11.796875 57 17 57.59375 21 59.984375 \nL 21 7.203125 \nC 21 3.6875 20.796875 2.5 12.203125 2.5 \nL 9.203125 2.5 \nL 9.203125 0 \nC 14 0 19 0 23.796875 0 \nC 28.59375 0 33.59375 0 38.40625 0 \nL 38.40625 2.5 \nL 35.40625 2.5 \nC 26.796875 2.5 26.59375 3.59375 26.59375 7.15625 \nz\n\" id=\"CMR17-49\"/>\n       </defs>\n       <use transform=\"scale(0.996264)\" xlink:href=\"#CMR17-48\"/>\n       <use transform=\"translate(45.690477 0)scale(0.996264)\" xlink:href=\"#CMMI12-58\"/>\n       <use transform=\"translate(72.787654 0)scale(0.996264)\" xlink:href=\"#CMR17-49\"/>\n       <use transform=\"translate(118.478131 0)scale(0.996264)\" xlink:href=\"#CMR17-48\"/>\n       <use transform=\"translate(164.168608 0)scale(0.996264)\" xlink:href=\"#CMR17-48\"/>\n      </g>\n     </g>\n    </g>\n    <g id=\"xtick_6\">\n     <g id=\"line2d_6\">\n      <g>\n       <use style=\"stroke:#000000;stroke-width:0.8;\" x=\"275.685896\" xlink:href=\"#m4eee6dd48f\" y=\"201.271704\"/>\n      </g>\n     </g>\n     <g id=\"text_6\">\n      <!-- $\\mathdefault{0.125}$ -->\n      <g transform=\"translate(266.041369 213.806506)scale(0.08 -0.08)\">\n       <use transform=\"scale(0.996264)\" xlink:href=\"#CMR17-48\"/>\n       <use transform=\"translate(45.690477 0)scale(0.996264)\" xlink:href=\"#CMMI12-58\"/>\n       <use transform=\"translate(72.787654 0)scale(0.996264)\" xlink:href=\"#CMR17-49\"/>\n       <use transform=\"translate(118.478131 0)scale(0.996264)\" xlink:href=\"#CMR17-50\"/>\n       <use transform=\"translate(164.168608 0)scale(0.996264)\" xlink:href=\"#CMR17-53\"/>\n      </g>\n     </g>\n    </g>\n    <g id=\"xtick_7\">\n     <g id=\"line2d_7\">\n      <g>\n       <use style=\"stroke:#000000;stroke-width:0.8;\" x=\"311.688562\" xlink:href=\"#m4eee6dd48f\" y=\"201.271704\"/>\n      </g>\n     </g>\n     <g id=\"text_7\">\n      <!-- $\\mathdefault{0.150}$ -->\n      <g transform=\"translate(302.044034 213.806506)scale(0.08 -0.08)\">\n       <use transform=\"scale(0.996264)\" xlink:href=\"#CMR17-48\"/>\n       <use transform=\"translate(45.690477 0)scale(0.996264)\" xlink:href=\"#CMMI12-58\"/>\n       <use transform=\"translate(72.787654 0)scale(0.996264)\" xlink:href=\"#CMR17-49\"/>\n       <use transform=\"translate(118.478131 0)scale(0.996264)\" xlink:href=\"#CMR17-53\"/>\n       <use transform=\"translate(164.168608 0)scale(0.996264)\" xlink:href=\"#CMR17-48\"/>\n      </g>\n     </g>\n    </g>\n    <g id=\"xtick_8\">\n     <g id=\"line2d_8\">\n      <g>\n       <use style=\"stroke:#000000;stroke-width:0.8;\" x=\"347.691227\" xlink:href=\"#m4eee6dd48f\" y=\"201.271704\"/>\n      </g>\n     </g>\n     <g id=\"text_8\">\n      <!-- $\\mathdefault{0.175}$ -->\n      <g transform=\"translate(338.0467 213.806506)scale(0.08 -0.08)\">\n       <use transform=\"scale(0.996264)\" xlink:href=\"#CMR17-48\"/>\n       <use transform=\"translate(45.690477 0)scale(0.996264)\" xlink:href=\"#CMMI12-58\"/>\n       <use transform=\"translate(72.787654 0)scale(0.996264)\" xlink:href=\"#CMR17-49\"/>\n       <use transform=\"translate(118.478131 0)scale(0.996264)\" xlink:href=\"#CMR17-55\"/>\n       <use transform=\"translate(164.168608 0)scale(0.996264)\" xlink:href=\"#CMR17-53\"/>\n      </g>\n     </g>\n    </g>\n    <g id=\"xtick_9\">\n     <g id=\"line2d_9\">\n      <g>\n       <use style=\"stroke:#000000;stroke-width:0.8;\" x=\"383.693893\" xlink:href=\"#m4eee6dd48f\" y=\"201.271704\"/>\n      </g>\n     </g>\n     <g id=\"text_9\">\n      <!-- $\\mathdefault{0.200}$ -->\n      <g transform=\"translate(374.049365 213.806506)scale(0.08 -0.08)\">\n       <use transform=\"scale(0.996264)\" xlink:href=\"#CMR17-48\"/>\n       <use transform=\"translate(45.690477 0)scale(0.996264)\" xlink:href=\"#CMMI12-58\"/>\n       <use transform=\"translate(72.787654 0)scale(0.996264)\" xlink:href=\"#CMR17-50\"/>\n       <use transform=\"translate(118.478131 0)scale(0.996264)\" xlink:href=\"#CMR17-48\"/>\n       <use transform=\"translate(164.168608 0)scale(0.996264)\" xlink:href=\"#CMR17-48\"/>\n      </g>\n     </g>\n    </g>\n   </g>\n   <g id=\"matplotlib.axis_2\">\n    <g id=\"ytick_1\">\n     <g id=\"line2d_10\">\n      <defs>\n       <path d=\"M 0 0 \nL -3.5 0 \n\" id=\"me7bb8233f0\" style=\"stroke:#000000;stroke-width:0.8;\"/>\n      </defs>\n      <g>\n       <use style=\"stroke:#000000;stroke-width:0.8;\" x=\"95.672569\" xlink:href=\"#me7bb8233f0\" y=\"194.340572\"/>\n      </g>\n     </g>\n     <g id=\"text_10\">\n      <!-- affiliate\\_channel -->\n      <g transform=\"translate(30.344364 197.107972)scale(0.08 -0.08)\">\n       <defs>\n        <path d=\"M 36 25.828125 \nC 36 32.375 36 35.84375 31.796875 39.734375 \nC 28.09375 43 23.796875 44 20.40625 44 \nC 12.5 44 6.796875 37.609375 6.796875 30.796875 \nC 6.796875 27 9.796875 27 10.40625 27 \nC 11.703125 27 14 27.78125 14 30.53125 \nC 14 33 12.09375 34.078125 10.40625 34.078125 \nC 10 34.078125 9.5 33.96875 9.203125 33.875 \nC 11.296875 40.5 16.703125 42.40625 20.203125 42.40625 \nC 25.203125 42.40625 30.703125 37.953125 30.703125 29.453125 \nL 30.703125 25 \nC 24.796875 25 17.703125 24.203125 12.09375 21.203125 \nC 5.796875 17.703125 4 12.703125 4 8.90625 \nC 4 1.203125 13 -1 18.296875 -1 \nC 23.796875 -1 28.90625 2.171875 31.09375 7.984375 \nC 31.296875 3.640625 34.09375 -0.28125 38.5 -0.28125 \nC 40.59375 -0.28125 45.90625 1.09375 45.90625 8.859375 \nL 45.90625 14.375 \nL 44.09375 14.375 \nL 44.09375 8.78125 \nC 44.09375 2.78125 41.40625 2 40.09375 2 \nC 36 2 36 7.15625 36 11.53125 \nz\nM 30.703125 13.59375 \nC 30.703125 4.953125 24.5 0.59375 19 0.59375 \nC 14 0.59375 10.09375 4.296875 10.09375 8.90625 \nC 10.09375 11.890625 11.40625 17.1875 17.203125 20.390625 \nC 22 23.09375 27.5 23.5 30.703125 23.5 \nz\n\" id=\"CMR17-97\"/>\n        <path d=\"M 64.90625 43.1875 \nC 62.5 43.1875 55.09375 43.1875 53.203125 42.796875 \nC 52.59375 42.578125 52.40625 42.578125 51.203125 42.578125 \nL 39.796875 42.578125 \nL 39.796875 54.203125 \nC 39.796875 63.640625 47.40625 68 53.40625 68 \nC 55.296875 68 59.59375 67.5 61.796875 64.078125 \nC 60.796875 64.078125 57.59375 64.078125 57.59375 60.59375 \nC 57.59375 58.203125 59.203125 57 61.203125 57 \nC 63 57 64.796875 58 64.796875 60.703125 \nC 64.796875 65.703125 60 69.59375 53.796875 69.59375 \nC 50.703125 69.59375 44.203125 68.90625 39 63.984375 \nC 37.703125 66.59375 34.40625 69.59375 28.703125 69.59375 \nC 21 69.59375 9.90625 65.125 9.90625 54.203125 \nL 9.90625 42.578125 \nL 1.90625 42.578125 \nL 1.90625 40 \nL 9.90625 40 \nL 9.90625 6.671875 \nC 9.90625 2.875 9.5 2.390625 3.09375 2.390625 \nL 3.09375 -0.203125 \nC 5.5 0 9.90625 0 12.40625 0 \nC 15 0 19.40625 0 21.796875 -0.203125 \nL 21.796875 2.390625 \nC 15.40625 2.390625 15 2.78125 15 6.671875 \nL 15 40 \nL 34.90625 40 \nL 34.90625 6.671875 \nC 34.90625 2.875 34.5 2.390625 28.09375 2.390625 \nL 28.09375 -0.203125 \nC 30.5 0 34.90625 0 37.40625 0 \nC 40 0 44.40625 0 46.796875 -0.203125 \nL 46.796875 2.390625 \nC 40.40625 2.390625 40 2.78125 40 6.671875 \nL 40 40 \nL 54.703125 40 \nC 59 40 59.796875 39.09375 59.796875 34.71875 \nL 59.796875 6.671875 \nC 59.796875 2.875 59.40625 2.390625 53 2.390625 \nL 53 -0.203125 \nC 55.40625 0 59.796875 0 62.296875 0 \nC 64.90625 0 69.296875 0 71.703125 -0.203125 \nL 71.703125 2.390625 \nC 65.296875 2.390625 64.90625 2.78125 64.90625 6.671875 \nz\nM 14.796875 42.578125 \nL 14.796875 54.203125 \nC 14.796875 63.546875 22.203125 68 28.40625 68 \nC 31.90625 68 35.296875 66.5 36.796875 64.078125 \nC 35.796875 64.078125 32.5 64.078125 32.5 60.59375 \nC 32.5 58.78125 33.5 57.59375 35.09375 57.09375 \nC 34.90625 56.1875 34.90625 54.234375 34.90625 54.140625 \nL 34.90625 42.578125 \nz\n\" id=\"CMR17-14\"/>\n        <path d=\"M 15.296875 68.6875 \nL 3.40625 67.59375 \nL 3.40625 65 \nC 9.296875 65 10.203125 64.40625 10.203125 59.640625 \nL 10.203125 6.65625 \nC 10.203125 2.875 9.796875 2.390625 3.40625 2.390625 \nL 3.40625 -0.203125 \nC 5.796875 0 10.203125 0 12.703125 0 \nC 15.296875 0 19.703125 0 22.09375 -0.203125 \nL 22.09375 2.390625 \nC 15.703125 2.390625 15.296875 2.78125 15.296875 6.65625 \nz\n\" id=\"CMR17-108\"/>\n        <path d=\"M 15.5 61.078125 \nC 15.5 63.265625 13.703125 65.15625 11.40625 65.15625 \nC 9.203125 65.15625 7.296875 63.375 7.296875 61.078125 \nC 7.296875 58.890625 9.09375 57 11.40625 57 \nC 13.59375 57 15.5 58.796875 15.5 61.078125 \nz\nM 3.796875 42.28125 \nL 3.796875 39.703125 \nC 9.40625 39.703125 10.203125 39.09375 10.203125 34.328125 \nL 10.203125 6.671875 \nC 10.203125 2.875 9.796875 2.390625 3.40625 2.390625 \nL 3.40625 -0.203125 \nC 5.796875 0 10.09375 0 12.59375 0 \nC 15 0 19.09375 0 21.40625 -0.203125 \nL 21.40625 2.390625 \nC 15.5 2.390625 15.296875 2.984375 15.296875 6.5625 \nL 15.296875 43.375 \nz\n\" id=\"CMR17-105\"/>\n        <path d=\"M 15.09375 40 \nL 29.09375 40 \nL 29.09375 42.578125 \nL 15.09375 42.578125 \nL 15.09375 61 \nL 13.296875 61 \nC 13.09375 50.703125 9.59375 41.6875 1.09375 41.6875 \nL 1.09375 40 \nL 9.796875 40 \nL 9.796875 12.046875 \nC 9.796875 10.15625 9.796875 -1 21.40625 -1 \nC 27.296875 -1 30.703125 4.78125 30.703125 12.140625 \nL 30.703125 17.8125 \nL 28.90625 17.8125 \nL 28.90625 12.234375 \nC 28.90625 5.375 26.203125 0.796875 22 0.796875 \nC 19.09375 0.796875 15.09375 2.78125 15.09375 11.84375 \nz\n\" id=\"CMR17-116\"/>\n        <path d=\"M 38.09375 23 \nC 38.5 23.40625 38.5 23.609375 38.5 24.625 \nC 38.5 34.96875 33.09375 44 21.703125 44 \nC 11.09375 44 2.703125 33.890625 2.703125 21.609375 \nC 2.703125 8.609375 12.203125 -1 22.796875 -1 \nC 34 -1 38.40625 9.484375 38.40625 11.5625 \nC 38.40625 12.25 37.796875 12.25 37.59375 12.25 \nC 36.90625 12.25 36.796875 12.046875 36.40625 10.875 \nC 34.203125 4.140625 28.703125 0.796875 23.5 0.796875 \nC 19.203125 0.796875 14.90625 3.171875 12.203125 7.5 \nC 9.09375 12.546875 9.09375 18.375 9.09375 23 \nz\nM 9.203125 24.5 \nC 9.90625 39.140625 17.59375 42.40625 21.59375 42.40625 \nC 28.40625 42.40625 33 35.890625 33.09375 24.5 \nz\n\" id=\"CMR17-101\"/>\n        <path d=\"M 34.90625 35 \nC 33 35 30.203125 35 30.203125 31.515625 \nC 30.203125 28.71875 32.5 27.921875 33.796875 27.921875 \nC 34.5 27.921875 37.40625 28.234375 37.40625 31.625 \nC 37.40625 38.546875 30.59375 43.796875 22.90625 43.796875 \nC 12.296875 43.796875 3.296875 34.03125 3.296875 21.296875 \nC 3.296875 8.0625 12.703125 -1 22.90625 -1 \nC 35.296875 -1 38.40625 10.578125 38.40625 11.6875 \nC 38.40625 12.09375 38.296875 12.390625 37.59375 12.390625 \nC 36.90625 12.390625 36.796875 12.296875 36.40625 10.984375 \nC 33.796875 2.8125 28.09375 0.796875 23.796875 0.796875 \nC 17.40625 0.796875 9.703125 6.671875 9.703125 21.390625 \nC 9.703125 36.53125 17.09375 42 23 42 \nC 26.90625 42 32.703125 40.203125 34.90625 35 \nz\n\" id=\"CMR17-99\"/>\n        <path d=\"M 41.5 30.203125 \nC 41.5 35.296875 40.5 43.59375 28.703125 43.59375 \nC 20.5 43.59375 16.5 37 15.296875 33.703125 \nL 15.203125 33.703125 \nL 15.203125 68.6875 \nL 3.296875 67.59375 \nL 3.296875 65 \nC 9.203125 65 10.09375 64.40625 10.09375 59.640625 \nL 10.09375 6.65625 \nC 10.09375 2.875 9.703125 2.390625 3.296875 2.390625 \nL 3.296875 -0.203125 \nC 5.703125 0 10.09375 0 12.703125 0 \nC 15.296875 0 19.796875 0 22.203125 -0.203125 \nL 22.203125 2.390625 \nC 15.796875 2.390625 15.40625 2.78125 15.40625 6.6875 \nL 15.40625 25.90625 \nC 15.40625 35.109375 21 42 28 42 \nC 35.40625 42 36.203125 35.40625 36.203125 30.59375 \nL 36.203125 6.6875 \nC 36.203125 2.875 35.796875 2.390625 29.40625 2.390625 \nL 29.40625 -0.203125 \nC 31.796875 0 36.203125 0 38.796875 0 \nC 41.40625 0 45.90625 0 48.296875 -0.203125 \nL 48.296875 2.390625 \nC 41.90625 2.390625 41.5 2.78125 41.5 6.6875 \nz\n\" id=\"CMR17-104\"/>\n        <path d=\"M 41.5 30.203125 \nC 41.5 35.296875 40.5 43.59375 28.703125 43.59375 \nC 20.796875 43.59375 16.703125 37.5 15.203125 33.5 \nL 15.09375 33.5 \nL 15.09375 43.59375 \nL 3.296875 42.5 \nL 3.296875 39.90625 \nC 9.203125 39.90625 10.09375 39.296875 10.09375 34.5 \nL 10.09375 6.6875 \nC 10.09375 2.875 9.703125 2.390625 3.296875 2.390625 \nL 3.296875 -0.203125 \nC 5.703125 0 10.09375 0 12.703125 0 \nC 15.296875 0 19.796875 0 22.203125 -0.203125 \nL 22.203125 2.390625 \nC 15.796875 2.390625 15.40625 2.78125 15.40625 6.6875 \nL 15.40625 25.90625 \nC 15.40625 35.109375 21 42 28 42 \nC 35.40625 42 36.203125 35.40625 36.203125 30.59375 \nL 36.203125 6.6875 \nC 36.203125 2.875 35.796875 2.390625 29.40625 2.390625 \nL 29.40625 -0.203125 \nC 31.796875 0 36.203125 0 38.796875 0 \nC 41.40625 0 45.90625 0 48.296875 -0.203125 \nL 48.296875 2.390625 \nC 41.90625 2.390625 41.5 2.78125 41.5 6.6875 \nz\n\" id=\"CMR17-110\"/>\n       </defs>\n       <use transform=\"scale(0.996264)\" xlink:href=\"#CMR17-97\"/>\n       <use transform=\"translate(45.690477 0)scale(0.996264)\" xlink:href=\"#CMR17-14\"/>\n       <use transform=\"translate(120.303759 0)scale(0.996264)\" xlink:href=\"#CMR17-108\"/>\n       <use transform=\"translate(145.174817 0)scale(0.996264)\" xlink:href=\"#CMR17-105\"/>\n       <use transform=\"translate(170.045876 0)scale(0.996264)\" xlink:href=\"#CMR17-97\"/>\n       <use transform=\"translate(215.736353 0)scale(0.996264)\" xlink:href=\"#CMR17-116\"/>\n       <use transform=\"translate(251.017121 0)scale(0.996264)\" xlink:href=\"#CMR17-101\"/>\n       <use transform=\"translate(324.400001 0)scale(0.996264)\" xlink:href=\"#CMR17-99\"/>\n       <use transform=\"translate(362.283207 0)scale(0.996264)\" xlink:href=\"#CMR17-104\"/>\n       <use transform=\"translate(413.178577 0)scale(0.996264)\" xlink:href=\"#CMR17-97\"/>\n       <use transform=\"translate(458.869054 0)scale(0.996264)\" xlink:href=\"#CMR17-110\"/>\n       <use transform=\"translate(509.764424 0)scale(0.996264)\" xlink:href=\"#CMR17-110\"/>\n       <use transform=\"translate(560.659794 0)scale(0.996264)\" xlink:href=\"#CMR17-101\"/>\n       <use transform=\"translate(601.145454 0)scale(0.996264)\" xlink:href=\"#CMR17-108\"/>\n       <path d=\"M 296.985411 0 \nL 324.400001 0 \nL 324.400001 0.3985 \nL 296.985411 0.3985 \nL 296.985411 0 \nz\n\"/>\n      </g>\n     </g>\n    </g>\n    <g id=\"ytick_2\">\n     <g id=\"line2d_11\">\n      <g>\n       <use style=\"stroke:#000000;stroke-width:0.8;\" x=\"95.672569\" xlink:href=\"#me7bb8233f0\" y=\"180.478307\"/>\n      </g>\n     </g>\n     <g id=\"text_11\">\n      <!-- affiliate\\_provider -->\n      <g transform=\"translate(27.742974 183.245708)scale(0.08 -0.08)\">\n       <defs>\n        <path d=\"M 22 -16.609375 \nC 15.59375 -16.609375 15.203125 -16.203125 15.203125 -12.328125 \nL 15.203125 6.28125 \nC 18.09375 2.09375 22.296875 -0.59375 27.59375 -0.59375 \nC 37.59375 -0.59375 47.703125 8.171875 47.703125 21.6875 \nC 47.703125 34.234375 39 43.78125 28.703125 43.78125 \nC 22.703125 43.78125 17.796875 40.5 15 36.53125 \nL 15 43.78125 \nL 3.09375 42.6875 \nL 3.09375 40.109375 \nC 9 40.109375 9.90625 39.5 9.90625 34.734375 \nL 9.90625 -12.328125 \nC 9.90625 -16.109375 9.5 -16.609375 3.09375 -16.609375 \nL 3.09375 -19.1875 \nC 5.5 -19 9.90625 -19 12.5 -19 \nC 15.09375 -19 19.59375 -19 22 -19.1875 \nz\nM 15.203125 31.4375 \nC 15.203125 32.84375 15.203125 34.921875 19.09375 38.609375 \nC 19.59375 39.015625 23 42 28 42 \nC 35.296875 42 41.296875 32.9375 41.296875 21.59375 \nC 41.296875 10.25 34.90625 1 27 1 \nC 23.40625 1 19.5 2.6875 16.5 7.375 \nC 15.203125 9.5625 15.203125 10.15625 15.203125 11.75 \nz\n\" id=\"CMR17-112\"/>\n        <path d=\"M 15 23.390625 \nC 15 33 19.09375 42 26.59375 42 \nC 27.296875 42 28 41.90625 28.703125 41.59375 \nC 28.703125 41.59375 26.5 40.890625 26.5 38.3125 \nC 26.5 35.90625 28.40625 34.90625 29.90625 34.90625 \nC 31.09375 34.90625 33.296875 35.609375 33.296875 38.40625 \nC 33.296875 41.609375 30.09375 43.59375 26.703125 43.59375 \nC 19.09375 43.59375 15.796875 36.203125 14.796875 32.703125 \nL 14.703125 32.703125 \nL 14.703125 43.59375 \nL 3.09375 42.5 \nL 3.09375 39.90625 \nC 9 39.90625 9.90625 39.296875 9.90625 34.5 \nL 9.90625 6.6875 \nC 9.90625 2.875 9.5 2.390625 3.09375 2.390625 \nL 3.09375 -0.203125 \nC 5.5 0 10.09375 0 12.703125 0 \nC 15.59375 0 20.703125 0 23.40625 -0.203125 \nL 23.40625 2.390625 \nC 16.203125 2.390625 15 2.390625 15 6.875 \nz\n\" id=\"CMR17-114\"/>\n        <path d=\"M 43.09375 21.1875 \nC 43.09375 34 33.796875 44 22.90625 44 \nC 12 44 2.703125 34 2.703125 21.1875 \nC 2.703125 8.609375 12 -1 22.90625 -1 \nC 33.796875 -1 43.09375 8.609375 43.09375 21.1875 \nz\nM 22.90625 0.796875 \nC 18.203125 0.796875 14.203125 3.59375 11.90625 7.5 \nC 9.40625 11.984375 9.09375 17.59375 9.09375 22 \nC 9.09375 26.203125 9.296875 31.40625 11.90625 35.90625 \nC 13.90625 39.203125 17.796875 42.40625 22.90625 42.40625 \nC 27.40625 42.40625 31.203125 39.90625 33.59375 36.40625 \nC 36.703125 31.703125 36.703125 25.109375 36.703125 22 \nC 36.703125 18.09375 36.5 12.109375 33.796875 7.296875 \nC 31 2.703125 26.703125 0.796875 22.90625 0.796875 \nz\n\" id=\"CMR17-111\"/>\n        <path d=\"M 39.09375 33.796875 \nC 40 36 41.59375 40 47.40625 40 \nL 47.40625 42.59375 \nC 45.5 42.59375 43 42.59375 41.09375 42.59375 \nC 39 42.59375 35.703125 42.59375 33.703125 42.6875 \nL 33.703125 40.09375 \nC 36.203125 39.890625 37.59375 38.703125 37.59375 36.109375 \nC 37.59375 35.203125 37.59375 35 37 33.609375 \nL 26 5.890625 \nL 14.09375 35.71875 \nC 13.5 37.015625 13.5 37.203125 13.5 37.609375 \nC 13.5 40 16.796875 40 18.296875 40 \nL 18.296875 42.6875 \nC 15.90625 42.59375 11.5 42.59375 9 42.59375 \nC 6.296875 42.59375 3.203125 42.59375 1 42.6875 \nL 1 40 \nC 4.796875 40 6.90625 40 8.09375 36.90625 \nL 22.59375 0.6875 \nC 23.203125 -0.796875 23.296875 -1 24.203125 -1 \nC 25.09375 -1 25.203125 -0.796875 25.796875 0.6875 \nz\n\" id=\"CMR17-118\"/>\n        <path d=\"M 29.203125 67.59375 \nL 29.203125 65 \nC 35.09375 65 36 64.40625 36 59.6875 \nL 36 36.640625 \nC 35.59375 37.140625 31.5 43.59375 23.40625 43.59375 \nC 13.203125 43.59375 3.296875 34.5 3.296875 21.3125 \nC 3.296875 8.203125 12.59375 -1 22.40625 -1 \nC 30.90625 -1 35.296875 5.265625 35.796875 5.9375 \nL 35.796875 -0.984375 \nL 47.90625 -0.984375 \nL 47.90625 2 \nC 42 2 41.09375 2.59375 41.09375 7.390625 \nL 41.09375 68.6875 \nz\nM 35.796875 11.796875 \nC 35.796875 8.796875 34 6.09375 31.703125 4.09375 \nC 28.296875 1.09375 24.90625 0.59375 23 0.59375 \nC 20.09375 0.59375 9.703125 2.09375 9.703125 21.1875 \nC 9.703125 40.8125 21.296875 42 23.90625 42 \nC 28.5 42 32.203125 39.40625 34.5 35.796875 \nC 35.796875 33.703125 35.796875 33.40625 35.796875 31.609375 \nz\n\" id=\"CMR17-100\"/>\n       </defs>\n       <use transform=\"scale(0.996264)\" xlink:href=\"#CMR17-97\"/>\n       <use transform=\"translate(45.690477 0)scale(0.996264)\" xlink:href=\"#CMR17-14\"/>\n       <use transform=\"translate(120.303759 0)scale(0.996264)\" xlink:href=\"#CMR17-108\"/>\n       <use transform=\"translate(145.174817 0)scale(0.996264)\" xlink:href=\"#CMR17-105\"/>\n       <use transform=\"translate(170.045876 0)scale(0.996264)\" xlink:href=\"#CMR17-97\"/>\n       <use transform=\"translate(215.736353 0)scale(0.996264)\" xlink:href=\"#CMR17-116\"/>\n       <use transform=\"translate(251.017121 0)scale(0.996264)\" xlink:href=\"#CMR17-101\"/>\n       <use transform=\"translate(324.400001 0)scale(0.996264)\" xlink:href=\"#CMR17-112\"/>\n       <use transform=\"translate(375.295371 0)scale(0.996264)\" xlink:href=\"#CMR17-114\"/>\n       <use transform=\"translate(410.576138 0)scale(0.996264)\" xlink:href=\"#CMR17-111\"/>\n       <use transform=\"translate(453.664162 0)scale(0.996264)\" xlink:href=\"#CMR17-118\"/>\n       <use transform=\"translate(501.957077 0)scale(0.996264)\" xlink:href=\"#CMR17-105\"/>\n       <use transform=\"translate(526.828136 0)scale(0.996264)\" xlink:href=\"#CMR17-100\"/>\n       <use transform=\"translate(577.723506 0)scale(0.996264)\" xlink:href=\"#CMR17-101\"/>\n       <use transform=\"translate(618.209166 0)scale(0.996264)\" xlink:href=\"#CMR17-114\"/>\n       <path d=\"M 296.985411 0 \nL 324.400001 0 \nL 324.400001 0.3985 \nL 296.985411 0.3985 \nL 296.985411 0 \nz\n\"/>\n      </g>\n     </g>\n    </g>\n    <g id=\"ytick_3\">\n     <g id=\"line2d_12\">\n      <g>\n       <use style=\"stroke:#000000;stroke-width:0.8;\" x=\"95.672569\" xlink:href=\"#me7bb8233f0\" y=\"166.616042\"/>\n      </g>\n     </g>\n     <g id=\"text_12\">\n      <!-- age -->\n      <g transform=\"translate(76.440486 169.383443)scale(0.08 -0.08)\">\n       <defs>\n        <path d=\"M 11.09375 18.1875 \nC 13 16.6875 16.296875 15 20.296875 15 \nC 28.203125 15 35 21.203125 35 29.5 \nC 35 32.09375 34.203125 36.09375 31.203125 39.203125 \nC 34 42.0625 38.09375 43 40.40625 43 \nC 40.796875 43 41.40625 43 41.90625 42.71875 \nC 41.5 42.625 40.59375 42.234375 40.59375 40.703125 \nC 40.59375 39.484375 41.5 38.609375 42.796875 38.609375 \nC 44.296875 38.609375 45.09375 39.578125 45.09375 40.84375 \nC 45.09375 42.671875 43.59375 44.59375 40.40625 44.59375 \nC 36.40625 44.59375 32.90625 42.78125 30.09375 40.3125 \nC 27.09375 43.015625 23.5 44 20.296875 44 \nC 12.40625 44 5.59375 37.796875 5.59375 29.5 \nC 5.59375 23.78125 8.90625 20.1875 9.90625 19.1875 \nC 6.90625 15.6875 6.90625 11.609375 6.90625 11.109375 \nC 6.90625 8.515625 7.90625 4.71875 11.296875 2.625 \nC 6.09375 1.328125 2 -2.640625 2 -7.59375 \nC 2 -14.734375 11.5 -20 22.90625 -20 \nC 33.90625 -20 43.796875 -14.9375 43.796875 -7.484375 \nC 43.796875 6 29 6 21.296875 6 \nC 19 6 14.90625 6 14.40625 6.109375 \nC 11.296875 6.609375 9.203125 9.40625 9.203125 12.90625 \nC 9.203125 13.796875 9.203125 16 11.09375 18.1875 \nz\nM 20.296875 16.6875 \nC 11.5 16.6875 11.5 27.5 11.5 29.515625 \nC 11.5 31.5 11.5 42.3125 20.296875 42.3125 \nC 29.09375 42.3125 29.09375 31.5 29.09375 29.515625 \nC 29.09375 27.5 29.09375 16.6875 20.296875 16.6875 \nz\nM 22.90625 -18.296875 \nC 12.90625 -18.296875 6 -13.046875 6 -7.59375 \nC 6 -4.515625 7.703125 -1.640625 9.90625 -0.0625 \nC 12.40625 1.625 13.40625 1.625 20.203125 1.625 \nC 28.40625 1.625 39.796875 1.625 39.796875 -7.59375 \nC 39.796875 -13.046875 32.90625 -18.296875 22.90625 -18.296875 \nz\n\" id=\"CMR17-103\"/>\n       </defs>\n       <use transform=\"scale(0.996264)\" xlink:href=\"#CMR17-97\"/>\n       <use transform=\"translate(45.690477 0)scale(0.996264)\" xlink:href=\"#CMR17-103\"/>\n       <use transform=\"translate(91.380954 0)scale(0.996264)\" xlink:href=\"#CMR17-101\"/>\n      </g>\n     </g>\n    </g>\n    <g id=\"ytick_4\">\n     <g id=\"line2d_13\">\n      <g>\n       <use style=\"stroke:#000000;stroke-width:0.8;\" x=\"95.672569\" xlink:href=\"#me7bb8233f0\" y=\"152.753778\"/>\n      </g>\n     </g>\n     <g id=\"text_13\">\n      <!-- date\\_account\\_created -->\n      <g transform=\"translate(11.29305 155.521179)scale(0.08 -0.08)\">\n       <defs>\n        <path d=\"M 29.40625 42.078125 \nL 29.40625 39.5 \nC 35.296875 39.5 36.203125 38.890625 36.203125 34.15625 \nL 36.203125 16.125 \nC 36.203125 7.8125 31.703125 0.59375 24.296875 0.59375 \nC 16.09375 0.59375 15.40625 5.4375 15.40625 10.59375 \nL 15.40625 43.171875 \nL 3.296875 42.078125 \nL 3.296875 39.5 \nC 7.296875 39.5 10 39.5 10.09375 35.53125 \nL 10.09375 16.53125 \nC 10.09375 9.890625 10.09375 5.640625 12.703125 2.859375 \nC 14 1.578125 16.5 -1 23.703125 -1 \nC 32.203125 -1 35.5 5.890625 36.296875 7.90625 \nL 36.40625 7.90625 \nL 36.40625 -0.984375 \nL 48.296875 -0.984375 \nL 48.296875 2 \nC 42.40625 2 41.5 2.59375 41.5 7.390625 \nL 41.5 43.171875 \nz\n\" id=\"CMR17-117\"/>\n       </defs>\n       <use transform=\"scale(0.996264)\" xlink:href=\"#CMR17-100\"/>\n       <use transform=\"translate(50.89537 0)scale(0.996264)\" xlink:href=\"#CMR17-97\"/>\n       <use transform=\"translate(96.585847 0)scale(0.996264)\" xlink:href=\"#CMR17-116\"/>\n       <use transform=\"translate(131.866615 0)scale(0.996264)\" xlink:href=\"#CMR17-101\"/>\n       <use transform=\"translate(205.249495 0)scale(0.996264)\" xlink:href=\"#CMR17-97\"/>\n       <use transform=\"translate(250.939972 0)scale(0.996264)\" xlink:href=\"#CMR17-99\"/>\n       <use transform=\"translate(291.425632 0)scale(0.996264)\" xlink:href=\"#CMR17-99\"/>\n       <use transform=\"translate(331.911293 0)scale(0.996264)\" xlink:href=\"#CMR17-111\"/>\n       <use transform=\"translate(377.60177 0)scale(0.996264)\" xlink:href=\"#CMR17-117\"/>\n       <use transform=\"translate(428.49714 0)scale(0.996264)\" xlink:href=\"#CMR17-110\"/>\n       <use transform=\"translate(476.790055 0)scale(0.996264)\" xlink:href=\"#CMR17-116\"/>\n       <use transform=\"translate(544.968043 0)scale(0.996264)\" xlink:href=\"#CMR17-99\"/>\n       <use transform=\"translate(585.453703 0)scale(0.996264)\" xlink:href=\"#CMR17-114\"/>\n       <use transform=\"translate(620.734471 0)scale(0.996264)\" xlink:href=\"#CMR17-101\"/>\n       <use transform=\"translate(661.220132 0)scale(0.996264)\" xlink:href=\"#CMR17-97\"/>\n       <use transform=\"translate(706.910609 0)scale(0.996264)\" xlink:href=\"#CMR17-116\"/>\n       <use transform=\"translate(742.191376 0)scale(0.996264)\" xlink:href=\"#CMR17-101\"/>\n       <use transform=\"translate(782.677037 0)scale(0.996264)\" xlink:href=\"#CMR17-100\"/>\n       <path d=\"M 177.834904 0 \nL 205.249495 0 \nL 205.249495 0.3985 \nL 177.834904 0.3985 \nL 177.834904 0 \nz\n\"/>\n       <path d=\"M 517.553453 0 \nL 544.968043 0 \nL 544.968043 0.3985 \nL 517.553453 0.3985 \nL 517.553453 0 \nz\n\"/>\n      </g>\n     </g>\n    </g>\n    <g id=\"ytick_5\">\n     <g id=\"line2d_14\">\n      <g>\n       <use style=\"stroke:#000000;stroke-width:0.8;\" x=\"95.672569\" xlink:href=\"#me7bb8233f0\" y=\"138.891513\"/>\n      </g>\n     </g>\n     <g id=\"text_14\">\n      <!-- empty\\_vals -->\n      <g transform=\"translate(48.64544 141.658914)scale(0.08 -0.08)\">\n       <defs>\n        <path d=\"M 67.59375 30.203125 \nC 67.59375 35.1875 66.703125 43.59375 54.796875 43.59375 \nC 48 43.59375 43.296875 39 41.5 33.609375 \nL 41.40625 33.609375 \nC 40.203125 41.8125 34.296875 43.59375 28.703125 43.59375 \nC 20.796875 43.59375 16.703125 37.5 15.203125 33.5 \nL 15.09375 33.5 \nL 15.09375 43.59375 \nL 3.296875 42.5 \nL 3.296875 39.90625 \nC 9.203125 39.90625 10.09375 39.296875 10.09375 34.5 \nL 10.09375 6.6875 \nC 10.09375 2.875 9.703125 2.390625 3.296875 2.390625 \nL 3.296875 -0.203125 \nC 5.703125 0 10.09375 0 12.703125 0 \nC 15.296875 0 19.796875 0 22.203125 -0.203125 \nL 22.203125 2.390625 \nC 15.796875 2.390625 15.40625 2.78125 15.40625 6.6875 \nL 15.40625 25.90625 \nC 15.40625 35.109375 21 42 28 42 \nC 35.40625 42 36.203125 35.40625 36.203125 30.59375 \nL 36.203125 6.6875 \nC 36.203125 2.875 35.796875 2.390625 29.40625 2.390625 \nL 29.40625 -0.203125 \nC 31.796875 0 36.203125 0 38.796875 0 \nC 41.40625 0 45.90625 0 48.296875 -0.203125 \nL 48.296875 2.390625 \nC 41.90625 2.390625 41.5 2.78125 41.5 6.6875 \nL 41.5 25.90625 \nC 41.5 35.109375 47.09375 42 54.09375 42 \nC 61.5 42 62.296875 35.40625 62.296875 30.59375 \nL 62.296875 6.6875 \nC 62.296875 2.875 61.90625 2.390625 55.5 2.390625 \nL 55.5 -0.203125 \nC 57.90625 0 62.296875 0 64.90625 0 \nC 67.5 0 72 0 74.40625 -0.203125 \nL 74.40625 2.390625 \nC 68 2.390625 67.59375 2.78125 67.59375 6.6875 \nz\n\" id=\"CMR17-109\"/>\n        <path d=\"M 39 34.328125 \nC 41.5 40.40625 46 40.40625 47.40625 40.40625 \nL 47.40625 43 \nC 45.5 43 43 43 41.09375 43 \nC 39 43 35.703125 43 33.703125 43.09375 \nL 33.703125 40.5 \nC 37.5 40.203125 37.59375 37.40625 37.59375 36.609375 \nC 37.59375 35.625 37.40625 35.125 36.90625 33.921875 \nL 26 7.015625 \nL 14.09375 36.03125 \nC 13.59375 37.21875 13.59375 37.90625 13.59375 38.015625 \nC 13.59375 40.203125 15.90625 40.40625 18.296875 40.40625 \nL 18.296875 43.09375 \nC 15.90625 43 11.59375 43 9.09375 43 \nC 6.40625 43 3.203125 43 1 43.09375 \nL 1 40.40625 \nC 6.40625 40.40625 7 39.90625 8.296875 36.71875 \nL 23.203125 0.234375 \nC 18.703125 -11.53125 16.09375 -18.40625 9.796875 -18.40625 \nC 8.703125 -18.40625 6.203125 -18.109375 4.40625 -16.3125 \nC 6.703125 -16.109375 7.703125 -14.71875 7.703125 -13.015625 \nC 7.703125 -11.328125 6.5 -9.828125 4.5 -9.828125 \nC 2.296875 -9.828125 1.203125 -11.328125 1.203125 -13.125 \nC 1.203125 -17.109375 5.296875 -20 9.796875 -20 \nC 15.59375 -20 19.203125 -14.40625 21.203125 -9.4375 \nz\n\" id=\"CMR17-121\"/>\n        <path d=\"M 30.90625 42.140625 \nC 30.90625 43.953125 30.796875 44.046875 30.203125 44.046875 \nC 29.796875 44.046875 29.703125 43.953125 28.5 42.453125 \nC 28.203125 42.046875 27.296875 41.03125 27 40.640625 \nC 23.796875 44.046875 19.296875 44.046875 17.59375 44.046875 \nC 6.5 44.046875 2.5 38.234375 2.5 32.4375 \nC 2.5 23.40625 12.703125 21.328125 15.59375 20.703125 \nC 21.90625 19.421875 24.09375 19.015625 26.203125 17.203125 \nC 27.5 16.015625 29.703125 13.8125 29.703125 10.21875 \nC 29.703125 6 27.296875 0.59375 18.09375 0.59375 \nC 9.40625 0.59375 6.296875 7.1875 4.5 15.953125 \nC 4.203125 17.34375 4.203125 17.453125 3.40625 17.453125 \nC 2.59375 17.453125 2.5 17.34375 2.5 15.359375 \nL 2.5 0.984375 \nC 2.5 -0.796875 2.59375 -0.90625 3.203125 -0.90625 \nC 3.703125 -0.90625 3.796875 -0.796875 4.296875 0 \nC 4.90625 0.890625 6.40625 3.296875 7 4.3125 \nC 9 1.609375 12.5 -1 18.09375 -1 \nC 28 -1 33.296875 4.421875 33.296875 12.25 \nC 33.296875 17.375 30.59375 20.078125 29.296875 21.28125 \nC 26.296875 24.390625 22.796875 25.09375 18.59375 25.890625 \nC 13.09375 27.109375 6.09375 28.515625 6.09375 34.640625 \nC 6.09375 37.234375 7.5 42.765625 17.59375 42.765625 \nC 28.296875 42.765625 28.90625 32.71875 29.09375 29.5 \nC 29.203125 29 29.703125 28.890625 30 28.890625 \nC 30.90625 28.890625 30.90625 29.203125 30.90625 30.90625 \nz\n\" id=\"CMR17-115\"/>\n       </defs>\n       <use transform=\"scale(0.996264)\" xlink:href=\"#CMR17-101\"/>\n       <use transform=\"translate(40.48566 0)scale(0.996264)\" xlink:href=\"#CMR17-109\"/>\n       <use transform=\"translate(117.40525 0)scale(0.996264)\" xlink:href=\"#CMR17-112\"/>\n       <use transform=\"translate(168.30062 0)scale(0.996264)\" xlink:href=\"#CMR17-116\"/>\n       <use transform=\"translate(200.978934 0)scale(0.996264)\" xlink:href=\"#CMR17-121\"/>\n       <use transform=\"translate(282.169069 0)scale(0.996264)\" xlink:href=\"#CMR17-118\"/>\n       <use transform=\"translate(325.257169 0)scale(0.996264)\" xlink:href=\"#CMR17-97\"/>\n       <use transform=\"translate(370.947646 0)scale(0.996264)\" xlink:href=\"#CMR17-108\"/>\n       <use transform=\"translate(395.818704 0)scale(0.996264)\" xlink:href=\"#CMR17-115\"/>\n       <path d=\"M 254.754479 0 \nL 282.169069 0 \nL 282.169069 0.3985 \nL 254.754479 0.3985 \nL 254.754479 0 \nz\n\"/>\n      </g>\n     </g>\n    </g>\n    <g id=\"ytick_6\">\n     <g id=\"line2d_15\">\n      <g>\n       <use style=\"stroke:#000000;stroke-width:0.8;\" x=\"95.672569\" xlink:href=\"#me7bb8233f0\" y=\"125.029249\"/>\n      </g>\n     </g>\n     <g id=\"text_15\">\n      <!-- first\\_affiliate\\_tracked -->\n      <g transform=\"translate(13.591407 127.79665)scale(0.08 -0.08)\">\n       <defs>\n        <path d=\"M 39.90625 43.1875 \nC 37.5 43.1875 30.09375 43.1875 28.203125 42.796875 \nC 27.59375 42.578125 27.40625 42.578125 26.203125 42.578125 \nL 14.796875 42.578125 \nL 14.796875 54.203125 \nC 14.796875 63.640625 22.40625 68 28.40625 68 \nC 30.296875 68 34.59375 67.5 36.796875 64.078125 \nC 35.796875 64.078125 32.59375 64.078125 32.59375 60.59375 \nC 32.59375 58.203125 34.203125 57 36.203125 57 \nC 38 57 39.796875 58 39.796875 60.703125 \nC 39.796875 65.703125 35 69.59375 28.796875 69.59375 \nC 20.90625 69.59375 9.90625 65.125 9.90625 54.203125 \nL 9.90625 42.578125 \nL 1.90625 42.578125 \nL 1.90625 40 \nL 9.90625 40 \nL 9.90625 6.671875 \nC 9.90625 2.875 9.5 2.390625 3.09375 2.390625 \nL 3.09375 -0.203125 \nC 5.5 0 9.90625 0 12.40625 0 \nC 15 0 19.40625 0 21.796875 -0.203125 \nL 21.796875 2.390625 \nC 15.40625 2.390625 15 2.78125 15 6.671875 \nL 15 40 \nL 29.703125 40 \nC 34 40 34.796875 39.09375 34.796875 34.71875 \nL 34.796875 6.671875 \nC 34.796875 2.875 34.40625 2.390625 28 2.390625 \nL 28 -0.203125 \nC 30.40625 0 34.796875 0 37.296875 0 \nC 39.90625 0 44.296875 0 46.703125 -0.203125 \nL 46.703125 2.390625 \nC 40.296875 2.390625 39.90625 2.78125 39.90625 6.671875 \nz\n\" id=\"CMR17-12\"/>\n        <path d=\"M 26.09375 26.140625 \nC 26 26.34375 25.5 26.9375 25.5 27.234375 \nC 25.5 27.4375 32.59375 33.921875 33.5 34.71875 \nC 39.203125 39.5 42.796875 40 45.40625 40 \nL 45.40625 42.703125 \nC 44.796875 42.703125 44.59375 42.703125 44.5 42.5 \nL 39.59375 42.5 \nC 36.796875 42.5 32.5 42.5 29.796875 42.703125 \nL 29.796875 40.09375 \nC 31.203125 39.984375 32.203125 39.1875 32.203125 37.796875 \nC 32.203125 35.796875 30.203125 33.90625 30.09375 33.90625 \nL 15 20.140625 \nL 15 68.6875 \nL 3.09375 67.59375 \nL 3.09375 65 \nC 9 65 9.90625 64.40625 9.90625 59.640625 \nL 9.90625 6.65625 \nC 9.90625 2.875 9.5 2.390625 3.09375 2.390625 \nL 3.09375 -0.203125 \nC 5.5 0 9.90625 0 12.40625 0 \nC 14.90625 0 19.296875 0 21.703125 -0.203125 \nL 21.703125 2.390625 \nC 15.296875 2.390625 14.90625 2.78125 14.90625 6.6875 \nL 14.90625 17.65625 \nL 21.796875 23.9375 \nL 31.90625 8.96875 \nC 33.09375 7.171875 34.09375 5.765625 34.09375 4.46875 \nC 34.09375 2.6875 32.296875 2.390625 31.09375 2.390625 \nL 31.09375 -0.203125 \nC 33.5 0 37.796875 0 40.296875 0 \nC 42.09375 0 45.796875 0 47.5 0 \nL 47.5 2.390625 \nC 42.796875 2.390625 41.703125 3.28125 38.703125 7.671875 \nz\n\" id=\"CMR17-107\"/>\n       </defs>\n       <use transform=\"scale(0.996264)\" xlink:href=\"#CMR17-12\"/>\n       <use transform=\"translate(49.742223 0)scale(0.996264)\" xlink:href=\"#CMR17-114\"/>\n       <use transform=\"translate(85.022991 0)scale(0.996264)\" xlink:href=\"#CMR17-115\"/>\n       <use transform=\"translate(120.824329 0)scale(0.996264)\" xlink:href=\"#CMR17-116\"/>\n       <use transform=\"translate(189.002316 0)scale(0.996264)\" xlink:href=\"#CMR17-97\"/>\n       <use transform=\"translate(234.692793 0)scale(0.996264)\" xlink:href=\"#CMR17-14\"/>\n       <use transform=\"translate(309.306075 0)scale(0.996264)\" xlink:href=\"#CMR17-108\"/>\n       <use transform=\"translate(334.177134 0)scale(0.996264)\" xlink:href=\"#CMR17-105\"/>\n       <use transform=\"translate(359.048192 0)scale(0.996264)\" xlink:href=\"#CMR17-97\"/>\n       <use transform=\"translate(404.738669 0)scale(0.996264)\" xlink:href=\"#CMR17-116\"/>\n       <use transform=\"translate(440.019437 0)scale(0.996264)\" xlink:href=\"#CMR17-101\"/>\n       <use transform=\"translate(513.402317 0)scale(0.996264)\" xlink:href=\"#CMR17-116\"/>\n       <use transform=\"translate(548.683085 0)scale(0.996264)\" xlink:href=\"#CMR17-114\"/>\n       <use transform=\"translate(583.963853 0)scale(0.996264)\" xlink:href=\"#CMR17-97\"/>\n       <use transform=\"translate(629.65433 0)scale(0.996264)\" xlink:href=\"#CMR17-99\"/>\n       <use transform=\"translate(667.537536 0)scale(0.996264)\" xlink:href=\"#CMR17-107\"/>\n       <use transform=\"translate(713.227998 0)scale(0.996264)\" xlink:href=\"#CMR17-101\"/>\n       <use transform=\"translate(753.713659 0)scale(0.996264)\" xlink:href=\"#CMR17-100\"/>\n       <path d=\"M 161.587726 0 \nL 189.002316 0 \nL 189.002316 0.3985 \nL 161.587726 0.3985 \nL 161.587726 0 \nz\n\"/>\n       <path d=\"M 485.987727 0 \nL 513.402317 0 \nL 513.402317 0.3985 \nL 485.987727 0.3985 \nL 485.987727 0 \nz\n\"/>\n      </g>\n     </g>\n    </g>\n    <g id=\"ytick_7\">\n     <g id=\"line2d_16\">\n      <g>\n       <use style=\"stroke:#000000;stroke-width:0.8;\" x=\"95.672569\" xlink:href=\"#me7bb8233f0\" y=\"111.166984\"/>\n      </g>\n     </g>\n     <g id=\"text_16\">\n      <!-- first\\_browser -->\n      <g transform=\"translate(42.461598 113.934385)scale(0.08 -0.08)\">\n       <defs>\n        <path d=\"M 15 68.6875 \nL 3.09375 67.59375 \nL 3.09375 65 \nC 9 65 9.90625 64.40625 9.90625 59.640625 \nL 9.90625 -0.203125 \nL 11.703125 -0.203125 \nL 14.59375 6.890625 \nC 17.5 2.203125 21.796875 -1 27.59375 -1 \nC 37.59375 -1 47.703125 7.8125 47.703125 21.40625 \nC 47.703125 34.1875 38.703125 43.59375 28.59375 43.59375 \nC 22.40625 43.59375 18 40.296875 15 36.40625 \nz\nM 15.203125 31.3125 \nC 15.203125 33.09375 15.203125 33.40625 16.59375 35.5 \nC 20.5 41.515625 26.09375 42 28 42 \nC 31 42 41.296875 40.390625 41.296875 21.5 \nC 41.296875 1.6875 29.5 0.59375 27.09375 0.59375 \nC 24 0.59375 19.5 1.78125 16.296875 7.59375 \nC 15.203125 9.5 15.203125 9.703125 15.203125 11.484375 \nz\n\" id=\"CMR17-98\"/>\n        <path d=\"M 58.203125 34.109375 \nC 60.203125 40 64.203125 40 65.703125 40 \nL 65.703125 42.6875 \nC 63.703125 42.6875 61.703125 42.6875 59.703125 42.6875 \nC 57.796875 42.6875 53.5 42.6875 51.796875 42.78125 \nL 51.796875 40 \nC 54.90625 40 56.59375 38.203125 56.59375 35.71875 \nC 56.59375 35.015625 56.40625 34.125 56.203125 33.4375 \nL 46.796875 6.359375 \nL 36.59375 35.546875 \nC 36.40625 36.234375 36.09375 37.03125 36.09375 37.421875 \nC 36.09375 40 39.5 40 41.09375 40 \nL 41.09375 42.78125 \nC 38.796875 42.6875 34.59375 42.6875 32.203125 42.6875 \nC 29.703125 42.6875 27.09375 42.6875 24.796875 42.78125 \nL 24.796875 40 \nC 30.296875 40 30.296875 39.796875 32.40625 33.578125 \nL 23.203125 7.046875 \nL 13.296875 35.640625 \nC 12.796875 36.921875 12.796875 37.125 12.796875 37.421875 \nC 12.796875 40 16.203125 40 17.796875 40 \nL 17.796875 42.78125 \nC 15.40625 42.6875 11.203125 42.6875 8.703125 42.6875 \nC 6.5 42.6875 3.09375 42.6875 1 42.78125 \nL 1 40 \nC 5.40625 40 6.5 39.703125 7.59375 36.421875 \nL 19.90625 0.765625 \nC 20.296875 -0.515625 20.59375 -0.8125 21.40625 -0.8125 \nC 22.09375 -0.8125 22.5 -0.609375 23 0.875 \nL 33.296875 30.9375 \nL 43.703125 0.875 \nC 44.203125 -0.609375 44.59375 -0.8125 45.296875 -0.8125 \nC 46.09375 -0.8125 46.40625 -0.515625 46.796875 0.78125 \nz\n\" id=\"CMR17-119\"/>\n       </defs>\n       <use transform=\"scale(0.996264)\" xlink:href=\"#CMR17-12\"/>\n       <use transform=\"translate(49.742223 0)scale(0.996264)\" xlink:href=\"#CMR17-114\"/>\n       <use transform=\"translate(85.022991 0)scale(0.996264)\" xlink:href=\"#CMR17-115\"/>\n       <use transform=\"translate(120.824329 0)scale(0.996264)\" xlink:href=\"#CMR17-116\"/>\n       <use transform=\"translate(189.002316 0)scale(0.996264)\" xlink:href=\"#CMR17-98\"/>\n       <use transform=\"translate(239.897686 0)scale(0.996264)\" xlink:href=\"#CMR17-114\"/>\n       <use transform=\"translate(275.178454 0)scale(0.996264)\" xlink:href=\"#CMR17-111\"/>\n       <use transform=\"translate(318.266477 0)scale(0.996264)\" xlink:href=\"#CMR17-119\"/>\n       <use transform=\"translate(384.776357 0)scale(0.996264)\" xlink:href=\"#CMR17-115\"/>\n       <use transform=\"translate(420.577695 0)scale(0.996264)\" xlink:href=\"#CMR17-101\"/>\n       <use transform=\"translate(461.063356 0)scale(0.996264)\" xlink:href=\"#CMR17-114\"/>\n       <path d=\"M 161.587726 0 \nL 189.002316 0 \nL 189.002316 0.3985 \nL 161.587726 0.3985 \nL 161.587726 0 \nz\n\"/>\n      </g>\n     </g>\n    </g>\n    <g id=\"ytick_8\">\n     <g id=\"line2d_17\">\n      <g>\n       <use style=\"stroke:#000000;stroke-width:0.8;\" x=\"95.672569\" xlink:href=\"#me7bb8233f0\" y=\"97.30472\"/>\n      </g>\n     </g>\n     <g id=\"text_17\">\n      <!-- first\\_device\\_type -->\n      <g transform=\"translate(28.888429 100.072121)scale(0.08 -0.08)\">\n       <use transform=\"scale(0.996264)\" xlink:href=\"#CMR17-12\"/>\n       <use transform=\"translate(49.742223 0)scale(0.996264)\" xlink:href=\"#CMR17-114\"/>\n       <use transform=\"translate(85.022991 0)scale(0.996264)\" xlink:href=\"#CMR17-115\"/>\n       <use transform=\"translate(120.824329 0)scale(0.996264)\" xlink:href=\"#CMR17-116\"/>\n       <use transform=\"translate(189.002316 0)scale(0.996264)\" xlink:href=\"#CMR17-100\"/>\n       <use transform=\"translate(239.897686 0)scale(0.996264)\" xlink:href=\"#CMR17-101\"/>\n       <use transform=\"translate(280.383346 0)scale(0.996264)\" xlink:href=\"#CMR17-118\"/>\n       <use transform=\"translate(328.676262 0)scale(0.996264)\" xlink:href=\"#CMR17-105\"/>\n       <use transform=\"translate(353.547321 0)scale(0.996264)\" xlink:href=\"#CMR17-99\"/>\n       <use transform=\"translate(394.032981 0)scale(0.996264)\" xlink:href=\"#CMR17-101\"/>\n       <use transform=\"translate(467.415861 0)scale(0.996264)\" xlink:href=\"#CMR17-116\"/>\n       <use transform=\"translate(500.094175 0)scale(0.996264)\" xlink:href=\"#CMR17-121\"/>\n       <use transform=\"translate(548.387091 0)scale(0.996264)\" xlink:href=\"#CMR17-112\"/>\n       <use transform=\"translate(601.884899 0)scale(0.996264)\" xlink:href=\"#CMR17-101\"/>\n       <path d=\"M 161.587726 0 \nL 189.002316 0 \nL 189.002316 0.3985 \nL 161.587726 0.3985 \nL 161.587726 0 \nz\n\"/>\n       <path d=\"M 440.001271 0 \nL 467.415861 0 \nL 467.415861 0.3985 \nL 440.001271 0.3985 \nL 440.001271 0 \nz\n\"/>\n      </g>\n     </g>\n    </g>\n    <g id=\"ytick_9\">\n     <g id=\"line2d_18\">\n      <g>\n       <use style=\"stroke:#000000;stroke-width:0.8;\" x=\"95.672569\" xlink:href=\"#me7bb8233f0\" y=\"83.442455\"/>\n      </g>\n     </g>\n     <g id=\"text_18\">\n      <!-- gender -->\n      <g transform=\"translate(64.201485 86.209856)scale(0.08 -0.08)\">\n       <use transform=\"scale(0.996264)\" xlink:href=\"#CMR17-103\"/>\n       <use transform=\"translate(45.690477 0)scale(0.996264)\" xlink:href=\"#CMR17-101\"/>\n       <use transform=\"translate(86.176138 0)scale(0.996264)\" xlink:href=\"#CMR17-110\"/>\n       <use transform=\"translate(137.071507 0)scale(0.996264)\" xlink:href=\"#CMR17-100\"/>\n       <use transform=\"translate(187.966877 0)scale(0.996264)\" xlink:href=\"#CMR17-101\"/>\n       <use transform=\"translate(228.452538 0)scale(0.996264)\" xlink:href=\"#CMR17-114\"/>\n      </g>\n     </g>\n    </g>\n    <g id=\"ytick_10\">\n     <g id=\"line2d_19\">\n      <g>\n       <use style=\"stroke:#000000;stroke-width:0.8;\" x=\"95.672569\" xlink:href=\"#me7bb8233f0\" y=\"69.580191\"/>\n      </g>\n     </g>\n     <g id=\"text_19\">\n      <!-- language -->\n      <g transform=\"translate(56.210501 72.347591)scale(0.08 -0.08)\">\n       <use transform=\"scale(0.996264)\" xlink:href=\"#CMR17-108\"/>\n       <use transform=\"translate(24.871058 0)scale(0.996264)\" xlink:href=\"#CMR17-97\"/>\n       <use transform=\"translate(70.561536 0)scale(0.996264)\" xlink:href=\"#CMR17-110\"/>\n       <use transform=\"translate(121.456905 0)scale(0.996264)\" xlink:href=\"#CMR17-103\"/>\n       <use transform=\"translate(167.147382 0)scale(0.996264)\" xlink:href=\"#CMR17-117\"/>\n       <use transform=\"translate(218.042752 0)scale(0.996264)\" xlink:href=\"#CMR17-97\"/>\n       <use transform=\"translate(263.733229 0)scale(0.996264)\" xlink:href=\"#CMR17-103\"/>\n       <use transform=\"translate(309.423707 0)scale(0.996264)\" xlink:href=\"#CMR17-101\"/>\n      </g>\n     </g>\n    </g>\n    <g id=\"ytick_11\">\n     <g id=\"line2d_20\">\n      <g>\n       <use style=\"stroke:#000000;stroke-width:0.8;\" x=\"95.672569\" xlink:href=\"#me7bb8233f0\" y=\"55.717926\"/>\n      </g>\n     </g>\n     <g id=\"text_20\">\n      <!-- signup\\_app -->\n      <g transform=\"translate(48.174975 58.485327)scale(0.08 -0.08)\">\n       <use transform=\"scale(0.996264)\" xlink:href=\"#CMR17-115\"/>\n       <use transform=\"translate(35.801338 0)scale(0.996264)\" xlink:href=\"#CMR17-105\"/>\n       <use transform=\"translate(60.672396 0)scale(0.996264)\" xlink:href=\"#CMR17-103\"/>\n       <use transform=\"translate(106.362873 0)scale(0.996264)\" xlink:href=\"#CMR17-110\"/>\n       <use transform=\"translate(154.655789 0)scale(0.996264)\" xlink:href=\"#CMR17-117\"/>\n       <use transform=\"translate(205.551159 0)scale(0.996264)\" xlink:href=\"#CMR17-112\"/>\n       <use transform=\"translate(289.343748 0)scale(0.996264)\" xlink:href=\"#CMR17-97\"/>\n       <use transform=\"translate(335.034225 0)scale(0.996264)\" xlink:href=\"#CMR17-112\"/>\n       <use transform=\"translate(385.929595 0)scale(0.996264)\" xlink:href=\"#CMR17-112\"/>\n       <path d=\"M 261.929158 0 \nL 289.343748 0 \nL 289.343748 0.3985 \nL 261.929158 0.3985 \nL 261.929158 0 \nz\n\"/>\n      </g>\n     </g>\n    </g>\n    <g id=\"ytick_12\">\n     <g id=\"line2d_21\">\n      <g>\n       <use style=\"stroke:#000000;stroke-width:0.8;\" x=\"95.672569\" xlink:href=\"#me7bb8233f0\" y=\"41.855661\"/>\n      </g>\n     </g>\n     <g id=\"text_21\">\n      <!-- signup\\_flow -->\n      <g transform=\"translate(46.998814 44.623062)scale(0.08 -0.08)\">\n       <defs>\n        <path d=\"M 39.90625 68.890625 \nC 38.796875 68.6875 37.90625 68.5 36.59375 68.203125 \nC 33.703125 69.6875 29.90625 69.6875 28.90625 69.6875 \nC 20.40625 69.6875 9.90625 64.90625 9.90625 54.25 \nL 9.90625 42.578125 \nL 1.90625 42.578125 \nL 1.90625 40 \nL 9.90625 40 \nL 9.90625 6.671875 \nC 9.90625 2.875 9.5 2.390625 3.09375 2.390625 \nL 3.09375 -0.203125 \nC 5.5 0 9.90625 0 12.40625 0 \nC 15 0 19.40625 0 21.796875 -0.203125 \nL 21.796875 2.390625 \nC 15.40625 2.390625 15 2.78125 15 6.671875 \nL 15 40 \nL 34.796875 40 \nL 34.796875 6.671875 \nC 34.796875 2.875 34.40625 2.390625 28 2.390625 \nL 28 -0.203125 \nC 30.40625 0 34.796875 0 37.296875 0 \nC 39.90625 0 44.296875 0 46.703125 -0.203125 \nL 46.703125 2.390625 \nC 40.296875 2.390625 39.90625 2.78125 39.90625 6.671875 \nz\nM 14.796875 42.578125 \nL 14.796875 54.203125 \nC 14.796875 62.9375 21.40625 68 28.703125 68 \nC 29.203125 68 34.703125 68 34.703125 66.90625 \nC 34.703125 66.796875 34.59375 66.703125 34.09375 66.203125 \nC 33.203125 65.609375 32.796875 64.609375 32.796875 63.609375 \nC 32.796875 62.203125 33.5 61.015625 34.796875 60.515625 \nL 34.796875 42.578125 \nz\n\" id=\"CMR17-13\"/>\n       </defs>\n       <use transform=\"scale(0.996264)\" xlink:href=\"#CMR17-115\"/>\n       <use transform=\"translate(35.801338 0)scale(0.996264)\" xlink:href=\"#CMR17-105\"/>\n       <use transform=\"translate(60.672396 0)scale(0.996264)\" xlink:href=\"#CMR17-103\"/>\n       <use transform=\"translate(106.362873 0)scale(0.996264)\" xlink:href=\"#CMR17-110\"/>\n       <use transform=\"translate(154.655789 0)scale(0.996264)\" xlink:href=\"#CMR17-117\"/>\n       <use transform=\"translate(205.551159 0)scale(0.996264)\" xlink:href=\"#CMR17-112\"/>\n       <use transform=\"translate(289.343748 0)scale(0.996264)\" xlink:href=\"#CMR17-13\"/>\n       <use transform=\"translate(339.085972 0)scale(0.996264)\" xlink:href=\"#CMR17-111\"/>\n       <use transform=\"translate(382.173995 0)scale(0.996264)\" xlink:href=\"#CMR17-119\"/>\n       <path d=\"M 261.929158 0 \nL 289.343748 0 \nL 289.343748 0.3985 \nL 261.929158 0.3985 \nL 261.929158 0 \nz\n\"/>\n      </g>\n     </g>\n    </g>\n    <g id=\"ytick_13\">\n     <g id=\"line2d_22\">\n      <g>\n       <use style=\"stroke:#000000;stroke-width:0.8;\" x=\"95.672569\" xlink:href=\"#me7bb8233f0\" y=\"27.993397\"/>\n      </g>\n     </g>\n     <g id=\"text_22\">\n      <!-- signup\\_method -->\n      <g transform=\"translate(33.8258 30.760798)scale(0.08 -0.08)\">\n       <use transform=\"scale(0.996264)\" xlink:href=\"#CMR17-115\"/>\n       <use transform=\"translate(35.801338 0)scale(0.996264)\" xlink:href=\"#CMR17-105\"/>\n       <use transform=\"translate(60.672396 0)scale(0.996264)\" xlink:href=\"#CMR17-103\"/>\n       <use transform=\"translate(106.362873 0)scale(0.996264)\" xlink:href=\"#CMR17-110\"/>\n       <use transform=\"translate(154.655789 0)scale(0.996264)\" xlink:href=\"#CMR17-117\"/>\n       <use transform=\"translate(205.551159 0)scale(0.996264)\" xlink:href=\"#CMR17-112\"/>\n       <use transform=\"translate(289.343748 0)scale(0.996264)\" xlink:href=\"#CMR17-109\"/>\n       <use transform=\"translate(366.263338 0)scale(0.996264)\" xlink:href=\"#CMR17-101\"/>\n       <use transform=\"translate(406.748999 0)scale(0.996264)\" xlink:href=\"#CMR17-116\"/>\n       <use transform=\"translate(442.029766 0)scale(0.996264)\" xlink:href=\"#CMR17-104\"/>\n       <use transform=\"translate(492.925136 0)scale(0.996264)\" xlink:href=\"#CMR17-111\"/>\n       <use transform=\"translate(541.218052 0)scale(0.996264)\" xlink:href=\"#CMR17-100\"/>\n       <path d=\"M 261.929158 0 \nL 289.343748 0 \nL 289.343748 0.3985 \nL 261.929158 0.3985 \nL 261.929158 0 \nz\n\"/>\n      </g>\n     </g>\n    </g>\n    <g id=\"ytick_14\">\n     <g id=\"line2d_23\">\n      <g>\n       <use style=\"stroke:#000000;stroke-width:0.8;\" x=\"95.672569\" xlink:href=\"#me7bb8233f0\" y=\"14.131132\"/>\n      </g>\n     </g>\n     <g id=\"text_23\">\n      <!-- timestamp\\_first\\_active -->\n      <g transform=\"translate(7.2 16.898533)scale(0.08 -0.08)\">\n       <use transform=\"scale(0.996264)\" xlink:href=\"#CMR17-116\"/>\n       <use transform=\"translate(35.280768 0)scale(0.996264)\" xlink:href=\"#CMR17-105\"/>\n       <use transform=\"translate(60.151826 0)scale(0.996264)\" xlink:href=\"#CMR17-109\"/>\n       <use transform=\"translate(137.071416 0)scale(0.996264)\" xlink:href=\"#CMR17-101\"/>\n       <use transform=\"translate(177.557077 0)scale(0.996264)\" xlink:href=\"#CMR17-115\"/>\n       <use transform=\"translate(213.358414 0)scale(0.996264)\" xlink:href=\"#CMR17-116\"/>\n       <use transform=\"translate(248.639182 0)scale(0.996264)\" xlink:href=\"#CMR17-97\"/>\n       <use transform=\"translate(294.329659 0)scale(0.996264)\" xlink:href=\"#CMR17-109\"/>\n       <use transform=\"translate(371.249249 0)scale(0.996264)\" xlink:href=\"#CMR17-112\"/>\n       <use transform=\"translate(455.041838 0)scale(0.996264)\" xlink:href=\"#CMR17-12\"/>\n       <use transform=\"translate(504.784062 0)scale(0.996264)\" xlink:href=\"#CMR17-114\"/>\n       <use transform=\"translate(540.06483 0)scale(0.996264)\" xlink:href=\"#CMR17-115\"/>\n       <use transform=\"translate(575.866167 0)scale(0.996264)\" xlink:href=\"#CMR17-116\"/>\n       <use transform=\"translate(644.044154 0)scale(0.996264)\" xlink:href=\"#CMR17-97\"/>\n       <use transform=\"translate(689.734632 0)scale(0.996264)\" xlink:href=\"#CMR17-99\"/>\n       <use transform=\"translate(730.220292 0)scale(0.996264)\" xlink:href=\"#CMR17-116\"/>\n       <use transform=\"translate(765.50106 0)scale(0.996264)\" xlink:href=\"#CMR17-105\"/>\n       <use transform=\"translate(790.372118 0)scale(0.996264)\" xlink:href=\"#CMR17-118\"/>\n       <use transform=\"translate(836.06258 0)scale(0.996264)\" xlink:href=\"#CMR17-101\"/>\n       <path d=\"M 427.627248 0 \nL 455.041838 0 \nL 455.041838 0.3985 \nL 427.627248 0.3985 \nL 427.627248 0 \nz\n\"/>\n       <path d=\"M 616.629564 0 \nL 644.044154 0 \nL 644.044154 0.3985 \nL 616.629564 0.3985 \nL 616.629564 0 \nz\n\"/>\n      </g>\n     </g>\n    </g>\n   </g>\n   <g id=\"patch_17\">\n    <path d=\"M 95.672569 201.271704 \nL 95.672569 7.2 \n\" style=\"fill:none;stroke:#000000;stroke-linecap:square;stroke-linejoin:miter;stroke-width:0.8;\"/>\n   </g>\n   <g id=\"patch_18\">\n    <path d=\"M 418.00545 201.271704 \nL 418.00545 7.2 \n\" style=\"fill:none;stroke:#000000;stroke-linecap:square;stroke-linejoin:miter;stroke-width:0.8;\"/>\n   </g>\n   <g id=\"patch_19\">\n    <path d=\"M 95.672569 201.271704 \nL 418.00545 201.271704 \n\" style=\"fill:none;stroke:#000000;stroke-linecap:square;stroke-linejoin:miter;stroke-width:0.8;\"/>\n   </g>\n   <g id=\"patch_20\">\n    <path d=\"M 95.672569 7.2 \nL 418.00545 7.2 \n\" style=\"fill:none;stroke:#000000;stroke-linecap:square;stroke-linejoin:miter;stroke-width:0.8;\"/>\n   </g>\n  </g>\n </g>\n <defs>\n  <clipPath id=\"pfa1aa86350\">\n   <rect height=\"194.071704\" width=\"322.332881\" x=\"95.672569\" y=\"7.2\"/>\n  </clipPath>\n </defs>\n</svg>\n",
      "image/png": "[encoded data removed]"
     },
     "metadata": {
      "needs_background": "light"
     }
    }
   ],
   "source": [
    "plt = level_0_importances.plot(kind='barh', figsize=set_size(width, fraction=1))\n",
    "fig = plt.get_figure()\n",
    "fig.savefig('feature_importances.pdf', format='pdf', bbox_inches='tight')"
   ]
  },
  {
   "cell_type": "code",
   "execution_count": null,
   "metadata": {},
   "outputs": [],
   "source": []
  }
 ]
}