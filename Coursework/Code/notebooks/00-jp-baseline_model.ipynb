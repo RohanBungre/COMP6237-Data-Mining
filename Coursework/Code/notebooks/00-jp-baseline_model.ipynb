{
 "metadata": {
  "language_info": {
   "codemirror_mode": {
    "name": "ipython",
    "version": 3
   },
   "file_extension": ".py",
   "mimetype": "text/x-python",
   "name": "python",
   "nbconvert_exporter": "python",
   "pygments_lexer": "ipython3",
   "version": "3.8.5-final"
  },
  "orig_nbformat": 2,
  "kernelspec": {
   "name": "python3",
   "display_name": "Python 3",
   "language": "python"
  }
 },
 "nbformat": 4,
 "nbformat_minor": 2,
 "cells": [
  {
   "source": [
    "# Popularity Benchmark"
   ],
   "cell_type": "markdown",
   "metadata": {}
  },
  {
   "cell_type": "code",
   "execution_count": 1,
   "metadata": {},
   "outputs": [],
   "source": [
    "import pandas as pd"
   ]
  },
  {
   "cell_type": "code",
   "execution_count": 2,
   "metadata": {},
   "outputs": [],
   "source": [
    "train = pd.read_csv(\"../data/raw/train_users_2.csv\")\n",
    "test = pd.read_csv(\"../data/raw/test_users.csv\")"
   ]
  },
  {
   "cell_type": "code",
   "execution_count": 3,
   "metadata": {},
   "outputs": [
    {
     "output_type": "execute_result",
     "data": {
      "text/plain": [
       "                id date_account_created  timestamp_first_active  \\\n",
       "0       gxn3p5htnn           2010-06-28          20090319043255   \n",
       "1       820tgsjxq7           2011-05-25          20090523174809   \n",
       "2       4ft3gnwmtx           2010-09-28          20090609231247   \n",
       "3       bjjt8pjhuk           2011-12-05          20091031060129   \n",
       "4       87mebub9p4           2010-09-14          20091208061105   \n",
       "...            ...                  ...                     ...   \n",
       "213446  zxodksqpep           2014-06-30          20140630235636   \n",
       "213447  mhewnxesx9           2014-06-30          20140630235719   \n",
       "213448  6o3arsjbb4           2014-06-30          20140630235754   \n",
       "213449  jh95kwisub           2014-06-30          20140630235822   \n",
       "213450  nw9fwlyb5f           2014-06-30          20140630235824   \n",
       "\n",
       "       date_first_booking     gender   age signup_method  signup_flow  \\\n",
       "0                     NaN  -unknown-   NaN      facebook            0   \n",
       "1                     NaN       MALE  38.0      facebook            0   \n",
       "2              2010-08-02     FEMALE  56.0         basic            3   \n",
       "3              2012-09-08     FEMALE  42.0      facebook            0   \n",
       "4              2010-02-18  -unknown-  41.0         basic            0   \n",
       "...                   ...        ...   ...           ...          ...   \n",
       "213446                NaN       MALE  32.0         basic            0   \n",
       "213447                NaN  -unknown-   NaN         basic            0   \n",
       "213448                NaN  -unknown-  32.0         basic            0   \n",
       "213449                NaN  -unknown-   NaN         basic           25   \n",
       "213450                NaN  -unknown-   NaN         basic           25   \n",
       "\n",
       "       language affiliate_channel affiliate_provider first_affiliate_tracked  \\\n",
       "0            en            direct             direct               untracked   \n",
       "1            en               seo             google               untracked   \n",
       "2            en            direct             direct               untracked   \n",
       "3            en            direct             direct               untracked   \n",
       "4            en            direct             direct               untracked   \n",
       "...         ...               ...                ...                     ...   \n",
       "213446       en         sem-brand             google                     omg   \n",
       "213447       en            direct             direct                  linked   \n",
       "213448       en            direct             direct               untracked   \n",
       "213449       en             other              other           tracked-other   \n",
       "213450       en            direct             direct               untracked   \n",
       "\n",
       "       signup_app first_device_type  first_browser country_destination  \n",
       "0             Web       Mac Desktop         Chrome                 NDF  \n",
       "1             Web       Mac Desktop         Chrome                 NDF  \n",
       "2             Web   Windows Desktop             IE                  US  \n",
       "3             Web       Mac Desktop        Firefox               other  \n",
       "4             Web       Mac Desktop         Chrome                  US  \n",
       "...           ...               ...            ...                 ...  \n",
       "213446        Web       Mac Desktop         Safari                 NDF  \n",
       "213447        Web   Windows Desktop         Chrome                 NDF  \n",
       "213448        Web       Mac Desktop        Firefox                 NDF  \n",
       "213449        iOS            iPhone  Mobile Safari                 NDF  \n",
       "213450        iOS            iPhone      -unknown-                 NDF  \n",
       "\n",
       "[213451 rows x 16 columns]"
      ],
      "text/html": "<div>\n<style scoped>\n    .dataframe tbody tr th:only-of-type {\n        vertical-align: middle;\n    }\n\n    .dataframe tbody tr th {\n        vertical-align: top;\n    }\n\n    .dataframe thead th {\n        text-align: right;\n    }\n</style>\n<table border=\"1\" class=\"dataframe\">\n  <thead>\n    <tr style=\"text-align: right;\">\n      <th></th>\n      <th>id</th>\n      <th>date_account_created</th>\n      <th>timestamp_first_active</th>\n      <th>date_first_booking</th>\n      <th>gender</th>\n      <th>age</th>\n      <th>signup_method</th>\n      <th>signup_flow</th>\n      <th>language</th>\n      <th>affiliate_channel</th>\n      <th>affiliate_provider</th>\n      <th>first_affiliate_tracked</th>\n      <th>signup_app</th>\n      <th>first_device_type</th>\n      <th>first_browser</th>\n      <th>country_destination</th>\n    </tr>\n  </thead>\n  <tbody>\n    <tr>\n      <th>0</th>\n      <td>gxn3p5htnn</td>\n      <td>2010-06-28</td>\n      <td>20090319043255</td>\n      <td>NaN</td>\n      <td>-unknown-</td>\n      <td>NaN</td>\n      <td>facebook</td>\n      <td>0</td>\n      <td>en</td>\n      <td>direct</td>\n      <td>direct</td>\n      <td>untracked</td>\n      <td>Web</td>\n      <td>Mac Desktop</td>\n      <td>Chrome</td>\n      <td>NDF</td>\n    </tr>\n    <tr>\n      <th>1</th>\n      <td>820tgsjxq7</td>\n      <td>2011-05-25</td>\n      <td>20090523174809</td>\n      <td>NaN</td>\n      <td>MALE</td>\n      <td>38.0</td>\n      <td>facebook</td>\n      <td>0</td>\n      <td>en</td>\n      <td>seo</td>\n      <td>google</td>\n      <td>untracked</td>\n      <td>Web</td>\n      <td>Mac Desktop</td>\n      <td>Chrome</td>\n      <td>NDF</td>\n    </tr>\n    <tr>\n      <th>2</th>\n      <td>4ft3gnwmtx</td>\n      <td>2010-09-28</td>\n      <td>20090609231247</td>\n      <td>2010-08-02</td>\n      <td>FEMALE</td>\n      <td>56.0</td>\n      <td>basic</td>\n      <td>3</td>\n      <td>en</td>\n      <td>direct</td>\n      <td>direct</td>\n      <td>untracked</td>\n      <td>Web</td>\n      <td>Windows Desktop</td>\n      <td>IE</td>\n      <td>US</td>\n    </tr>\n    <tr>\n      <th>3</th>\n      <td>bjjt8pjhuk</td>\n      <td>2011-12-05</td>\n      <td>20091031060129</td>\n      <td>2012-09-08</td>\n      <td>FEMALE</td>\n      <td>42.0</td>\n      <td>facebook</td>\n      <td>0</td>\n      <td>en</td>\n      <td>direct</td>\n      <td>direct</td>\n      <td>untracked</td>\n      <td>Web</td>\n      <td>Mac Desktop</td>\n      <td>Firefox</td>\n      <td>other</td>\n    </tr>\n    <tr>\n      <th>4</th>\n      <td>87mebub9p4</td>\n      <td>2010-09-14</td>\n      <td>20091208061105</td>\n      <td>2010-02-18</td>\n      <td>-unknown-</td>\n      <td>41.0</td>\n      <td>basic</td>\n      <td>0</td>\n      <td>en</td>\n      <td>direct</td>\n      <td>direct</td>\n      <td>untracked</td>\n      <td>Web</td>\n      <td>Mac Desktop</td>\n      <td>Chrome</td>\n      <td>US</td>\n    </tr>\n    <tr>\n      <th>...</th>\n      <td>...</td>\n      <td>...</td>\n      <td>...</td>\n      <td>...</td>\n      <td>...</td>\n      <td>...</td>\n      <td>...</td>\n      <td>...</td>\n      <td>...</td>\n      <td>...</td>\n      <td>...</td>\n      <td>...</td>\n      <td>...</td>\n      <td>...</td>\n      <td>...</td>\n      <td>...</td>\n    </tr>\n    <tr>\n      <th>213446</th>\n      <td>zxodksqpep</td>\n      <td>2014-06-30</td>\n      <td>20140630235636</td>\n      <td>NaN</td>\n      <td>MALE</td>\n      <td>32.0</td>\n      <td>basic</td>\n      <td>0</td>\n      <td>en</td>\n      <td>sem-brand</td>\n      <td>google</td>\n      <td>omg</td>\n      <td>Web</td>\n      <td>Mac Desktop</td>\n      <td>Safari</td>\n      <td>NDF</td>\n    </tr>\n    <tr>\n      <th>213447</th>\n      <td>mhewnxesx9</td>\n      <td>2014-06-30</td>\n      <td>20140630235719</td>\n      <td>NaN</td>\n      <td>-unknown-</td>\n      <td>NaN</td>\n      <td>basic</td>\n      <td>0</td>\n      <td>en</td>\n      <td>direct</td>\n      <td>direct</td>\n      <td>linked</td>\n      <td>Web</td>\n      <td>Windows Desktop</td>\n      <td>Chrome</td>\n      <td>NDF</td>\n    </tr>\n    <tr>\n      <th>213448</th>\n      <td>6o3arsjbb4</td>\n      <td>2014-06-30</td>\n      <td>20140630235754</td>\n      <td>NaN</td>\n      <td>-unknown-</td>\n      <td>32.0</td>\n      <td>basic</td>\n      <td>0</td>\n      <td>en</td>\n      <td>direct</td>\n      <td>direct</td>\n      <td>untracked</td>\n      <td>Web</td>\n      <td>Mac Desktop</td>\n      <td>Firefox</td>\n      <td>NDF</td>\n    </tr>\n    <tr>\n      <th>213449</th>\n      <td>jh95kwisub</td>\n      <td>2014-06-30</td>\n      <td>20140630235822</td>\n      <td>NaN</td>\n      <td>-unknown-</td>\n      <td>NaN</td>\n      <td>basic</td>\n      <td>25</td>\n      <td>en</td>\n      <td>other</td>\n      <td>other</td>\n      <td>tracked-other</td>\n      <td>iOS</td>\n      <td>iPhone</td>\n      <td>Mobile Safari</td>\n      <td>NDF</td>\n    </tr>\n    <tr>\n      <th>213450</th>\n      <td>nw9fwlyb5f</td>\n      <td>2014-06-30</td>\n      <td>20140630235824</td>\n      <td>NaN</td>\n      <td>-unknown-</td>\n      <td>NaN</td>\n      <td>basic</td>\n      <td>25</td>\n      <td>en</td>\n      <td>direct</td>\n      <td>direct</td>\n      <td>untracked</td>\n      <td>iOS</td>\n      <td>iPhone</td>\n      <td>-unknown-</td>\n      <td>NDF</td>\n    </tr>\n  </tbody>\n</table>\n<p>213451 rows × 16 columns</p>\n</div>"
     },
     "metadata": {},
     "execution_count": 3
    }
   ],
   "source": [
    "train"
   ]
  },
  {
   "cell_type": "code",
   "execution_count": 4,
   "metadata": {},
   "outputs": [
    {
     "output_type": "execute_result",
     "data": {
      "text/plain": [
       "NDF      124543\n",
       "US        62376\n",
       "other     10094\n",
       "FR         5023\n",
       "IT         2835\n",
       "GB         2324\n",
       "ES         2249\n",
       "CA         1428\n",
       "DE         1061\n",
       "NL          762\n",
       "AU          539\n",
       "PT          217\n",
       "Name: country_destination, dtype: int64"
      ]
     },
     "metadata": {},
     "execution_count": 4
    }
   ],
   "source": [
    "destination_counts = train[\"country_destination\"].value_counts()\n",
    "destination_counts"
   ]
  },
  {
   "cell_type": "code",
   "execution_count": 5,
   "metadata": {},
   "outputs": [
    {
     "output_type": "execute_result",
     "data": {
      "text/plain": [
       "['NDF', 'US', 'other', 'FR', 'IT']"
      ]
     },
     "metadata": {},
     "execution_count": 5
    }
   ],
   "source": [
    "top_5 = list(destination_counts[:5].index)\n",
    "top_5"
   ]
  },
  {
   "cell_type": "code",
   "execution_count": 6,
   "metadata": {
    "tags": []
   },
   "outputs": [],
   "source": [
    "results = []\n",
    "for id in test[\"id\"]:\n",
    "    for country in top_5:\n",
    "        results.append((id, country))"
   ]
  },
  {
   "cell_type": "code",
   "execution_count": 7,
   "metadata": {},
   "outputs": [
    {
     "output_type": "execute_result",
     "data": {
      "text/plain": [
       "                id country\n",
       "0       5uwns89zht     NDF\n",
       "1       5uwns89zht      US\n",
       "2       5uwns89zht   other\n",
       "3       5uwns89zht      FR\n",
       "4       5uwns89zht      IT\n",
       "...            ...     ...\n",
       "310475  9uqfg8txu3     NDF\n",
       "310476  9uqfg8txu3      US\n",
       "310477  9uqfg8txu3   other\n",
       "310478  9uqfg8txu3      FR\n",
       "310479  9uqfg8txu3      IT\n",
       "\n",
       "[310480 rows x 2 columns]"
      ],
      "text/html": "<div>\n<style scoped>\n    .dataframe tbody tr th:only-of-type {\n        vertical-align: middle;\n    }\n\n    .dataframe tbody tr th {\n        vertical-align: top;\n    }\n\n    .dataframe thead th {\n        text-align: right;\n    }\n</style>\n<table border=\"1\" class=\"dataframe\">\n  <thead>\n    <tr style=\"text-align: right;\">\n      <th></th>\n      <th>id</th>\n      <th>country</th>\n    </tr>\n  </thead>\n  <tbody>\n    <tr>\n      <th>0</th>\n      <td>5uwns89zht</td>\n      <td>NDF</td>\n    </tr>\n    <tr>\n      <th>1</th>\n      <td>5uwns89zht</td>\n      <td>US</td>\n    </tr>\n    <tr>\n      <th>2</th>\n      <td>5uwns89zht</td>\n      <td>other</td>\n    </tr>\n    <tr>\n      <th>3</th>\n      <td>5uwns89zht</td>\n      <td>FR</td>\n    </tr>\n    <tr>\n      <th>4</th>\n      <td>5uwns89zht</td>\n      <td>IT</td>\n    </tr>\n    <tr>\n      <th>...</th>\n      <td>...</td>\n      <td>...</td>\n    </tr>\n    <tr>\n      <th>310475</th>\n      <td>9uqfg8txu3</td>\n      <td>NDF</td>\n    </tr>\n    <tr>\n      <th>310476</th>\n      <td>9uqfg8txu3</td>\n      <td>US</td>\n    </tr>\n    <tr>\n      <th>310477</th>\n      <td>9uqfg8txu3</td>\n      <td>other</td>\n    </tr>\n    <tr>\n      <th>310478</th>\n      <td>9uqfg8txu3</td>\n      <td>FR</td>\n    </tr>\n    <tr>\n      <th>310479</th>\n      <td>9uqfg8txu3</td>\n      <td>IT</td>\n    </tr>\n  </tbody>\n</table>\n<p>310480 rows × 2 columns</p>\n</div>"
     },
     "metadata": {},
     "execution_count": 7
    }
   ],
   "source": [
    "results_df = pd.DataFrame(results)\n",
    "results_df.rename(columns={0: \"id\", 1: \"country\"}, inplace=True)\n",
    "results_df"
   ]
  },
  {
   "cell_type": "code",
   "execution_count": 8,
   "metadata": {},
   "outputs": [],
   "source": [
    "results_df.to_csv(\"baseline_results.csv\", index=False)"
   ]
  },
  {
   "cell_type": "code",
   "execution_count": null,
   "metadata": {},
   "outputs": [],
   "source": []
  }
 ]
}