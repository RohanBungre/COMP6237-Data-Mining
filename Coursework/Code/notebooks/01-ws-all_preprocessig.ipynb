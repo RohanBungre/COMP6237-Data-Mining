{
 "metadata": {
  "language_info": {
   "codemirror_mode": {
    "name": "ipython",
    "version": 3
   },
   "file_extension": ".py",
   "mimetype": "text/x-python",
   "name": "python",
   "nbconvert_exporter": "python",
   "pygments_lexer": "ipython3",
   "version": 3
  },
  "orig_nbformat": 2
 },
 "nbformat": 4,
 "nbformat_minor": 2,
 "cells": [
  {
   "source": [
    "## Basic function design for preprocessing pipeline while waiting for merge"
   ],
   "cell_type": "markdown",
   "metadata": {}
  },
  {
   "cell_type": "code",
   "execution_count": null,
   "metadata": {},
   "outputs": [],
   "source": [
    "# for the fit function \n",
    "def make_broswer_map(df):\n",
    "    browser_map = {}\n",
    "    browser_percents = (df[\"first_browser\"].value_counts() / df[\"first_browser\"].count()) * 100\n",
    "    for browser, percent in browser_percents.items():\n",
    "        split = browser.split(\" \")\n",
    "        if \"Mobile\" in split:\n",
    "            split.remove(\"Mobile\")\n",
    "            browser_map[browser] = \"\".join(split)\n",
    "        elif percent > 0.5:\n",
    "            browser_map[browser] = browser\n",
    "        else:\n",
    "            browser_map[browser] = \"Other\"\n",
    "\n",
    "    browser_map['Mozilla'] = \"Firefox\"    \n",
    "    browser_map[\"Opera Mobile\"] = \"Other\"\n",
    "\n",
    "    return browser_map\n",
    "\n",
    "# for the transform function\n",
    "def transform_browser(df, mapping):\n",
    "    df[\"first_browser_map\"] = train_users_df[\"first_browser\"].map(mapping)"
   ]
  },
  {
   "cell_type": "code",
   "execution_count": null,
   "metadata": {},
   "outputs": [],
   "source": [
    "def fit_hardware_map(df):\n",
    "    hardware_map = {}\n",
    "\n",
    "    unique_devices = df[\"fist_device_type\"].unique().tolist()\n",
    "    \n",
    "    for device in unique_devices:\n",
    "        words = [x.lower() for x in device.split(\" \")]\n",
    "        phones = [\"phone\", \"iphone\", \"smartphone\"]\n",
    "\n",
    "        if \"desktop\" in words:\n",
    "            hardware_map[device] = \"Desktop\"\n",
    "        \n",
    "        elif any(d in phones for d in words):\n",
    "            hardware_map[device] = \"Phone\"\n",
    "        \n",
    "        elif \"tablet\" in words or \"iPad\" in words:\n",
    "            hardware_map[device] = \"Tablet\"\n",
    "        \n",
    "        else:\n",
    "            hardware_map[device] = \"Other\"\n",
    "\n",
    "    return hardware_map\n",
    "\n",
    "\n",
    "def transform_device_to_hardware(df, mapping):\n",
    "    df[\"Hardware\"] = df[\"first_device_type\"].map(mapping)\n",
    "    return df"
   ]
  }
 ]
}