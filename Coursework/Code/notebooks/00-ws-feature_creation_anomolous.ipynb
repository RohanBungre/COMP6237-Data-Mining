{
 "metadata": {
  "language_info": {
   "codemirror_mode": {
    "name": "ipython",
    "version": 3
   },
   "file_extension": ".py",
   "mimetype": "text/x-python",
   "name": "python",
   "nbconvert_exporter": "python",
   "pygments_lexer": "ipython3",
   "version": "3.7.6-final"
  },
  "orig_nbformat": 2,
  "kernelspec": {
   "name": "python3",
   "display_name": "Python 3.7.6 64-bit (conda)",
   "metadata": {
    "interpreter": {
     "hash": "95f1bd513179ec155b64d390ddcc9bcad71f0907251713515d1de287f8f762de"
    }
   }
  }
 },
 "nbformat": 4,
 "nbformat_minor": 2,
 "cells": [
  {
   "cell_type": "code",
   "execution_count": 8,
   "metadata": {},
   "outputs": [],
   "source": [
    "import pandas as pd"
   ]
  },
  {
   "cell_type": "code",
   "execution_count": 9,
   "metadata": {},
   "outputs": [
    {
     "output_type": "execute_result",
     "data": {
      "text/plain": [
       "                     lat_destination  lng_destination  distance_km  \\\n",
       "country_destination                                                  \n",
       "AU                        -26.853388       133.275160   15297.7440   \n",
       "CA                         62.393303       -96.818146    2828.1333   \n",
       "DE                         51.165707        10.452764    7879.5680   \n",
       "ES                         39.896027        -2.487694    7730.7240   \n",
       "FR                         46.232193         2.209667    7682.9450   \n",
       "\n",
       "                     destination_km2 destination_language   \\\n",
       "country_destination                                          \n",
       "AU                         7741220.0                   eng   \n",
       "CA                         9984670.0                   eng   \n",
       "DE                          357022.0                   deu   \n",
       "ES                          505370.0                   spa   \n",
       "FR                          643801.0                   fra   \n",
       "\n",
       "                     language_levenshtein_distance  \n",
       "country_destination                                 \n",
       "AU                                            0.00  \n",
       "CA                                            0.00  \n",
       "DE                                           72.61  \n",
       "ES                                           92.25  \n",
       "FR                                           92.06  "
      ],
      "text/html": "<div>\n<style scoped>\n    .dataframe tbody tr th:only-of-type {\n        vertical-align: middle;\n    }\n\n    .dataframe tbody tr th {\n        vertical-align: top;\n    }\n\n    .dataframe thead th {\n        text-align: right;\n    }\n</style>\n<table border=\"1\" class=\"dataframe\">\n  <thead>\n    <tr style=\"text-align: right;\">\n      <th></th>\n      <th>lat_destination</th>\n      <th>lng_destination</th>\n      <th>distance_km</th>\n      <th>destination_km2</th>\n      <th>destination_language</th>\n      <th>language_levenshtein_distance</th>\n    </tr>\n    <tr>\n      <th>country_destination</th>\n      <th></th>\n      <th></th>\n      <th></th>\n      <th></th>\n      <th></th>\n      <th></th>\n    </tr>\n  </thead>\n  <tbody>\n    <tr>\n      <th>AU</th>\n      <td>-26.853388</td>\n      <td>133.275160</td>\n      <td>15297.7440</td>\n      <td>7741220.0</td>\n      <td>eng</td>\n      <td>0.00</td>\n    </tr>\n    <tr>\n      <th>CA</th>\n      <td>62.393303</td>\n      <td>-96.818146</td>\n      <td>2828.1333</td>\n      <td>9984670.0</td>\n      <td>eng</td>\n      <td>0.00</td>\n    </tr>\n    <tr>\n      <th>DE</th>\n      <td>51.165707</td>\n      <td>10.452764</td>\n      <td>7879.5680</td>\n      <td>357022.0</td>\n      <td>deu</td>\n      <td>72.61</td>\n    </tr>\n    <tr>\n      <th>ES</th>\n      <td>39.896027</td>\n      <td>-2.487694</td>\n      <td>7730.7240</td>\n      <td>505370.0</td>\n      <td>spa</td>\n      <td>92.25</td>\n    </tr>\n    <tr>\n      <th>FR</th>\n      <td>46.232193</td>\n      <td>2.209667</td>\n      <td>7682.9450</td>\n      <td>643801.0</td>\n      <td>fra</td>\n      <td>92.06</td>\n    </tr>\n  </tbody>\n</table>\n</div>"
     },
     "metadata": {},
     "execution_count": 9
    }
   ],
   "source": [
    "countries_df = pd.read_csv(\"..\\\\data\\\\raw\\\\countries.csv\", index_col=\"country_destination\")\n",
    "countries_df.head()"
   ]
  },
  {
   "cell_type": "code",
   "execution_count": 10,
   "metadata": {},
   "outputs": [],
   "source": [
    "from geopy.distance import geodesic\n",
    "\n",
    "def distance_between_locations(country_1, country_2):\n",
    "    coords_1 = (countries_df.loc[country_1, \"lat_destination\"], countries_df.loc[country_1, \"lng_destination\"])\n",
    "    coords_2 = (countries_df.loc[country_2, \"lat_destination\"], countries_df.loc[country_2, \"lng_destination\"])\n",
    "    return round(geodesic(coords_1, coords_2).km, 2)"
   ]
  },
  {
   "cell_type": "code",
   "execution_count": 11,
   "metadata": {},
   "outputs": [
    {
     "output_type": "stream",
     "name": "stdout",
     "text": [
      "14636.98\n"
     ]
    }
   ],
   "source": [
    "print(distance_between_locations(\"AU\", \"CA\"))"
   ]
  },
  {
   "cell_type": "code",
   "execution_count": 12,
   "metadata": {},
   "outputs": [
    {
     "output_type": "execute_result",
     "data": {
      "text/plain": [
       "           date_account_created  timestamp_first_active date_first_booking  \\\n",
       "id                                                                           \n",
       "gxn3p5htnn           2010-06-28          20090319043255                NaN   \n",
       "820tgsjxq7           2011-05-25          20090523174809                NaN   \n",
       "4ft3gnwmtx           2010-09-28          20090609231247         2010-08-02   \n",
       "bjjt8pjhuk           2011-12-05          20091031060129         2012-09-08   \n",
       "87mebub9p4           2010-09-14          20091208061105         2010-02-18   \n",
       "\n",
       "               gender   age signup_method  signup_flow language  \\\n",
       "id                                                                \n",
       "gxn3p5htnn  -unknown-   NaN      facebook            0       en   \n",
       "820tgsjxq7       MALE  38.0      facebook            0       en   \n",
       "4ft3gnwmtx     FEMALE  56.0         basic            3       en   \n",
       "bjjt8pjhuk     FEMALE  42.0      facebook            0       en   \n",
       "87mebub9p4  -unknown-  41.0         basic            0       en   \n",
       "\n",
       "           affiliate_channel affiliate_provider first_affiliate_tracked  \\\n",
       "id                                                                        \n",
       "gxn3p5htnn            direct             direct               untracked   \n",
       "820tgsjxq7               seo             google               untracked   \n",
       "4ft3gnwmtx            direct             direct               untracked   \n",
       "bjjt8pjhuk            direct             direct               untracked   \n",
       "87mebub9p4            direct             direct               untracked   \n",
       "\n",
       "           signup_app first_device_type first_browser country_destination  \n",
       "id                                                                         \n",
       "gxn3p5htnn        Web       Mac Desktop        Chrome                 NDF  \n",
       "820tgsjxq7        Web       Mac Desktop        Chrome                 NDF  \n",
       "4ft3gnwmtx        Web   Windows Desktop            IE                  US  \n",
       "bjjt8pjhuk        Web       Mac Desktop       Firefox               other  \n",
       "87mebub9p4        Web       Mac Desktop        Chrome                  US  "
      ],
      "text/html": "<div>\n<style scoped>\n    .dataframe tbody tr th:only-of-type {\n        vertical-align: middle;\n    }\n\n    .dataframe tbody tr th {\n        vertical-align: top;\n    }\n\n    .dataframe thead th {\n        text-align: right;\n    }\n</style>\n<table border=\"1\" class=\"dataframe\">\n  <thead>\n    <tr style=\"text-align: right;\">\n      <th></th>\n      <th>date_account_created</th>\n      <th>timestamp_first_active</th>\n      <th>date_first_booking</th>\n      <th>gender</th>\n      <th>age</th>\n      <th>signup_method</th>\n      <th>signup_flow</th>\n      <th>language</th>\n      <th>affiliate_channel</th>\n      <th>affiliate_provider</th>\n      <th>first_affiliate_tracked</th>\n      <th>signup_app</th>\n      <th>first_device_type</th>\n      <th>first_browser</th>\n      <th>country_destination</th>\n    </tr>\n    <tr>\n      <th>id</th>\n      <th></th>\n      <th></th>\n      <th></th>\n      <th></th>\n      <th></th>\n      <th></th>\n      <th></th>\n      <th></th>\n      <th></th>\n      <th></th>\n      <th></th>\n      <th></th>\n      <th></th>\n      <th></th>\n      <th></th>\n    </tr>\n  </thead>\n  <tbody>\n    <tr>\n      <th>gxn3p5htnn</th>\n      <td>2010-06-28</td>\n      <td>20090319043255</td>\n      <td>NaN</td>\n      <td>-unknown-</td>\n      <td>NaN</td>\n      <td>facebook</td>\n      <td>0</td>\n      <td>en</td>\n      <td>direct</td>\n      <td>direct</td>\n      <td>untracked</td>\n      <td>Web</td>\n      <td>Mac Desktop</td>\n      <td>Chrome</td>\n      <td>NDF</td>\n    </tr>\n    <tr>\n      <th>820tgsjxq7</th>\n      <td>2011-05-25</td>\n      <td>20090523174809</td>\n      <td>NaN</td>\n      <td>MALE</td>\n      <td>38.0</td>\n      <td>facebook</td>\n      <td>0</td>\n      <td>en</td>\n      <td>seo</td>\n      <td>google</td>\n      <td>untracked</td>\n      <td>Web</td>\n      <td>Mac Desktop</td>\n      <td>Chrome</td>\n      <td>NDF</td>\n    </tr>\n    <tr>\n      <th>4ft3gnwmtx</th>\n      <td>2010-09-28</td>\n      <td>20090609231247</td>\n      <td>2010-08-02</td>\n      <td>FEMALE</td>\n      <td>56.0</td>\n      <td>basic</td>\n      <td>3</td>\n      <td>en</td>\n      <td>direct</td>\n      <td>direct</td>\n      <td>untracked</td>\n      <td>Web</td>\n      <td>Windows Desktop</td>\n      <td>IE</td>\n      <td>US</td>\n    </tr>\n    <tr>\n      <th>bjjt8pjhuk</th>\n      <td>2011-12-05</td>\n      <td>20091031060129</td>\n      <td>2012-09-08</td>\n      <td>FEMALE</td>\n      <td>42.0</td>\n      <td>facebook</td>\n      <td>0</td>\n      <td>en</td>\n      <td>direct</td>\n      <td>direct</td>\n      <td>untracked</td>\n      <td>Web</td>\n      <td>Mac Desktop</td>\n      <td>Firefox</td>\n      <td>other</td>\n    </tr>\n    <tr>\n      <th>87mebub9p4</th>\n      <td>2010-09-14</td>\n      <td>20091208061105</td>\n      <td>2010-02-18</td>\n      <td>-unknown-</td>\n      <td>41.0</td>\n      <td>basic</td>\n      <td>0</td>\n      <td>en</td>\n      <td>direct</td>\n      <td>direct</td>\n      <td>untracked</td>\n      <td>Web</td>\n      <td>Mac Desktop</td>\n      <td>Chrome</td>\n      <td>US</td>\n    </tr>\n  </tbody>\n</table>\n</div>"
     },
     "metadata": {},
     "execution_count": 12
    }
   ],
   "source": [
    "train_df = pd.read_csv(\"..\\\\data\\\\raw\\\\train_users_2.csv\", index_col='id')\n",
    "train_df.head()"
   ]
  },
  {
   "source": [
    "We can't do user distance to each of the destinations as the training dataset doesn't have the users location, and some users have languages that aren't in our dataset so we would have to build or find our own levenshtein distance which could be difficult\n",
    "\n",
    "\n",
    "Moving onto remove the anomolous ages"
   ],
   "cell_type": "markdown",
   "metadata": {}
  },
  {
   "cell_type": "code",
   "execution_count": 13,
   "metadata": {},
   "outputs": [
    {
     "output_type": "execute_result",
     "data": {
      "text/plain": [
       "                 age\n",
       "count  125461.000000\n",
       "mean       49.668335\n",
       "std       155.666612\n",
       "min         1.000000\n",
       "25%        28.000000\n",
       "50%        34.000000\n",
       "75%        43.000000\n",
       "max      2014.000000"
      ],
      "text/html": "<div>\n<style scoped>\n    .dataframe tbody tr th:only-of-type {\n        vertical-align: middle;\n    }\n\n    .dataframe tbody tr th {\n        vertical-align: top;\n    }\n\n    .dataframe thead th {\n        text-align: right;\n    }\n</style>\n<table border=\"1\" class=\"dataframe\">\n  <thead>\n    <tr style=\"text-align: right;\">\n      <th></th>\n      <th>age</th>\n    </tr>\n  </thead>\n  <tbody>\n    <tr>\n      <th>count</th>\n      <td>125461.000000</td>\n    </tr>\n    <tr>\n      <th>mean</th>\n      <td>49.668335</td>\n    </tr>\n    <tr>\n      <th>std</th>\n      <td>155.666612</td>\n    </tr>\n    <tr>\n      <th>min</th>\n      <td>1.000000</td>\n    </tr>\n    <tr>\n      <th>25%</th>\n      <td>28.000000</td>\n    </tr>\n    <tr>\n      <th>50%</th>\n      <td>34.000000</td>\n    </tr>\n    <tr>\n      <th>75%</th>\n      <td>43.000000</td>\n    </tr>\n    <tr>\n      <th>max</th>\n      <td>2014.000000</td>\n    </tr>\n  </tbody>\n</table>\n</div>"
     },
     "metadata": {},
     "execution_count": 13
    }
   ],
   "source": [
    "train_df[[\"age\"]].describe()"
   ]
  },
  {
   "cell_type": "code",
   "execution_count": 14,
   "metadata": {},
   "outputs": [],
   "source": [
    "# you must be 18 years old to book on air bnb so we can remove any younger users\n",
    "def remove_anomalous(df):\n",
    "    return df.drop(df[(df.age < 18) | (df.age > 100)].index)"
   ]
  },
  {
   "cell_type": "code",
   "execution_count": 15,
   "metadata": {},
   "outputs": [
    {
     "output_type": "execute_result",
     "data": {
      "text/plain": [
       "                 age\n",
       "count  122958.000000\n",
       "mean       36.575619\n",
       "std        11.681366\n",
       "min        18.000000\n",
       "25%        28.000000\n",
       "50%        34.000000\n",
       "75%        42.000000\n",
       "max       100.000000"
      ],
      "text/html": "<div>\n<style scoped>\n    .dataframe tbody tr th:only-of-type {\n        vertical-align: middle;\n    }\n\n    .dataframe tbody tr th {\n        vertical-align: top;\n    }\n\n    .dataframe thead th {\n        text-align: right;\n    }\n</style>\n<table border=\"1\" class=\"dataframe\">\n  <thead>\n    <tr style=\"text-align: right;\">\n      <th></th>\n      <th>age</th>\n    </tr>\n  </thead>\n  <tbody>\n    <tr>\n      <th>count</th>\n      <td>122958.000000</td>\n    </tr>\n    <tr>\n      <th>mean</th>\n      <td>36.575619</td>\n    </tr>\n    <tr>\n      <th>std</th>\n      <td>11.681366</td>\n    </tr>\n    <tr>\n      <th>min</th>\n      <td>18.000000</td>\n    </tr>\n    <tr>\n      <th>25%</th>\n      <td>28.000000</td>\n    </tr>\n    <tr>\n      <th>50%</th>\n      <td>34.000000</td>\n    </tr>\n    <tr>\n      <th>75%</th>\n      <td>42.000000</td>\n    </tr>\n    <tr>\n      <th>max</th>\n      <td>100.000000</td>\n    </tr>\n  </tbody>\n</table>\n</div>"
     },
     "metadata": {},
     "execution_count": 15
    }
   ],
   "source": [
    "remove_anomalous(train_df)[[\"age\"]].describe()"
   ]
  },
  {
   "source": [
    "We have dropped (125461 - 122958) 2503 entries from the df\n",
    "\n",
    "\n",
    "Looking at other variables in the training dataset it is unlikely that there will be any other places where we can remove anomolous data entries"
   ],
   "cell_type": "markdown",
   "metadata": {}
  }
 ]
}